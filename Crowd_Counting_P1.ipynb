{
  "nbformat": 4,
  "nbformat_minor": 0,
  "metadata": {
    "accelerator": "GPU",
    "colab": {
      "name": "Crowd Counting P1.ipynb",
      "provenance": [],
      "collapsed_sections": [],
      "machine_shape": "hm",
      "include_colab_link": true
    },
    "kernelspec": {
      "display_name": "Python 3",
      "name": "python3"
    }
  },
  "cells": [
    {
      "cell_type": "markdown",
      "metadata": {
        "id": "view-in-github",
        "colab_type": "text"
      },
      "source": [
        "<a href=\"https://colab.research.google.com/github/ManavFCB/Crowd-Counting/blob/master/Crowd_Counting_P1.ipynb\" target=\"_parent\"><img src=\"https://colab.research.google.com/assets/colab-badge.svg\" alt=\"Open In Colab\"/></a>"
      ]
    },
    {
      "cell_type": "code",
      "metadata": {
        "id": "wZf9-8tohYgj"
      },
      "source": [
        "import cv2\r\n",
        "from google.colab.patches import cv2_imshow\r\n",
        "import numpy as np\r\n",
        "import os\r\n",
        "from google.colab import drive\r\n",
        "import pandas as pd\r\n",
        "from scipy.ndimage import gaussian_filter\r\n",
        "import tensorflow as tf\r\n",
        "from tensorflow.keras import layers, models\r\n",
        "from sklearn.neighbors import KernelDensity\r\n",
        "import matplotlib.pyplot as plt"
      ],
      "execution_count": null,
      "outputs": []
    },
    {
      "cell_type": "code",
      "metadata": {
        "colab": {
          "base_uri": "https://localhost:8080/"
        },
        "id": "HLhWcLughfcN",
        "outputId": "e54bf0fe-7a1d-4830-9ea9-962ff12d0546"
      },
      "source": [
        "drive.mount('/content/gdrive/', force_remount=True)"
      ],
      "execution_count": null,
      "outputs": [
        {
          "output_type": "stream",
          "text": [
            "Mounted at /content/gdrive/\n"
          ],
          "name": "stdout"
        }
      ]
    },
    {
      "cell_type": "code",
      "metadata": {
        "id": "Wsai-Nckh3yO"
      },
      "source": [
        "path = '/content/gdrive/MyDrive/fdst/train_data'  #replace with test_data for performing svd on test data"
      ],
      "execution_count": null,
      "outputs": []
    },
    {
      "cell_type": "code",
      "metadata": {
        "id": "p9qJAq_QiIpE"
      },
      "source": [
        "#Decided on the on the rank of the matrix S. Found that 150 works best. However this has to backed with mathematical evidence.\r\n",
        "rank = 150\r\n",
        "for root, dirs, files in os.walk(path):\r\n",
        "    print(root)\r\n",
        "    if 'svd' not in root and 'svd' not in dirs:\r\n",
        "        for file in files:\r\n",
        "            if 'jpg' in file and \"_\" not in file:\r\n",
        "                img = cv2.imread(os.path.join(root, file), cv2.IMREAD_GRAYSCALE)  #don't require them to be RGB. One channel should work\r\n",
        "                U, S, V = np.linalg.svd(img, full_matrices = False)\r\n",
        "                reconst_img = np.matmul(np.matmul(U[:, :rank], np.diag(S[:rank])), V[:rank, :])\r\n",
        "                if not os.path.isdir(os.path.join(root, \"svd_\" + str(rank))):\r\n",
        "                  print(\"created:\"+os.path.join(root, \"svd_\" + str(rank)))\r\n",
        "                  os.mkdir(os.path.join(root, \"svd_\" + str(rank)))\r\n",
        "                cv2.imwrite(os.path.join(root, \"svd_\"+ str(rank), file), reconst_img)\r\n",
        "    else:\r\n",
        "      print(\"already exists\")\r\n",
        "      continue"
      ],
      "execution_count": null,
      "outputs": []
    },
    {
      "cell_type": "markdown",
      "metadata": {
        "id": "YGtZSHCeKs7Q"
      },
      "source": [
        "### **Kernel Density Estimation**"
      ]
    },
    {
      "cell_type": "markdown",
      "metadata": {
        "id": "j2tdLCJCY838"
      },
      "source": [
        "**a) generate annotation map for each training frame**"
      ]
    },
    {
      "cell_type": "markdown",
      "metadata": {
        "id": "XviTn5QoZwAT"
      },
      "source": [
        "**1. trial on a sample image**"
      ]
    },
    {
      "cell_type": "code",
      "metadata": {
        "id": "Ad--FDAtKzqw"
      },
      "source": [
        "img = cv2.imread(\"/content/gdrive/MyDrive/fdst/train_data/53/annotation_map_5/001.jpg\", cv2.IMREAD_GRAYSCALE)"
      ],
      "execution_count": null,
      "outputs": []
    },
    {
      "cell_type": "code",
      "metadata": {
        "id": "XTUUxL-oijWR"
      },
      "source": [
        ""
      ],
      "execution_count": null,
      "outputs": []
    },
    {
      "cell_type": "code",
      "metadata": {
        "id": "Gwn_FjYJLiJT",
        "colab": {
          "base_uri": "https://localhost:8080/",
          "height": 307
        },
        "outputId": "3c10e312-f4f1-4ff3-b1fc-4497dbdb5a60"
      },
      "source": [
        "img_json = pd.read_json(\"/content/gdrive/MyDrive/fdst/train_data/1/001.json\")"
      ],
      "execution_count": null,
      "outputs": [
        {
          "output_type": "error",
          "ename": "ValueError",
          "evalue": "ignored",
          "traceback": [
            "\u001b[0;31m---------------------------------------------------------------------------\u001b[0m",
            "\u001b[0;31mValueError\u001b[0m                                Traceback (most recent call last)",
            "\u001b[0;32m<ipython-input-9-f4718ef5ffca>\u001b[0m in \u001b[0;36m<module>\u001b[0;34m()\u001b[0m\n\u001b[0;32m----> 1\u001b[0;31m \u001b[0mimg_json\u001b[0m \u001b[0;34m=\u001b[0m \u001b[0mpd\u001b[0m\u001b[0;34m.\u001b[0m\u001b[0mread_json\u001b[0m\u001b[0;34m(\u001b[0m\u001b[0;34m\"/content/gdrive/MyDrive/fdst/train_data/1/001.json\"\u001b[0m\u001b[0;34m)\u001b[0m\u001b[0;34m\u001b[0m\u001b[0;34m\u001b[0m\u001b[0m\n\u001b[0m",
            "\u001b[0;32m/usr/local/lib/python3.7/dist-packages/pandas/util/_decorators.py\u001b[0m in \u001b[0;36mwrapper\u001b[0;34m(*args, **kwargs)\u001b[0m\n\u001b[1;32m    197\u001b[0m                 \u001b[0;32melse\u001b[0m\u001b[0;34m:\u001b[0m\u001b[0;34m\u001b[0m\u001b[0;34m\u001b[0m\u001b[0m\n\u001b[1;32m    198\u001b[0m                     \u001b[0mkwargs\u001b[0m\u001b[0;34m[\u001b[0m\u001b[0mnew_arg_name\u001b[0m\u001b[0;34m]\u001b[0m \u001b[0;34m=\u001b[0m \u001b[0mnew_arg_value\u001b[0m\u001b[0;34m\u001b[0m\u001b[0;34m\u001b[0m\u001b[0m\n\u001b[0;32m--> 199\u001b[0;31m             \u001b[0;32mreturn\u001b[0m \u001b[0mfunc\u001b[0m\u001b[0;34m(\u001b[0m\u001b[0;34m*\u001b[0m\u001b[0margs\u001b[0m\u001b[0;34m,\u001b[0m \u001b[0;34m**\u001b[0m\u001b[0mkwargs\u001b[0m\u001b[0;34m)\u001b[0m\u001b[0;34m\u001b[0m\u001b[0;34m\u001b[0m\u001b[0m\n\u001b[0m\u001b[1;32m    200\u001b[0m \u001b[0;34m\u001b[0m\u001b[0m\n\u001b[1;32m    201\u001b[0m         \u001b[0;32mreturn\u001b[0m \u001b[0mcast\u001b[0m\u001b[0;34m(\u001b[0m\u001b[0mF\u001b[0m\u001b[0;34m,\u001b[0m \u001b[0mwrapper\u001b[0m\u001b[0;34m)\u001b[0m\u001b[0;34m\u001b[0m\u001b[0;34m\u001b[0m\u001b[0m\n",
            "\u001b[0;32m/usr/local/lib/python3.7/dist-packages/pandas/util/_decorators.py\u001b[0m in \u001b[0;36mwrapper\u001b[0;34m(*args, **kwargs)\u001b[0m\n\u001b[1;32m    294\u001b[0m                 )\n\u001b[1;32m    295\u001b[0m                 \u001b[0mwarnings\u001b[0m\u001b[0;34m.\u001b[0m\u001b[0mwarn\u001b[0m\u001b[0;34m(\u001b[0m\u001b[0mmsg\u001b[0m\u001b[0;34m,\u001b[0m \u001b[0mFutureWarning\u001b[0m\u001b[0;34m,\u001b[0m \u001b[0mstacklevel\u001b[0m\u001b[0;34m=\u001b[0m\u001b[0mstacklevel\u001b[0m\u001b[0;34m)\u001b[0m\u001b[0;34m\u001b[0m\u001b[0;34m\u001b[0m\u001b[0m\n\u001b[0;32m--> 296\u001b[0;31m             \u001b[0;32mreturn\u001b[0m \u001b[0mfunc\u001b[0m\u001b[0;34m(\u001b[0m\u001b[0;34m*\u001b[0m\u001b[0margs\u001b[0m\u001b[0;34m,\u001b[0m \u001b[0;34m**\u001b[0m\u001b[0mkwargs\u001b[0m\u001b[0;34m)\u001b[0m\u001b[0;34m\u001b[0m\u001b[0;34m\u001b[0m\u001b[0m\n\u001b[0m\u001b[1;32m    297\u001b[0m \u001b[0;34m\u001b[0m\u001b[0m\n\u001b[1;32m    298\u001b[0m         \u001b[0;32mreturn\u001b[0m \u001b[0mwrapper\u001b[0m\u001b[0;34m\u001b[0m\u001b[0;34m\u001b[0m\u001b[0m\n",
            "\u001b[0;32m/usr/local/lib/python3.7/dist-packages/pandas/io/json/_json.py\u001b[0m in \u001b[0;36mread_json\u001b[0;34m(path_or_buf, orient, typ, dtype, convert_axes, convert_dates, keep_default_dates, numpy, precise_float, date_unit, encoding, lines, chunksize, compression, nrows)\u001b[0m\n\u001b[1;32m    616\u001b[0m         \u001b[0;32mreturn\u001b[0m \u001b[0mjson_reader\u001b[0m\u001b[0;34m\u001b[0m\u001b[0;34m\u001b[0m\u001b[0m\n\u001b[1;32m    617\u001b[0m \u001b[0;34m\u001b[0m\u001b[0m\n\u001b[0;32m--> 618\u001b[0;31m     \u001b[0mresult\u001b[0m \u001b[0;34m=\u001b[0m \u001b[0mjson_reader\u001b[0m\u001b[0;34m.\u001b[0m\u001b[0mread\u001b[0m\u001b[0;34m(\u001b[0m\u001b[0;34m)\u001b[0m\u001b[0;34m\u001b[0m\u001b[0;34m\u001b[0m\u001b[0m\n\u001b[0m\u001b[1;32m    619\u001b[0m     \u001b[0;32mif\u001b[0m \u001b[0mshould_close\u001b[0m\u001b[0;34m:\u001b[0m\u001b[0;34m\u001b[0m\u001b[0;34m\u001b[0m\u001b[0m\n\u001b[1;32m    620\u001b[0m         \u001b[0mfilepath_or_buffer\u001b[0m\u001b[0;34m.\u001b[0m\u001b[0mclose\u001b[0m\u001b[0;34m(\u001b[0m\u001b[0;34m)\u001b[0m\u001b[0;34m\u001b[0m\u001b[0;34m\u001b[0m\u001b[0m\n",
            "\u001b[0;32m/usr/local/lib/python3.7/dist-packages/pandas/io/json/_json.py\u001b[0m in \u001b[0;36mread\u001b[0;34m(self)\u001b[0m\n\u001b[1;32m    753\u001b[0m                 \u001b[0mobj\u001b[0m \u001b[0;34m=\u001b[0m \u001b[0mself\u001b[0m\u001b[0;34m.\u001b[0m\u001b[0m_get_object_parser\u001b[0m\u001b[0;34m(\u001b[0m\u001b[0mself\u001b[0m\u001b[0;34m.\u001b[0m\u001b[0m_combine_lines\u001b[0m\u001b[0;34m(\u001b[0m\u001b[0mdata\u001b[0m\u001b[0;34m)\u001b[0m\u001b[0;34m)\u001b[0m\u001b[0;34m\u001b[0m\u001b[0;34m\u001b[0m\u001b[0m\n\u001b[1;32m    754\u001b[0m         \u001b[0;32melse\u001b[0m\u001b[0;34m:\u001b[0m\u001b[0;34m\u001b[0m\u001b[0;34m\u001b[0m\u001b[0m\n\u001b[0;32m--> 755\u001b[0;31m             \u001b[0mobj\u001b[0m \u001b[0;34m=\u001b[0m \u001b[0mself\u001b[0m\u001b[0;34m.\u001b[0m\u001b[0m_get_object_parser\u001b[0m\u001b[0;34m(\u001b[0m\u001b[0mself\u001b[0m\u001b[0;34m.\u001b[0m\u001b[0mdata\u001b[0m\u001b[0;34m)\u001b[0m\u001b[0;34m\u001b[0m\u001b[0;34m\u001b[0m\u001b[0m\n\u001b[0m\u001b[1;32m    756\u001b[0m         \u001b[0mself\u001b[0m\u001b[0;34m.\u001b[0m\u001b[0mclose\u001b[0m\u001b[0;34m(\u001b[0m\u001b[0;34m)\u001b[0m\u001b[0;34m\u001b[0m\u001b[0;34m\u001b[0m\u001b[0m\n\u001b[1;32m    757\u001b[0m         \u001b[0;32mreturn\u001b[0m \u001b[0mobj\u001b[0m\u001b[0;34m\u001b[0m\u001b[0;34m\u001b[0m\u001b[0m\n",
            "\u001b[0;32m/usr/local/lib/python3.7/dist-packages/pandas/io/json/_json.py\u001b[0m in \u001b[0;36m_get_object_parser\u001b[0;34m(self, json)\u001b[0m\n\u001b[1;32m    775\u001b[0m         \u001b[0mobj\u001b[0m \u001b[0;34m=\u001b[0m \u001b[0;32mNone\u001b[0m\u001b[0;34m\u001b[0m\u001b[0;34m\u001b[0m\u001b[0m\n\u001b[1;32m    776\u001b[0m         \u001b[0;32mif\u001b[0m \u001b[0mtyp\u001b[0m \u001b[0;34m==\u001b[0m \u001b[0;34m\"frame\"\u001b[0m\u001b[0;34m:\u001b[0m\u001b[0;34m\u001b[0m\u001b[0;34m\u001b[0m\u001b[0m\n\u001b[0;32m--> 777\u001b[0;31m             \u001b[0mobj\u001b[0m \u001b[0;34m=\u001b[0m \u001b[0mFrameParser\u001b[0m\u001b[0;34m(\u001b[0m\u001b[0mjson\u001b[0m\u001b[0;34m,\u001b[0m \u001b[0;34m**\u001b[0m\u001b[0mkwargs\u001b[0m\u001b[0;34m)\u001b[0m\u001b[0;34m.\u001b[0m\u001b[0mparse\u001b[0m\u001b[0;34m(\u001b[0m\u001b[0;34m)\u001b[0m\u001b[0;34m\u001b[0m\u001b[0;34m\u001b[0m\u001b[0m\n\u001b[0m\u001b[1;32m    778\u001b[0m \u001b[0;34m\u001b[0m\u001b[0m\n\u001b[1;32m    779\u001b[0m         \u001b[0;32mif\u001b[0m \u001b[0mtyp\u001b[0m \u001b[0;34m==\u001b[0m \u001b[0;34m\"series\"\u001b[0m \u001b[0;32mor\u001b[0m \u001b[0mobj\u001b[0m \u001b[0;32mis\u001b[0m \u001b[0;32mNone\u001b[0m\u001b[0;34m:\u001b[0m\u001b[0;34m\u001b[0m\u001b[0;34m\u001b[0m\u001b[0m\n",
            "\u001b[0;32m/usr/local/lib/python3.7/dist-packages/pandas/io/json/_json.py\u001b[0m in \u001b[0;36mparse\u001b[0;34m(self)\u001b[0m\n\u001b[1;32m    884\u001b[0m \u001b[0;34m\u001b[0m\u001b[0m\n\u001b[1;32m    885\u001b[0m         \u001b[0;32melse\u001b[0m\u001b[0;34m:\u001b[0m\u001b[0;34m\u001b[0m\u001b[0;34m\u001b[0m\u001b[0m\n\u001b[0;32m--> 886\u001b[0;31m             \u001b[0mself\u001b[0m\u001b[0;34m.\u001b[0m\u001b[0m_parse_no_numpy\u001b[0m\u001b[0;34m(\u001b[0m\u001b[0;34m)\u001b[0m\u001b[0;34m\u001b[0m\u001b[0;34m\u001b[0m\u001b[0m\n\u001b[0m\u001b[1;32m    887\u001b[0m \u001b[0;34m\u001b[0m\u001b[0m\n\u001b[1;32m    888\u001b[0m         \u001b[0;32mif\u001b[0m \u001b[0mself\u001b[0m\u001b[0;34m.\u001b[0m\u001b[0mobj\u001b[0m \u001b[0;32mis\u001b[0m \u001b[0;32mNone\u001b[0m\u001b[0;34m:\u001b[0m\u001b[0;34m\u001b[0m\u001b[0;34m\u001b[0m\u001b[0m\n",
            "\u001b[0;32m/usr/local/lib/python3.7/dist-packages/pandas/io/json/_json.py\u001b[0m in \u001b[0;36m_parse_no_numpy\u001b[0;34m(self)\u001b[0m\n\u001b[1;32m   1117\u001b[0m         \u001b[0;32mif\u001b[0m \u001b[0morient\u001b[0m \u001b[0;34m==\u001b[0m \u001b[0;34m\"columns\"\u001b[0m\u001b[0;34m:\u001b[0m\u001b[0;34m\u001b[0m\u001b[0;34m\u001b[0m\u001b[0m\n\u001b[1;32m   1118\u001b[0m             self.obj = DataFrame(\n\u001b[0;32m-> 1119\u001b[0;31m                 \u001b[0mloads\u001b[0m\u001b[0;34m(\u001b[0m\u001b[0mjson\u001b[0m\u001b[0;34m,\u001b[0m \u001b[0mprecise_float\u001b[0m\u001b[0;34m=\u001b[0m\u001b[0mself\u001b[0m\u001b[0;34m.\u001b[0m\u001b[0mprecise_float\u001b[0m\u001b[0;34m)\u001b[0m\u001b[0;34m,\u001b[0m \u001b[0mdtype\u001b[0m\u001b[0;34m=\u001b[0m\u001b[0;32mNone\u001b[0m\u001b[0;34m\u001b[0m\u001b[0;34m\u001b[0m\u001b[0m\n\u001b[0m\u001b[1;32m   1120\u001b[0m             )\n\u001b[1;32m   1121\u001b[0m         \u001b[0;32melif\u001b[0m \u001b[0morient\u001b[0m \u001b[0;34m==\u001b[0m \u001b[0;34m\"split\"\u001b[0m\u001b[0;34m:\u001b[0m\u001b[0;34m\u001b[0m\u001b[0;34m\u001b[0m\u001b[0m\n",
            "\u001b[0;31mValueError\u001b[0m: Expected object or value"
          ]
        }
      ]
    },
    {
      "cell_type": "code",
      "metadata": {
        "id": "6L63NPQyLyPF"
      },
      "source": [
        "annotations = img_json.iloc[2][img_json.columns[0]]"
      ],
      "execution_count": null,
      "outputs": []
    },
    {
      "cell_type": "code",
      "metadata": {
        "id": "XBA8Bdc7Mx-3"
      },
      "source": [
        "density_img = np.zeros(img.shape, dtype = 'float32')"
      ],
      "execution_count": null,
      "outputs": []
    },
    {
      "cell_type": "code",
      "metadata": {
        "id": "cbl3f5dUMBDV"
      },
      "source": [
        "for annotation in annotations:\r\n",
        "  x = annotation['shape_attributes']['x']\r\n",
        "  y = annotation['shape_attributes']['y']\r\n",
        "  width = annotation['shape_attributes']['width']\r\n",
        "  height = annotation['shape_attributes']['height']\r\n",
        "  density_img[y, x] = 255"
      ],
      "execution_count": null,
      "outputs": []
    },
    {
      "cell_type": "code",
      "metadata": {
        "colab": {
          "base_uri": "https://localhost:8080/",
          "height": 562
        },
        "id": "gkvJf0LSMi8V",
        "outputId": "35cdb15b-6844-48c5-f463-bfd41fdf44e3"
      },
      "source": [
        "plt.figure(figsize = (10, 20))\r\n",
        "plt.imshow(img, cmap = 'gray')\r\n",
        "map = gaussian_filter(density_img, sigma = (2, 2), order = 0)\r\n",
        "plt.imshow(map, cmap = 'gray')"
      ],
      "execution_count": null,
      "outputs": [
        {
          "output_type": "error",
          "ename": "NameError",
          "evalue": "ignored",
          "traceback": [
            "\u001b[0;31m---------------------------------------------------------------------------\u001b[0m",
            "\u001b[0;31mNameError\u001b[0m                                 Traceback (most recent call last)",
            "\u001b[0;32m<ipython-input-26-483332a5f6c2>\u001b[0m in \u001b[0;36m<module>\u001b[0;34m()\u001b[0m\n\u001b[1;32m      1\u001b[0m \u001b[0mplt\u001b[0m\u001b[0;34m.\u001b[0m\u001b[0mfigure\u001b[0m\u001b[0;34m(\u001b[0m\u001b[0mfigsize\u001b[0m \u001b[0;34m=\u001b[0m \u001b[0;34m(\u001b[0m\u001b[0;36m10\u001b[0m\u001b[0;34m,\u001b[0m \u001b[0;36m20\u001b[0m\u001b[0;34m)\u001b[0m\u001b[0;34m)\u001b[0m\u001b[0;34m\u001b[0m\u001b[0;34m\u001b[0m\u001b[0m\n\u001b[1;32m      2\u001b[0m \u001b[0mplt\u001b[0m\u001b[0;34m.\u001b[0m\u001b[0mimshow\u001b[0m\u001b[0;34m(\u001b[0m\u001b[0mimg\u001b[0m\u001b[0;34m,\u001b[0m \u001b[0mcmap\u001b[0m \u001b[0;34m=\u001b[0m \u001b[0;34m'gray'\u001b[0m\u001b[0;34m)\u001b[0m\u001b[0;34m\u001b[0m\u001b[0;34m\u001b[0m\u001b[0m\n\u001b[0;32m----> 3\u001b[0;31m \u001b[0mmap\u001b[0m \u001b[0;34m=\u001b[0m \u001b[0mgaussian_filter\u001b[0m\u001b[0;34m(\u001b[0m\u001b[0mdensity_img\u001b[0m\u001b[0;34m,\u001b[0m \u001b[0msigma\u001b[0m \u001b[0;34m=\u001b[0m \u001b[0;34m(\u001b[0m\u001b[0;36m2\u001b[0m\u001b[0;34m,\u001b[0m \u001b[0;36m2\u001b[0m\u001b[0;34m)\u001b[0m\u001b[0;34m,\u001b[0m \u001b[0morder\u001b[0m \u001b[0;34m=\u001b[0m \u001b[0;36m0\u001b[0m\u001b[0;34m)\u001b[0m\u001b[0;34m\u001b[0m\u001b[0;34m\u001b[0m\u001b[0m\n\u001b[0m\u001b[1;32m      4\u001b[0m \u001b[0mplt\u001b[0m\u001b[0;34m.\u001b[0m\u001b[0mimshow\u001b[0m\u001b[0;34m(\u001b[0m\u001b[0mmap\u001b[0m\u001b[0;34m,\u001b[0m \u001b[0mcmap\u001b[0m \u001b[0;34m=\u001b[0m \u001b[0;34m'gray'\u001b[0m\u001b[0;34m)\u001b[0m\u001b[0;34m\u001b[0m\u001b[0;34m\u001b[0m\u001b[0m\n",
            "\u001b[0;31mNameError\u001b[0m: name 'density_img' is not defined"
          ]
        },
        {
          "output_type": "display_data",
          "data": {
            "image/png": "[encoded data removed]",
            "text/plain": [
              "<Figure size 720x1440 with 1 Axes>"
            ]
          },
          "metadata": {
            "tags": [],
            "needs_background": "light"
          }
        }
      ]
    },
    {
      "cell_type": "code",
      "metadata": {
        "colab": {
          "base_uri": "https://localhost:8080/",
          "height": 229
        },
        "id": "ZELkRaLOlKKy",
        "outputId": "4fe4a95d-910f-4184-e2ca-20020420f286"
      },
      "source": [
        "plt.figure(figsize = (10, 20))\r\n",
        "plt.imshow(density_img)\r\n",
        "map = gaussian_filter(density_img, sigma = (5, 5), order = 0)\r\n",
        "plt.imshow(map, cmap = 'gray')"
      ],
      "execution_count": null,
      "outputs": [
        {
          "output_type": "error",
          "ename": "NameError",
          "evalue": "ignored",
          "traceback": [
            "\u001b[0;31m---------------------------------------------------------------------------\u001b[0m",
            "\u001b[0;31mNameError\u001b[0m                                 Traceback (most recent call last)",
            "\u001b[0;32m<ipython-input-14-356421170f5c>\u001b[0m in \u001b[0;36m<module>\u001b[0;34m()\u001b[0m\n\u001b[1;32m      1\u001b[0m \u001b[0mplt\u001b[0m\u001b[0;34m.\u001b[0m\u001b[0mfigure\u001b[0m\u001b[0;34m(\u001b[0m\u001b[0mfigsize\u001b[0m \u001b[0;34m=\u001b[0m \u001b[0;34m(\u001b[0m\u001b[0;36m10\u001b[0m\u001b[0;34m,\u001b[0m \u001b[0;36m20\u001b[0m\u001b[0;34m)\u001b[0m\u001b[0;34m)\u001b[0m\u001b[0;34m\u001b[0m\u001b[0;34m\u001b[0m\u001b[0m\n\u001b[0;32m----> 2\u001b[0;31m \u001b[0mplt\u001b[0m\u001b[0;34m.\u001b[0m\u001b[0mimshow\u001b[0m\u001b[0;34m(\u001b[0m\u001b[0mdensity_img\u001b[0m\u001b[0;34m)\u001b[0m\u001b[0;34m\u001b[0m\u001b[0;34m\u001b[0m\u001b[0m\n\u001b[0m\u001b[1;32m      3\u001b[0m \u001b[0mmap\u001b[0m \u001b[0;34m=\u001b[0m \u001b[0mgaussian_filter\u001b[0m\u001b[0;34m(\u001b[0m\u001b[0mdensity_img\u001b[0m\u001b[0;34m,\u001b[0m \u001b[0msigma\u001b[0m \u001b[0;34m=\u001b[0m \u001b[0;34m(\u001b[0m\u001b[0;36m5\u001b[0m\u001b[0;34m,\u001b[0m \u001b[0;36m5\u001b[0m\u001b[0;34m)\u001b[0m\u001b[0;34m,\u001b[0m \u001b[0morder\u001b[0m \u001b[0;34m=\u001b[0m \u001b[0;36m0\u001b[0m\u001b[0;34m)\u001b[0m\u001b[0;34m\u001b[0m\u001b[0;34m\u001b[0m\u001b[0m\n\u001b[1;32m      4\u001b[0m \u001b[0mplt\u001b[0m\u001b[0;34m.\u001b[0m\u001b[0mimshow\u001b[0m\u001b[0;34m(\u001b[0m\u001b[0mmap\u001b[0m\u001b[0;34m,\u001b[0m \u001b[0mcmap\u001b[0m \u001b[0;34m=\u001b[0m \u001b[0;34m'gray'\u001b[0m\u001b[0;34m)\u001b[0m\u001b[0;34m\u001b[0m\u001b[0;34m\u001b[0m\u001b[0m\n",
            "\u001b[0;31mNameError\u001b[0m: name 'density_img' is not defined"
          ]
        },
        {
          "output_type": "display_data",
          "data": {
            "text/plain": [
              "<Figure size 720x1440 with 0 Axes>"
            ]
          },
          "metadata": {
            "tags": []
          }
        }
      ]
    },
    {
      "cell_type": "code",
      "metadata": {
        "colab": {
          "base_uri": "https://localhost:8080/",
          "height": 383
        },
        "id": "HVzN4uc0qpUf",
        "outputId": "590cc9fb-ad3c-4709-ebc2-89a8dcf87295"
      },
      "source": [
        "plt.figure(figsize = (10, 20))\r\n",
        "plt.imshow(img)"
      ],
      "execution_count": null,
      "outputs": [
        {
          "output_type": "execute_result",
          "data": {
            "text/plain": [
              "<matplotlib.image.AxesImage at 0x7fb670eb06d8>"
            ]
          },
          "metadata": {
            "tags": []
          },
          "execution_count": 101
        },
        {
          "output_type": "display_data",
          "data": {
            "image/png": "[encoded data removed]",
            "text/plain": [
              "<Figure size 720x1440 with 1 Axes>"
            ]
          },
          "metadata": {
            "tags": []
          }
        }
      ]
    },
    {
      "cell_type": "markdown",
      "metadata": {
        "id": "5gjxF81bZ6Dg"
      },
      "source": [
        "**2. Generation of the same on all training frames**"
      ]
    },
    {
      "cell_type": "code",
      "metadata": {
        "id": "8FEVQw-zRewt",
        "colab": {
          "base_uri": "https://localhost:8080/",
          "height": 1000
        },
        "outputId": "5381ff34-8d74-4cb6-bb83-6fb1eac2e714"
      },
      "source": [
        "height = 1080\r\n",
        "width = 1920\r\n",
        "for root, dirs, files in os.walk(path):\r\n",
        "    print(root)\r\n",
        "    if 'svd_' not in root and 'svd_' not in dirs and \"done\" not in root:\r\n",
        "        for file in files:\r\n",
        "            if 'json' in file and \"_\" not in file:\r\n",
        "                img_json = pd.read_json(os.path.join(root, file))\r\n",
        "                annotations = img_json.iloc[2][img_json.columns[0]]\r\n",
        "                annotation_map = np.zeros(img.shape, dtype = 'int')\r\n",
        "                for annotation in annotations:\r\n",
        "                  x = annotation['shape_attributes']['x']\r\n",
        "                  y = annotation['shape_attributes']['y']\r\n",
        "                  width = annotation['shape_attributes']['width']\r\n",
        "                  height = annotation['shape_attributes']['height']\r\n",
        "                  annotation_map[y, x] = 255\r\n",
        "                  maps = []\r\n",
        "                  maps.append(gaussian_filter(annotation_map, sigma = (1, 1), order = 0))\r\n",
        "                  maps.append(gaussian_filter(annotation_map, sigma = (5, 5), order = 0))\r\n",
        "                if not os.path.isdir(os.path.join(root, \"annotation_map_1\")):\r\n",
        "                  print(\"created:\"+os.path.join(root, \"annotation_map_1\"))\r\n",
        "                  os.mkdir(os.path.join(root, \"annotation_map_1\"))\r\n",
        "                if not os.path.isdir(os.path.join(root, \"annotation_map_5\")):\r\n",
        "                  print(\"created:\"+os.path.join(root, \"annotation_map_5\"))\r\n",
        "                  os.mkdir(os.path.join(root, \"annotation_map_5\"))\r\n",
        "                img_name = file.replace(\"json\", \"jpg\")\r\n",
        "                cv2.imwrite(os.path.join(root, \"annotation_map_1\", img_name), maps[0])\r\n",
        "                cv2.imwrite(os.path.join(root, \"annotation_map_5\", img_name), maps[1])\r\n",
        "    else:\r\n",
        "      print(\"already exists\")\r\n",
        "      continue"
      ],
      "execution_count": null,
      "outputs": [
        {
          "output_type": "stream",
          "text": [
            "/content/gdrive/MyDrive/fdst/train_data\n",
            "/content/gdrive/MyDrive/fdst/train_data/53\n",
            "/content/gdrive/MyDrive/fdst/train_data/53/svd_150\n",
            "already exists\n",
            "/content/gdrive/MyDrive/fdst/train_data/53/annotation_map_1\n",
            "/content/gdrive/MyDrive/fdst/train_data/53/annotation_map_5\n",
            "/content/gdrive/MyDrive/fdst/train_data/52\n",
            "/content/gdrive/MyDrive/fdst/train_data/52/svd_150\n",
            "already exists\n",
            "/content/gdrive/MyDrive/fdst/train_data/52/annotation_map_1\n",
            "/content/gdrive/MyDrive/fdst/train_data/52/annotation_map_5\n",
            "/content/gdrive/MyDrive/fdst/train_data/51\n",
            "created:/content/gdrive/MyDrive/fdst/train_data/51/annotation_map_1\n",
            "created:/content/gdrive/MyDrive/fdst/train_data/51/annotation_map_5\n",
            "/content/gdrive/MyDrive/fdst/train_data/51/svd_150\n",
            "already exists\n",
            "/content/gdrive/MyDrive/fdst/train_data/47\n",
            "created:/content/gdrive/MyDrive/fdst/train_data/47/annotation_map_1\n",
            "created:/content/gdrive/MyDrive/fdst/train_data/47/annotation_map_5\n",
            "/content/gdrive/MyDrive/fdst/train_data/47/svd_150\n",
            "already exists\n",
            "/content/gdrive/MyDrive/fdst/train_data/48\n",
            "created:/content/gdrive/MyDrive/fdst/train_data/48/annotation_map_1\n",
            "created:/content/gdrive/MyDrive/fdst/train_data/48/annotation_map_5\n",
            "/content/gdrive/MyDrive/fdst/train_data/48/svd_150\n",
            "already exists\n",
            "/content/gdrive/MyDrive/fdst/train_data/46\n",
            "created:/content/gdrive/MyDrive/fdst/train_data/46/annotation_map_1\n",
            "created:/content/gdrive/MyDrive/fdst/train_data/46/annotation_map_5\n",
            "/content/gdrive/MyDrive/fdst/train_data/46/svd_150\n",
            "already exists\n",
            "/content/gdrive/MyDrive/fdst/train_data/42\n",
            "created:/content/gdrive/MyDrive/fdst/train_data/42/annotation_map_1\n",
            "created:/content/gdrive/MyDrive/fdst/train_data/42/annotation_map_5\n",
            "/content/gdrive/MyDrive/fdst/train_data/42/svd_150\n",
            "already exists\n",
            "/content/gdrive/MyDrive/fdst/train_data/43\n",
            "created:/content/gdrive/MyDrive/fdst/train_data/43/annotation_map_1\n",
            "created:/content/gdrive/MyDrive/fdst/train_data/43/annotation_map_5\n",
            "/content/gdrive/MyDrive/fdst/train_data/43/svd_150\n",
            "already exists\n",
            "/content/gdrive/MyDrive/fdst/train_data/38\n",
            "created:/content/gdrive/MyDrive/fdst/train_data/38/annotation_map_1\n",
            "created:/content/gdrive/MyDrive/fdst/train_data/38/annotation_map_5\n",
            "/content/gdrive/MyDrive/fdst/train_data/38/svd_150\n",
            "already exists\n",
            "/content/gdrive/MyDrive/fdst/train_data/41\n",
            "created:/content/gdrive/MyDrive/fdst/train_data/41/annotation_map_1\n",
            "created:/content/gdrive/MyDrive/fdst/train_data/41/annotation_map_5\n",
            "/content/gdrive/MyDrive/fdst/train_data/41/svd_150\n",
            "already exists\n",
            "/content/gdrive/MyDrive/fdst/train_data/37\n",
            "created:/content/gdrive/MyDrive/fdst/train_data/37/annotation_map_1\n",
            "created:/content/gdrive/MyDrive/fdst/train_data/37/annotation_map_5\n",
            "/content/gdrive/MyDrive/fdst/train_data/37/svd_150\n",
            "already exists\n",
            "/content/gdrive/MyDrive/fdst/train_data/36\n",
            "created:/content/gdrive/MyDrive/fdst/train_data/36/annotation_map_1\n",
            "created:/content/gdrive/MyDrive/fdst/train_data/36/annotation_map_5\n",
            "/content/gdrive/MyDrive/fdst/train_data/36/svd_150\n",
            "already exists\n",
            "/content/gdrive/MyDrive/fdst/train_data/33\n",
            "created:/content/gdrive/MyDrive/fdst/train_data/33/annotation_map_1\n",
            "created:/content/gdrive/MyDrive/fdst/train_data/33/annotation_map_5\n",
            "/content/gdrive/MyDrive/fdst/train_data/33/svd_150\n",
            "already exists\n",
            "/content/gdrive/MyDrive/fdst/train_data/31\n",
            "created:/content/gdrive/MyDrive/fdst/train_data/31/annotation_map_1\n",
            "created:/content/gdrive/MyDrive/fdst/train_data/31/annotation_map_5\n"
          ],
          "name": "stdout"
        },
        {
          "output_type": "error",
          "ename": "KeyboardInterrupt",
          "evalue": "ignored",
          "traceback": [
            "\u001b[0;31m---------------------------------------------------------------------------\u001b[0m",
            "\u001b[0;31mKeyboardInterrupt\u001b[0m                         Traceback (most recent call last)",
            "\u001b[0;32m<ipython-input-8-a024ff96f45c>\u001b[0m in \u001b[0;36m<module>\u001b[0;34m()\u001b[0m\n\u001b[1;32m     17\u001b[0m                   \u001b[0mmaps\u001b[0m \u001b[0;34m=\u001b[0m \u001b[0;34m[\u001b[0m\u001b[0;34m]\u001b[0m\u001b[0;34m\u001b[0m\u001b[0;34m\u001b[0m\u001b[0m\n\u001b[1;32m     18\u001b[0m                   \u001b[0mmaps\u001b[0m\u001b[0;34m.\u001b[0m\u001b[0mappend\u001b[0m\u001b[0;34m(\u001b[0m\u001b[0mgaussian_filter\u001b[0m\u001b[0;34m(\u001b[0m\u001b[0mannotation_map\u001b[0m\u001b[0;34m,\u001b[0m \u001b[0msigma\u001b[0m \u001b[0;34m=\u001b[0m \u001b[0;34m(\u001b[0m\u001b[0;36m1\u001b[0m\u001b[0;34m,\u001b[0m \u001b[0;36m1\u001b[0m\u001b[0;34m)\u001b[0m\u001b[0;34m,\u001b[0m \u001b[0morder\u001b[0m \u001b[0;34m=\u001b[0m \u001b[0;36m0\u001b[0m\u001b[0;34m)\u001b[0m\u001b[0;34m)\u001b[0m\u001b[0;34m\u001b[0m\u001b[0;34m\u001b[0m\u001b[0m\n\u001b[0;32m---> 19\u001b[0;31m                   \u001b[0mmaps\u001b[0m\u001b[0;34m.\u001b[0m\u001b[0mappend\u001b[0m\u001b[0;34m(\u001b[0m\u001b[0mgaussian_filter\u001b[0m\u001b[0;34m(\u001b[0m\u001b[0mannotation_map\u001b[0m\u001b[0;34m,\u001b[0m \u001b[0msigma\u001b[0m \u001b[0;34m=\u001b[0m \u001b[0;34m(\u001b[0m\u001b[0;36m5\u001b[0m\u001b[0;34m,\u001b[0m \u001b[0;36m5\u001b[0m\u001b[0;34m)\u001b[0m\u001b[0;34m,\u001b[0m \u001b[0morder\u001b[0m \u001b[0;34m=\u001b[0m \u001b[0;36m0\u001b[0m\u001b[0;34m)\u001b[0m\u001b[0;34m)\u001b[0m\u001b[0;34m\u001b[0m\u001b[0;34m\u001b[0m\u001b[0m\n\u001b[0m\u001b[1;32m     20\u001b[0m                 \u001b[0;32mif\u001b[0m \u001b[0;32mnot\u001b[0m \u001b[0mos\u001b[0m\u001b[0;34m.\u001b[0m\u001b[0mpath\u001b[0m\u001b[0;34m.\u001b[0m\u001b[0misdir\u001b[0m\u001b[0;34m(\u001b[0m\u001b[0mos\u001b[0m\u001b[0;34m.\u001b[0m\u001b[0mpath\u001b[0m\u001b[0;34m.\u001b[0m\u001b[0mjoin\u001b[0m\u001b[0;34m(\u001b[0m\u001b[0mroot\u001b[0m\u001b[0;34m,\u001b[0m \u001b[0;34m\"annotation_map_1\"\u001b[0m\u001b[0;34m)\u001b[0m\u001b[0;34m)\u001b[0m\u001b[0;34m:\u001b[0m\u001b[0;34m\u001b[0m\u001b[0;34m\u001b[0m\u001b[0m\n\u001b[1;32m     21\u001b[0m                   \u001b[0mprint\u001b[0m\u001b[0;34m(\u001b[0m\u001b[0;34m\"created:\"\u001b[0m\u001b[0;34m+\u001b[0m\u001b[0mos\u001b[0m\u001b[0;34m.\u001b[0m\u001b[0mpath\u001b[0m\u001b[0;34m.\u001b[0m\u001b[0mjoin\u001b[0m\u001b[0;34m(\u001b[0m\u001b[0mroot\u001b[0m\u001b[0;34m,\u001b[0m \u001b[0;34m\"annotation_map_1\"\u001b[0m\u001b[0;34m)\u001b[0m\u001b[0;34m)\u001b[0m\u001b[0;34m\u001b[0m\u001b[0;34m\u001b[0m\u001b[0m\n",
            "\u001b[0;32m/usr/local/lib/python3.7/dist-packages/scipy/ndimage/filters.py\u001b[0m in \u001b[0;36mgaussian_filter\u001b[0;34m(input, sigma, order, output, mode, cval, truncate)\u001b[0m\n\u001b[1;32m    297\u001b[0m         \u001b[0;32mfor\u001b[0m \u001b[0maxis\u001b[0m\u001b[0;34m,\u001b[0m \u001b[0msigma\u001b[0m\u001b[0;34m,\u001b[0m \u001b[0morder\u001b[0m\u001b[0;34m,\u001b[0m \u001b[0mmode\u001b[0m \u001b[0;32min\u001b[0m \u001b[0maxes\u001b[0m\u001b[0;34m:\u001b[0m\u001b[0;34m\u001b[0m\u001b[0;34m\u001b[0m\u001b[0m\n\u001b[1;32m    298\u001b[0m             gaussian_filter1d(input, sigma, axis, order, output,\n\u001b[0;32m--> 299\u001b[0;31m                               mode, cval, truncate)\n\u001b[0m\u001b[1;32m    300\u001b[0m             \u001b[0minput\u001b[0m \u001b[0;34m=\u001b[0m \u001b[0moutput\u001b[0m\u001b[0;34m\u001b[0m\u001b[0;34m\u001b[0m\u001b[0m\n\u001b[1;32m    301\u001b[0m     \u001b[0;32melse\u001b[0m\u001b[0;34m:\u001b[0m\u001b[0;34m\u001b[0m\u001b[0;34m\u001b[0m\u001b[0m\n",
            "\u001b[0;32m/usr/local/lib/python3.7/dist-packages/scipy/ndimage/filters.py\u001b[0m in \u001b[0;36mgaussian_filter1d\u001b[0;34m(input, sigma, axis, order, output, mode, cval, truncate)\u001b[0m\n\u001b[1;32m    215\u001b[0m     \u001b[0;31m# Since we are calling correlate, not convolve, revert the kernel\u001b[0m\u001b[0;34m\u001b[0m\u001b[0;34m\u001b[0m\u001b[0;34m\u001b[0m\u001b[0m\n\u001b[1;32m    216\u001b[0m     \u001b[0mweights\u001b[0m \u001b[0;34m=\u001b[0m \u001b[0m_gaussian_kernel1d\u001b[0m\u001b[0;34m(\u001b[0m\u001b[0msigma\u001b[0m\u001b[0;34m,\u001b[0m \u001b[0morder\u001b[0m\u001b[0;34m,\u001b[0m \u001b[0mlw\u001b[0m\u001b[0;34m)\u001b[0m\u001b[0;34m[\u001b[0m\u001b[0;34m:\u001b[0m\u001b[0;34m:\u001b[0m\u001b[0;34m-\u001b[0m\u001b[0;36m1\u001b[0m\u001b[0;34m]\u001b[0m\u001b[0;34m\u001b[0m\u001b[0;34m\u001b[0m\u001b[0m\n\u001b[0;32m--> 217\u001b[0;31m     \u001b[0;32mreturn\u001b[0m \u001b[0mcorrelate1d\u001b[0m\u001b[0;34m(\u001b[0m\u001b[0minput\u001b[0m\u001b[0;34m,\u001b[0m \u001b[0mweights\u001b[0m\u001b[0;34m,\u001b[0m \u001b[0maxis\u001b[0m\u001b[0;34m,\u001b[0m \u001b[0moutput\u001b[0m\u001b[0;34m,\u001b[0m \u001b[0mmode\u001b[0m\u001b[0;34m,\u001b[0m \u001b[0mcval\u001b[0m\u001b[0;34m,\u001b[0m \u001b[0;36m0\u001b[0m\u001b[0;34m)\u001b[0m\u001b[0;34m\u001b[0m\u001b[0;34m\u001b[0m\u001b[0m\n\u001b[0m\u001b[1;32m    218\u001b[0m \u001b[0;34m\u001b[0m\u001b[0m\n\u001b[1;32m    219\u001b[0m \u001b[0;34m\u001b[0m\u001b[0m\n",
            "\u001b[0;32m/usr/local/lib/python3.7/dist-packages/scipy/ndimage/filters.py\u001b[0m in \u001b[0;36mcorrelate1d\u001b[0;34m(input, weights, axis, output, mode, cval, origin)\u001b[0m\n\u001b[1;32m     93\u001b[0m     \u001b[0mmode\u001b[0m \u001b[0;34m=\u001b[0m \u001b[0m_ni_support\u001b[0m\u001b[0;34m.\u001b[0m\u001b[0m_extend_mode_to_code\u001b[0m\u001b[0;34m(\u001b[0m\u001b[0mmode\u001b[0m\u001b[0;34m)\u001b[0m\u001b[0;34m\u001b[0m\u001b[0;34m\u001b[0m\u001b[0m\n\u001b[1;32m     94\u001b[0m     _nd_image.correlate1d(input, weights, axis, output, mode, cval,\n\u001b[0;32m---> 95\u001b[0;31m                           origin)\n\u001b[0m\u001b[1;32m     96\u001b[0m     \u001b[0;32mreturn\u001b[0m \u001b[0moutput\u001b[0m\u001b[0;34m\u001b[0m\u001b[0;34m\u001b[0m\u001b[0m\n\u001b[1;32m     97\u001b[0m \u001b[0;34m\u001b[0m\u001b[0m\n",
            "\u001b[0;31mKeyboardInterrupt\u001b[0m: "
          ]
        }
      ]
    },
    {
      "cell_type": "markdown",
      "metadata": {
        "id": "bFOhsyVHAZsz"
      },
      "source": [
        "**Training a CNN to learn the density plots**"
      ]
    },
    {
      "cell_type": "markdown",
      "metadata": {
        "id": "wqqRId6pGt78"
      },
      "source": [
        "**a) Train on sigma = 5**"
      ]
    },
    {
      "cell_type": "code",
      "metadata": {
        "id": "8KhHql9wS3W3"
      },
      "source": [
        "y_train = []\r\n",
        "x_train = []\r\n",
        "x_train_resized = []\r\n",
        "gt_train_list = []"
      ],
      "execution_count": null,
      "outputs": []
    },
    {
      "cell_type": "code",
      "metadata": {
        "id": "NZFomyjSt6zH"
      },
      "source": [
        "gt_train = pd.read_csv(\"/content/gdrive/MyDrive/fdst/train_data/ground_truth_train.csv\")\r\n",
        "gt_test = pd.read_csv(\"/content/gdrive/MyDrive/fdst/test_data/ground_truth_test.csv\")\r\n",
        "\r\n",
        "def imgToGT(df):\r\n",
        "  dic = {}\r\n",
        "  length = len(df)\r\n",
        "  for i in range(length):\r\n",
        "    dic[df.iloc[i, 0]] = df.iloc[i, 1]\r\n",
        "  return dic\r\n",
        "\r\n",
        "gt_train_dic = imgToGT(gt_train)\r\n",
        "gt_test_dic = imgToGT(gt_test)"
      ],
      "execution_count": null,
      "outputs": []
    },
    {
      "cell_type": "code",
      "metadata": {
        "id": "V1goYAwfEBPN",
        "colab": {
          "base_uri": "https://localhost:8080/",
          "height": 430
        },
        "outputId": "c8066ca1-9502-416f-a519-c0b817ca7f54"
      },
      "source": [
        "path = \"/content/gdrive/MyDrive/fdst/train_data\"\r\n",
        "cnt = 0\r\n",
        "for root, dirs, files in os.walk(path):\r\n",
        "  if \"annotation_map_5\" in root:\r\n",
        "    print(root)\r\n",
        "    for file in files:\r\n",
        "      if cnt < 7000:\r\n",
        "        annot_img = cv2.imread(os.path.join(root, file), cv2.IMREAD_GRAYSCALE)\r\n",
        "        annot_img_resize = cv2.resize(annot_img, (640, 360))\r\n",
        "        _, annot_img_resize = cv2.threshold(annot_img_resize, 0, 1, cv2.THRESH_BINARY + cv2.THRESH_OTSU)\r\n",
        "        parent_dir = os.path.dirname(root)\r\n",
        "        svd_dir = os.path.join(parent_dir, 'svd_150')\r\n",
        "        if os.path.join(parent_dir, file) in gt_train_dic.keys():\r\n",
        "          gt = gt_train_dic[os.path.join(parent_dir, file)]\r\n",
        "          train_img = cv2.imread(os.path.join(svd_dir, file), cv2.IMREAD_GRAYSCALE)\r\n",
        "          if train_img is not None:\r\n",
        "            train_img_resize = cv2.resize(train_img, (640, 360))\r\n",
        "            x_train_resized.append(train_img_resize)\r\n",
        "            # _, train_img_resize = cv2.threshold(train_img_resize, 0, 255, cv2.THRESH_BINARY + cv2.THRESH_OTSU)\r\n",
        "            y_train.append(annot_img_resize)\r\n",
        "            x_train.append(train_img_resize)\r\n",
        "            gt_train_list.append(gt)\r\n",
        "            cnt += 1\r\n",
        "      else:\r\n",
        "        break\r\n"
      ],
      "execution_count": null,
      "outputs": [
        {
          "output_type": "stream",
          "text": [
            "/content/gdrive/MyDrive/fdst/train_data/91/annotation_map_5\n",
            "/content/gdrive/MyDrive/fdst/train_data/92/annotation_map_5\n",
            "/content/gdrive/MyDrive/fdst/train_data/98/annotation_map_5\n",
            "/content/gdrive/MyDrive/fdst/train_data/87/annotation_map_5\n",
            "/content/gdrive/MyDrive/fdst/train_data/88/annotation_map_5\n",
            "/content/gdrive/MyDrive/fdst/train_data/83/annotation_map_5\n",
            "/content/gdrive/MyDrive/fdst/train_data/93/annotation_map_5\n",
            "/content/gdrive/MyDrive/fdst/train_data/97/annotation_map_5\n",
            "/content/gdrive/MyDrive/fdst/train_data/86/annotation_map_5\n",
            "/content/gdrive/MyDrive/fdst/train_data/96/annotation_map_5\n",
            "/content/gdrive/MyDrive/fdst/train_data/82/annotation_map_5\n",
            "/content/gdrive/MyDrive/fdst/train_data/81/annotation_map_5\n"
          ],
          "name": "stdout"
        },
        {
          "output_type": "error",
          "ename": "KeyboardInterrupt",
          "evalue": "ignored",
          "traceback": [
            "\u001b[0;31m---------------------------------------------------------------------------\u001b[0m",
            "\u001b[0;31mKeyboardInterrupt\u001b[0m                         Traceback (most recent call last)",
            "\u001b[0;32m<ipython-input-96-48c4f230cabd>\u001b[0m in \u001b[0;36m<module>\u001b[0;34m()\u001b[0m\n\u001b[1;32m     13\u001b[0m         \u001b[0;32mif\u001b[0m \u001b[0mos\u001b[0m\u001b[0;34m.\u001b[0m\u001b[0mpath\u001b[0m\u001b[0;34m.\u001b[0m\u001b[0mjoin\u001b[0m\u001b[0;34m(\u001b[0m\u001b[0mparent_dir\u001b[0m\u001b[0;34m,\u001b[0m \u001b[0mfile\u001b[0m\u001b[0;34m)\u001b[0m \u001b[0;32min\u001b[0m \u001b[0mgt_train_dic\u001b[0m\u001b[0;34m.\u001b[0m\u001b[0mkeys\u001b[0m\u001b[0;34m(\u001b[0m\u001b[0;34m)\u001b[0m\u001b[0;34m:\u001b[0m\u001b[0;34m\u001b[0m\u001b[0;34m\u001b[0m\u001b[0m\n\u001b[1;32m     14\u001b[0m           \u001b[0mgt\u001b[0m \u001b[0;34m=\u001b[0m \u001b[0mgt_train_dic\u001b[0m\u001b[0;34m[\u001b[0m\u001b[0mos\u001b[0m\u001b[0;34m.\u001b[0m\u001b[0mpath\u001b[0m\u001b[0;34m.\u001b[0m\u001b[0mjoin\u001b[0m\u001b[0;34m(\u001b[0m\u001b[0mparent_dir\u001b[0m\u001b[0;34m,\u001b[0m \u001b[0mfile\u001b[0m\u001b[0;34m)\u001b[0m\u001b[0;34m]\u001b[0m\u001b[0;34m\u001b[0m\u001b[0;34m\u001b[0m\u001b[0m\n\u001b[0;32m---> 15\u001b[0;31m           \u001b[0mtrain_img\u001b[0m \u001b[0;34m=\u001b[0m \u001b[0mcv2\u001b[0m\u001b[0;34m.\u001b[0m\u001b[0mimread\u001b[0m\u001b[0;34m(\u001b[0m\u001b[0mos\u001b[0m\u001b[0;34m.\u001b[0m\u001b[0mpath\u001b[0m\u001b[0;34m.\u001b[0m\u001b[0mjoin\u001b[0m\u001b[0;34m(\u001b[0m\u001b[0msvd_dir\u001b[0m\u001b[0;34m,\u001b[0m \u001b[0mfile\u001b[0m\u001b[0;34m)\u001b[0m\u001b[0;34m,\u001b[0m \u001b[0mcv2\u001b[0m\u001b[0;34m.\u001b[0m\u001b[0mIMREAD_GRAYSCALE\u001b[0m\u001b[0;34m)\u001b[0m\u001b[0;34m\u001b[0m\u001b[0;34m\u001b[0m\u001b[0m\n\u001b[0m\u001b[1;32m     16\u001b[0m           \u001b[0;32mif\u001b[0m \u001b[0mtrain_img\u001b[0m \u001b[0;32mis\u001b[0m \u001b[0;32mnot\u001b[0m \u001b[0;32mNone\u001b[0m\u001b[0;34m:\u001b[0m\u001b[0;34m\u001b[0m\u001b[0;34m\u001b[0m\u001b[0m\n\u001b[1;32m     17\u001b[0m             \u001b[0mtrain_img_resize\u001b[0m \u001b[0;34m=\u001b[0m \u001b[0mcv2\u001b[0m\u001b[0;34m.\u001b[0m\u001b[0mresize\u001b[0m\u001b[0;34m(\u001b[0m\u001b[0mtrain_img\u001b[0m\u001b[0;34m,\u001b[0m \u001b[0;34m(\u001b[0m\u001b[0;36m640\u001b[0m\u001b[0;34m,\u001b[0m \u001b[0;36m360\u001b[0m\u001b[0;34m)\u001b[0m\u001b[0;34m)\u001b[0m\u001b[0;34m\u001b[0m\u001b[0;34m\u001b[0m\u001b[0m\n",
            "\u001b[0;31mKeyboardInterrupt\u001b[0m: "
          ]
        }
      ]
    },
    {
      "cell_type": "code",
      "metadata": {
        "colab": {
          "base_uri": "https://localhost:8080/"
        },
        "id": "FEGrwrGO_yKY",
        "outputId": "66cb65f5-814f-4d04-eb67-f44be626f4fa"
      },
      "source": [
        "len(x_train)"
      ],
      "execution_count": null,
      "outputs": [
        {
          "output_type": "execute_result",
          "data": {
            "text/plain": [
              "1704"
            ]
          },
          "metadata": {
            "tags": []
          },
          "execution_count": 98
        }
      ]
    },
    {
      "cell_type": "code",
      "metadata": {
        "id": "at_pwRwCDK2u"
      },
      "source": [
        "x_train = np.array(x_train)\r\n",
        "y_train = np.array(y_train)"
      ],
      "execution_count": null,
      "outputs": []
    },
    {
      "cell_type": "code",
      "metadata": {
        "id": "wvY1CEybcs_F"
      },
      "source": [
        "# x_val, y_val, gt_val = x_train[int(0.8 * len(x_train)):len(x_train)], y_train[int(0.8 * len(y_train)):len(y_train)], gt_train_list[int(0.8 * len(gt_train_list)):len(gt_train_list)]\r\n",
        "# x_train, y_train, gt_train = x_train[:int(0.8 * len(x_train))], y_train[:int(0.8 * len(y_train))], gt_train_list[:int(0.8 * len(gt_train_list))]"
      ],
      "execution_count": null,
      "outputs": []
    },
    {
      "cell_type": "code",
      "metadata": {
        "id": "-yKv9MCdXPzN"
      },
      "source": [
        "# x_val_resized = x_train_resized[int(0.8 * len(x_train)):]\r\n",
        "# x_train_resized = x_train_resized[:int(0.8 * len(x_train))]"
      ],
      "execution_count": null,
      "outputs": []
    },
    {
      "cell_type": "code",
      "metadata": {
        "id": "Nq4AhUq1wHXI",
        "colab": {
          "base_uri": "https://localhost:8080/",
          "height": 464
        },
        "outputId": "c71b3e38-b407-40c3-8133-0478fa6a14f0"
      },
      "source": [
        "x_test = []\r\n",
        "gt_test_list = []\r\n",
        "x_test_resized = []\r\n",
        "y_test = []\r\n",
        "path = \"/content/gdrive/MyDrive/fdst/test_data\"\r\n",
        "cnt = 0\r\n",
        "for root, dirs, files in os.walk(path):\r\n",
        "  if \"annotation_map_5\" in root:\r\n",
        "    print(root)\r\n",
        "    for file in files:\r\n",
        "      if cnt < 3000:\r\n",
        "        annot_img = cv2.imread(os.path.join(root, file), cv2.IMREAD_GRAYSCALE)\r\n",
        "        annot_img_resize = cv2.resize(annot_img, (640, 360))\r\n",
        "        _, annot_img_resize = cv2.threshold(annot_img_resize, 0, 1, cv2.THRESH_BINARY + cv2.THRESH_OTSU)\r\n",
        "        parent_dir = os.path.dirname(root)\r\n",
        "        svd_dir = os.path.join(parent_dir, 'svd_150')\r\n",
        "        if os.path.join(parent_dir, file) in gt_test_dic.keys():\r\n",
        "          gt = gt_test_dic[os.path.join(parent_dir, file)]\r\n",
        "          test_img = cv2.imread(os.path.join(svd_dir, file), cv2.IMREAD_GRAYSCALE)\r\n",
        "          if test_img is not None:\r\n",
        "            test_img_resize = cv2.resize(test_img, (640, 360))\r\n",
        "            x_test_resized.append(test_img_resize)\r\n",
        "            # _, test_img_resize = cv2.threshold(test_img_resize, 0, 255, cv2.THRESH_BINARY + cv2.THRESH_OTSU)\r\n",
        "            y_test.append(annot_img_resize)\r\n",
        "            x_test.append(test_img_resize)\r\n",
        "            gt_test_list.append(gt)\r\n",
        "            cnt += 1\r\n",
        "      else:\r\n",
        "        break\r\n"
      ],
      "execution_count": null,
      "outputs": [
        {
          "output_type": "stream",
          "text": [
            "/content/gdrive/MyDrive/fdst/test_data/85/annotation_map_5\n",
            "/content/gdrive/MyDrive/fdst/test_data/89/annotation_map_5\n",
            "/content/gdrive/MyDrive/fdst/test_data/9/annotation_map_5\n",
            "/content/gdrive/MyDrive/fdst/test_data/94/annotation_map_5\n",
            "/content/gdrive/MyDrive/fdst/test_data/90/annotation_map_5\n",
            "/content/gdrive/MyDrive/fdst/test_data/84/annotation_map_5\n",
            "/content/gdrive/MyDrive/fdst/test_data/99/annotation_map_5\n",
            "/content/gdrive/MyDrive/fdst/test_data/80/annotation_map_5\n",
            "/content/gdrive/MyDrive/fdst/test_data/95/annotation_map_5\n",
            "/content/gdrive/MyDrive/fdst/test_data/79/annotation_map_5\n",
            "/content/gdrive/MyDrive/fdst/test_data/75/annotation_map_5\n",
            "/content/gdrive/MyDrive/fdst/test_data/74/annotation_map_5\n",
            "/content/gdrive/MyDrive/fdst/test_data/69/annotation_map_5\n",
            "/content/gdrive/MyDrive/fdst/test_data/70/annotation_map_5\n"
          ],
          "name": "stdout"
        },
        {
          "output_type": "error",
          "ename": "KeyboardInterrupt",
          "evalue": "ignored",
          "traceback": [
            "\u001b[0;31m---------------------------------------------------------------------------\u001b[0m",
            "\u001b[0;31mKeyboardInterrupt\u001b[0m                         Traceback (most recent call last)",
            "\u001b[0;32m<ipython-input-85-aba25ca736bd>\u001b[0m in \u001b[0;36m<module>\u001b[0;34m()\u001b[0m\n\u001b[1;32m     17\u001b[0m         \u001b[0;32mif\u001b[0m \u001b[0mos\u001b[0m\u001b[0;34m.\u001b[0m\u001b[0mpath\u001b[0m\u001b[0;34m.\u001b[0m\u001b[0mjoin\u001b[0m\u001b[0;34m(\u001b[0m\u001b[0mparent_dir\u001b[0m\u001b[0;34m,\u001b[0m \u001b[0mfile\u001b[0m\u001b[0;34m)\u001b[0m \u001b[0;32min\u001b[0m \u001b[0mgt_test_dic\u001b[0m\u001b[0;34m.\u001b[0m\u001b[0mkeys\u001b[0m\u001b[0;34m(\u001b[0m\u001b[0;34m)\u001b[0m\u001b[0;34m:\u001b[0m\u001b[0;34m\u001b[0m\u001b[0;34m\u001b[0m\u001b[0m\n\u001b[1;32m     18\u001b[0m           \u001b[0mgt\u001b[0m \u001b[0;34m=\u001b[0m \u001b[0mgt_test_dic\u001b[0m\u001b[0;34m[\u001b[0m\u001b[0mos\u001b[0m\u001b[0;34m.\u001b[0m\u001b[0mpath\u001b[0m\u001b[0;34m.\u001b[0m\u001b[0mjoin\u001b[0m\u001b[0;34m(\u001b[0m\u001b[0mparent_dir\u001b[0m\u001b[0;34m,\u001b[0m \u001b[0mfile\u001b[0m\u001b[0;34m)\u001b[0m\u001b[0;34m]\u001b[0m\u001b[0;34m\u001b[0m\u001b[0;34m\u001b[0m\u001b[0m\n\u001b[0;32m---> 19\u001b[0;31m           \u001b[0mtest_img\u001b[0m \u001b[0;34m=\u001b[0m \u001b[0mcv2\u001b[0m\u001b[0;34m.\u001b[0m\u001b[0mimread\u001b[0m\u001b[0;34m(\u001b[0m\u001b[0mos\u001b[0m\u001b[0;34m.\u001b[0m\u001b[0mpath\u001b[0m\u001b[0;34m.\u001b[0m\u001b[0mjoin\u001b[0m\u001b[0;34m(\u001b[0m\u001b[0msvd_dir\u001b[0m\u001b[0;34m,\u001b[0m \u001b[0mfile\u001b[0m\u001b[0;34m)\u001b[0m\u001b[0;34m,\u001b[0m \u001b[0mcv2\u001b[0m\u001b[0;34m.\u001b[0m\u001b[0mIMREAD_GRAYSCALE\u001b[0m\u001b[0;34m)\u001b[0m\u001b[0;34m\u001b[0m\u001b[0;34m\u001b[0m\u001b[0m\n\u001b[0m\u001b[1;32m     20\u001b[0m           \u001b[0;32mif\u001b[0m \u001b[0mtest_img\u001b[0m \u001b[0;32mis\u001b[0m \u001b[0;32mnot\u001b[0m \u001b[0;32mNone\u001b[0m\u001b[0;34m:\u001b[0m\u001b[0;34m\u001b[0m\u001b[0;34m\u001b[0m\u001b[0m\n\u001b[1;32m     21\u001b[0m             \u001b[0mtest_img_resize\u001b[0m \u001b[0;34m=\u001b[0m \u001b[0mcv2\u001b[0m\u001b[0;34m.\u001b[0m\u001b[0mresize\u001b[0m\u001b[0;34m(\u001b[0m\u001b[0mtest_img\u001b[0m\u001b[0;34m,\u001b[0m \u001b[0;34m(\u001b[0m\u001b[0;36m640\u001b[0m\u001b[0;34m,\u001b[0m \u001b[0;36m360\u001b[0m\u001b[0;34m)\u001b[0m\u001b[0;34m)\u001b[0m\u001b[0;34m\u001b[0m\u001b[0;34m\u001b[0m\u001b[0m\n",
            "\u001b[0;31mKeyboardInterrupt\u001b[0m: "
          ]
        }
      ]
    },
    {
      "cell_type": "code",
      "metadata": {
        "id": "o16qeJU8pOMW"
      },
      "source": [
        "x_test = np.array(x_test)\r\n",
        "gt_test_list = np.array(gt_test_list)\r\n",
        "y_test = np.array(y_test)"
      ],
      "execution_count": null,
      "outputs": []
    },
    {
      "cell_type": "code",
      "metadata": {
        "colab": {
          "base_uri": "https://localhost:8080/"
        },
        "id": "AiniMRGACfur",
        "outputId": "fc212e1e-260c-4c63-cb46-7f7971307297"
      },
      "source": [
        "len(y_test)"
      ],
      "execution_count": null,
      "outputs": [
        {
          "output_type": "execute_result",
          "data": {
            "text/plain": [
              "2099"
            ]
          },
          "metadata": {
            "tags": []
          },
          "execution_count": 87
        }
      ]
    },
    {
      "cell_type": "code",
      "metadata": {
        "id": "JEy2NvJWlOOX"
      },
      "source": [
        "#Convolution block for the UNet (for Downsampling)\r\n",
        "class UNet:\r\n",
        "  def conv(self,x, filters, down_kernel, kernel_size = (3, 3), padding = 'same', strides = 1):\r\n",
        "    c = tf.keras.layers.Convolution2D(filters, kernel_size, strides, activation = 'relu', padding = padding)(x)\r\n",
        "    c = tf.keras.layers.Convolution2D(filters, kernel_size, strides, activation = 'relu', padding = padding)(c)\r\n",
        "    b = tf.keras.layers.BatchNormalization()(c)\r\n",
        "    m = tf.keras.layers.MaxPool2D(down_kernel)(b)\r\n",
        "    return b, m\r\n",
        "\r\n",
        "  # Function to define the bottleneck layer (last layer in Encoder)\r\n",
        "  def bottleneck(self, x, filters, kernel_size = (3, 3), padding = 'same', strides = 1):\r\n",
        "    c = tf.keras.layers.Convolution2D(filters, kernel_size, strides, activation = 'relu', padding = padding)(x)\r\n",
        "    c = tf.keras.layers.Convolution2D(filters, kernel_size, strides, activation = 'relu', padding = padding)(c)\r\n",
        "    b = tf.keras.layers.BatchNormalization()(c)\r\n",
        "    return b\r\n",
        "\r\n",
        "  # helps with concatenating the upsampling and downsampled layers (smaller and larger respectively)\r\n",
        "  # same number of pixels are cut from top and bottom. Likewise left and right\r\n",
        "  def get_crop(self, c, u):\r\n",
        "    height = c.shape[1] - u.shape[1]\r\n",
        "    if height % 2 == 0:\r\n",
        "      top_crop, bottom_crop = height // 2, height // 2\r\n",
        "    else:\r\n",
        "      top_crop, bottom_crop = int(height / 2), int(height / 2) + 1\r\n",
        "    width = c.shape[2] - u.shape[2]\r\n",
        "    if width % 2 == 0:\r\n",
        "      left_crop, right_crop = width // 2, width // 2\r\n",
        "    else:\r\n",
        "      left_crop, right_crop = int(width // 2), int(width // 2) + 1\r\n",
        "    \r\n",
        "    return (top_crop, bottom_crop), (left_crop, right_crop)\r\n",
        "\r\n",
        "\r\n",
        "  # Function to upsample, concatenate and convolve (Decoding layer)\r\n",
        "  def upconv(self, x, skip, filters, up_kernel, kernel_size = (3, 3), padding = 'same', strides = 1):\r\n",
        "    ups = tf.keras.layers.Conv2DTranspose(filters, (2, 2), padding = padding, strides = up_kernel)(x)\r\n",
        "    height, width = self.get_crop(skip, ups)\r\n",
        "    skip = tf.keras.layers.Cropping2D(cropping = (height, width))(skip)\r\n",
        "    concat = tf.keras.layers.Concatenate(axis = 3)([ups, skip])\r\n",
        "    c = tf.keras.layers.Convolution2D(filters, kernel_size, strides, activation = 'relu', padding = padding)(concat)\r\n",
        "    c = tf.keras.layers.Convolution2D(filters, kernel_size, strides, activation = 'relu', padding = padding)(c)\r\n",
        "    b = tf.keras.layers.BatchNormalization()(c)\r\n",
        "    return b\r\n",
        "\r\n",
        "  # Function to build the UNet Model\r\n",
        "  def build(self):\r\n",
        "    filters = [64, 128, 256, 512, 1024]\r\n",
        "    kernel = [2, 5]\r\n",
        "    input = tf.keras.layers.Input((360, 640))\r\n",
        "    reshape = tf.keras.layers.Reshape((360, 640, 1))(input)\r\n",
        "    bn = tf.keras.layers.BatchNormalization()(reshape)\r\n",
        "    c1, m1 = self.conv(bn, filters[0], kernel[0])\r\n",
        "    c2, m2 = self.conv(m1, filters[1], kernel[0])\r\n",
        "    c3, m3 = self.conv(m2, filters[2], kernel[0])\r\n",
        "    c4, m4 = self.conv(m3, filters[3], kernel[1])\r\n",
        "    c5 = self.bottleneck(m4, filters[4])\r\n",
        "    u1 = self.upconv(c5, c4, filters[3], kernel[1])\r\n",
        "    u2 = self.upconv(u1, c3, filters[2], kernel[0])\r\n",
        "    u3 = self.upconv(u2, c2, filters[1], kernel[0])\r\n",
        "    u4 = self.upconv(u3, c1, filters[0], kernel[0])\r\n",
        "    out = tf.keras.layers.Conv2D(1, 1, padding = 'same', activation = 'sigmoid', dtype = 'float32')(u4)\r\n",
        "    out = out * np.max(y_train)\r\n",
        "    out = tf.keras.layers.Reshape((360, 640))(out)\r\n",
        "    return tf.keras.Model(input, out)"
      ],
      "execution_count": null,
      "outputs": []
    },
    {
      "cell_type": "code",
      "metadata": {
        "id": "IpkokTUuvdvL"
      },
      "source": [
        "def loss(y_true, y_pred):\r\n",
        "  print(y_true)\r\n",
        "  print(y_pred)\r\n",
        "  l = tf.keras.losses.BinaryCrossentropy()(y_true, y_pred, tf.keras.losses.Reduction.SUM) + 1 - tf.reduce_sum(tf.image.ssim(target, pred, 255.0))\r\n",
        "  return l"
      ],
      "execution_count": null,
      "outputs": []
    },
    {
      "cell_type": "code",
      "metadata": {
        "id": "sqzTJ_p5mVoh"
      },
      "source": [
        "unet = UNet()\r\n",
        "unet = unet.build()\r\n",
        "unet.compile(optimizer = 'adam', loss = tf.keras.losses.BinaryCrossentropy())\r\n",
        "print(unet.summary())"
      ],
      "execution_count": null,
      "outputs": []
    },
    {
      "cell_type": "code",
      "metadata": {
        "id": "Bp4xHrPAq0t5"
      },
      "source": [
        "unet = tf.keras.models.load_model(\"/content/gdrive/MyDrive/fdst/unet_anmap_360x640_binarized_op.h5\")\r\n",
        "# callbacks = tf.keras.callbacks.EarlyStopping(patience = 5)\r\n",
        "# unet.fit(x_train, y_train,\r\n",
        "#                 epochs = 40,\r\n",
        "#                 batch_size = 10, \r\n",
        "#                 validation_data = (x_test, y_test), \r\n",
        "#                 callbacks = callbacks,\r\n",
        "#                 shuffle=True)"
      ],
      "execution_count": null,
      "outputs": []
    },
    {
      "cell_type": "code",
      "metadata": {
        "id": "yVp48598cjH8"
      },
      "source": [
        "unet.save(\"/content/gdrive/MyDrive/fdst/unet_anmap_360x640_binarized_op.h5\")"
      ],
      "execution_count": null,
      "outputs": []
    },
    {
      "cell_type": "code",
      "metadata": {
        "id": "mT3soUsyv0hW"
      },
      "source": [
        "pred = unet.predict(x_test, batch_size = 16)\r\n",
        "pred = 255 * pred\r\n",
        "pred = pred.astype('uint8')"
      ],
      "execution_count": null,
      "outputs": []
    },
    {
      "cell_type": "code",
      "metadata": {
        "id": "Nwl8-GOHcrge"
      },
      "source": [
        "a = pred[252]\r\n",
        "a = np.reshape(a, (a.shape[0], a.shape[1]))\r\n",
        "# _, a = cv2.threshold(a, 0, 1, cv2.THRESH_BINARY+cv2.THRESH_OTSU"
      ],
      "execution_count": null,
      "outputs": []
    },
    {
      "cell_type": "code",
      "metadata": {
        "colab": {
          "base_uri": "https://localhost:8080/",
          "height": 1000
        },
        "id": "DV9Q1nflE8ew",
        "outputId": "2aba322e-4aac-4035-d5d0-ecafbcda8f9b"
      },
      "source": [
        "plt.figure(figsize = (10, 20))\r\n",
        "plt.imshow(a)\r\n",
        "t = x_test[252]\r\n",
        "plt.figure(figsize=(10, 20))\r\n",
        "plt.imshow(t.reshape(t.shape[0], t.shape[1]), cmap = 'gray')\r\n",
        "gt = y_test[252]\r\n",
        "plt.figure(figsize=(10, 20))\r\n",
        "plt.imshow(gt.reshape(gt.shape[0], gt.shape[1]))"
      ],
      "execution_count": null,
      "outputs": [
        {
          "output_type": "execute_result",
          "data": {
            "text/plain": [
              "<matplotlib.image.AxesImage at 0x7f7ee58e6890>"
            ]
          },
          "metadata": {
            "tags": []
          },
          "execution_count": 549
        },
        {
          "output_type": "display_data",
          "data": {
            "image/png": "[encoded data removed]",
            "text/plain": [
              "<Figure size 720x1440 with 1 Axes>"
            ]
          },
          "metadata": {
            "tags": [],
            "needs_background": "light"
          }
        },
        {
          "output_type": "display_data",
          "data": {
            "image/png": "[encoded data removed]",
            "text/plain": [
              "<Figure size 720x1440 with 1 Axes>"
            ]
          },
          "metadata": {
            "tags": [],
            "needs_background": "light"
          }
        },
        {
          "output_type": "display_data",
          "data": {
            "image/png": "[encoded data removed]",
            "text/plain": [
              "<Figure size 720x1440 with 1 Axes>"
            ]
          },
          "metadata": {
            "tags": [],
            "needs_background": "light"
          }
        }
      ]
    },
    {
      "cell_type": "code",
      "metadata": {
        "id": "bpIK0Bsi2R-V"
      },
      "source": [
        "def resize_img(x1):\r\n",
        "  for i in range(x1.shape[0]):\r\n",
        "    _, x1[i,:,:] = cv2.threshold(x1[i,:,:], 0, 1, cv2.THRESH_BINARY + cv2.THRESH_OTSU)\r\n",
        "  return x1 "
      ],
      "execution_count": null,
      "outputs": []
    },
    {
      "cell_type": "code",
      "metadata": {
        "id": "GlSSzl2_Krgb"
      },
      "source": [
        "x2 = resize_img(pred.astype('uint8'))\r\n",
        "x2 = np.reshape(x2, (x2.shape[0], x2.shape[1], x2.shape[2]))\r\n",
        "\r\n",
        "\r\n",
        "# sums_train, sums_test, sums_pred = sums(y_train), sums(y_test), sums(x2)\r\n",
        "# f_train, f_test = sums_train / gt_train_list, sums_test / gt_test_list"
      ],
      "execution_count": null,
      "outputs": []
    },
    {
      "cell_type": "code",
      "metadata": {
        "id": "VwjLk64abX3Z"
      },
      "source": [
        "class CNN:\r\n",
        "# Function to build convolution blocks (convolution + Batch Normalization + Downsampling)\r\n",
        "  def densitytogtConv(self, x, filters, kernel_size = 2, strides = 1):\r\n",
        "    c = tf.keras.layers.Conv2D(filters, kernel_size, strides, activation='relu', padding = 'same')(x)\r\n",
        "    # c = tf.keras.layers.Conv2D(filters, kernel_size, strides, activation='relu', padding = 'same')(c)\r\n",
        "    b = tf.keras.layers.BatchNormalization()(c)\r\n",
        "    m = tf.keras.layers.MaxPool2D((2, 2))(b)\r\n",
        "    return m\r\n",
        "\r\n",
        "  # Function to build Fully Connected Layers with Dropouts\r\n",
        "  def densitytogtFc(self, x):\r\n",
        "    f1 = tf.keras.layers.Dense(2048, activation='relu')(x)\r\n",
        "    f1 = tf.keras.layers.Dense(512, activation='relu')(f1)\r\n",
        "    f1 = tf.keras.layers.Dense(256, activation='relu')(f1)\r\n",
        "    d = tf.keras.layers.Dropout(0.2)(f1)\r\n",
        "    f2 = tf.keras.layers.Dense(128, activation='relu')(f1)\r\n",
        "    d = tf.keras.layers.Dropout(0.2)(f2)\r\n",
        "    f3 = tf.keras.layers.Dense(32, activation='relu')(f2)\r\n",
        "    f4 = tf.keras.layers.Dense(1, activation='softplus')(f3)\r\n",
        "    return f4\r\n",
        "\r\n",
        "  def densitytogt(self):\r\n",
        "    f = [4, 8, 16, 32, 64]\r\n",
        "    k = [2, 3]\r\n",
        "    inp = tf.keras.layers.Input((360, 640))\r\n",
        "    r = tf.keras.layers.Reshape((360, 640, 1))(inp)\r\n",
        "    m1 = self.densitytogtConv(r, f[0])\r\n",
        "    m2 = self.densitytogtConv(m1, f[1])\r\n",
        "    m3 = self.densitytogtConv(m2, f[2])\r\n",
        "    m4 = self.densitytogtConv(m3, f[3])\r\n",
        "    m5 = self.densitytogtConv(m4, f[4])\r\n",
        "    fl = tf.keras.layers.Flatten()(m5)\r\n",
        "    d = tf.keras.layers.Dropout(0.2)(fl)\r\n",
        "    output = self.densitytogtFc(d)\r\n",
        "    return tf.keras.Model(inp, output)"
      ],
      "execution_count": null,
      "outputs": []
    },
    {
      "cell_type": "code",
      "metadata": {
        "id": "6I0pGQlBw7ma"
      },
      "source": [
        "cnn = CNN()\r\n",
        "reg = cnn.densitytogt()"
      ],
      "execution_count": null,
      "outputs": []
    },
    {
      "cell_type": "code",
      "metadata": {
        "id": "t2RFZQ7lcxF2",
        "colab": {
          "base_uri": "https://localhost:8080/"
        },
        "outputId": "ca386f05-07a2-45c2-e3af-d9da5087317a"
      },
      "source": [
        "reg.summary()"
      ],
      "execution_count": null,
      "outputs": [
        {
          "output_type": "stream",
          "text": [
            "Model: \"model_9\"\n",
            "_________________________________________________________________\n",
            "Layer (type)                 Output Shape              Param #   \n",
            "=================================================================\n",
            "input_10 (InputLayer)        [(None, 360, 640)]        0         \n",
            "_________________________________________________________________\n",
            "reshape_9 (Reshape)          (None, 360, 640, 1)       0         \n",
            "_________________________________________________________________\n",
            "conv2d_44 (Conv2D)           (None, 360, 640, 4)       20        \n",
            "_________________________________________________________________\n",
            "batch_normalization_44 (Batc (None, 360, 640, 4)       16        \n",
            "_________________________________________________________________\n",
            "max_pooling2d_44 (MaxPooling (None, 180, 320, 4)       0         \n",
            "_________________________________________________________________\n",
            "conv2d_45 (Conv2D)           (None, 180, 320, 8)       136       \n",
            "_________________________________________________________________\n",
            "batch_normalization_45 (Batc (None, 180, 320, 8)       32        \n",
            "_________________________________________________________________\n",
            "max_pooling2d_45 (MaxPooling (None, 90, 160, 8)        0         \n",
            "_________________________________________________________________\n",
            "conv2d_46 (Conv2D)           (None, 90, 160, 16)       528       \n",
            "_________________________________________________________________\n",
            "batch_normalization_46 (Batc (None, 90, 160, 16)       64        \n",
            "_________________________________________________________________\n",
            "max_pooling2d_46 (MaxPooling (None, 45, 80, 16)        0         \n",
            "_________________________________________________________________\n",
            "conv2d_47 (Conv2D)           (None, 45, 80, 32)        2080      \n",
            "_________________________________________________________________\n",
            "batch_normalization_47 (Batc (None, 45, 80, 32)        128       \n",
            "_________________________________________________________________\n",
            "max_pooling2d_47 (MaxPooling (None, 22, 40, 32)        0         \n",
            "_________________________________________________________________\n",
            "conv2d_48 (Conv2D)           (None, 22, 40, 64)        8256      \n",
            "_________________________________________________________________\n",
            "batch_normalization_48 (Batc (None, 22, 40, 64)        256       \n",
            "_________________________________________________________________\n",
            "max_pooling2d_48 (MaxPooling (None, 11, 20, 64)        0         \n",
            "_________________________________________________________________\n",
            "flatten_9 (Flatten)          (None, 14080)             0         \n",
            "_________________________________________________________________\n",
            "dropout_17 (Dropout)         (None, 14080)             0         \n",
            "_________________________________________________________________\n",
            "dense_54 (Dense)             (None, 2048)              28837888  \n",
            "_________________________________________________________________\n",
            "dense_55 (Dense)             (None, 512)               1049088   \n",
            "_________________________________________________________________\n",
            "dense_56 (Dense)             (None, 256)               131328    \n",
            "_________________________________________________________________\n",
            "dense_57 (Dense)             (None, 128)               32896     \n",
            "_________________________________________________________________\n",
            "dense_58 (Dense)             (None, 32)                4128      \n",
            "_________________________________________________________________\n",
            "dense_59 (Dense)             (None, 1)                 33        \n",
            "=================================================================\n",
            "Total params: 30,066,877\n",
            "Trainable params: 30,066,629\n",
            "Non-trainable params: 248\n",
            "_________________________________________________________________\n"
          ],
          "name": "stdout"
        }
      ]
    },
    {
      "cell_type": "code",
      "metadata": {
        "id": "NvNBi38M9D0I"
      },
      "source": [
        "optimizer = tf.keras.optimizers.Adam(learning_rate=1e-3)\r\n",
        "reg.compile(optimizer='adam', loss = 'mse')"
      ],
      "execution_count": null,
      "outputs": []
    },
    {
      "cell_type": "code",
      "metadata": {
        "colab": {
          "base_uri": "https://localhost:8080/"
        },
        "id": "TvPresBk9ZBU",
        "outputId": "98dbae2b-20c2-4645-cd9f-4bb1d947cec0"
      },
      "source": [
        "reg.fit(y_train, np.array(gt_train_list, dtype = 'float32'), batch_size=32, epochs = 30, shuffle = True, validation_data=(y_test, np.array(gt_test_list, dtype = 'float32')))"
      ],
      "execution_count": null,
      "outputs": [
        {
          "output_type": "stream",
          "text": [
            "Epoch 1/30\n",
            "34/34 [==============================] - 4s 80ms/step - loss: 153.8589 - val_loss: 700.4411\n",
            "Epoch 2/30\n",
            "34/34 [==============================] - 2s 72ms/step - loss: 5.1512 - val_loss: 682.0101\n",
            "Epoch 3/30\n",
            "34/34 [==============================] - 2s 71ms/step - loss: 5.5957 - val_loss: 661.9448\n",
            "Epoch 4/30\n",
            "34/34 [==============================] - 2s 71ms/step - loss: 3.2215 - val_loss: 649.2135\n",
            "Epoch 5/30\n",
            "34/34 [==============================] - 2s 72ms/step - loss: 2.8243 - val_loss: 634.5784\n",
            "Epoch 6/30\n",
            "34/34 [==============================] - 2s 72ms/step - loss: 4.2413 - val_loss: 621.4651\n",
            "Epoch 7/30\n",
            "34/34 [==============================] - 2s 72ms/step - loss: 2.1037 - val_loss: 605.8035\n",
            "Epoch 8/30\n",
            "34/34 [==============================] - 2s 72ms/step - loss: 2.8776 - val_loss: 603.5471\n",
            "Epoch 9/30\n",
            "34/34 [==============================] - 2s 72ms/step - loss: 1.9481 - val_loss: 581.4303\n",
            "Epoch 10/30\n",
            "34/34 [==============================] - 2s 72ms/step - loss: 2.4411 - val_loss: 553.2248\n",
            "Epoch 11/30\n",
            "34/34 [==============================] - 2s 72ms/step - loss: 1.1758 - val_loss: 521.7753\n",
            "Epoch 12/30\n",
            "34/34 [==============================] - 2s 72ms/step - loss: 1.2992 - val_loss: 542.1841\n",
            "Epoch 13/30\n",
            "34/34 [==============================] - 2s 71ms/step - loss: 1.5122 - val_loss: 528.1436\n",
            "Epoch 14/30\n",
            "34/34 [==============================] - 2s 71ms/step - loss: 1.9095 - val_loss: 540.0482\n",
            "Epoch 15/30\n",
            "34/34 [==============================] - 2s 72ms/step - loss: 4.5699 - val_loss: 518.8159\n",
            "Epoch 16/30\n",
            "34/34 [==============================] - 2s 72ms/step - loss: 1.7713 - val_loss: 481.9001\n",
            "Epoch 17/30\n",
            "34/34 [==============================] - 2s 72ms/step - loss: 1.3029 - val_loss: 467.6800\n",
            "Epoch 18/30\n",
            "34/34 [==============================] - 2s 71ms/step - loss: 2.8390 - val_loss: 378.2519\n",
            "Epoch 19/30\n",
            "34/34 [==============================] - 2s 72ms/step - loss: 1.8181 - val_loss: 378.9473\n",
            "Epoch 20/30\n",
            "34/34 [==============================] - 2s 72ms/step - loss: 2.6227 - val_loss: 382.7024\n",
            "Epoch 21/30\n",
            "34/34 [==============================] - 2s 72ms/step - loss: 1.0214 - val_loss: 329.3752\n",
            "Epoch 22/30\n",
            "34/34 [==============================] - 2s 72ms/step - loss: 0.9423 - val_loss: 190.3844\n",
            "Epoch 23/30\n",
            "34/34 [==============================] - 2s 72ms/step - loss: 1.2631 - val_loss: 356.9218\n",
            "Epoch 24/30\n",
            "34/34 [==============================] - 2s 72ms/step - loss: 1.2685 - val_loss: 270.7342\n",
            "Epoch 25/30\n",
            "34/34 [==============================] - 2s 72ms/step - loss: 1.7235 - val_loss: 327.4777\n",
            "Epoch 26/30\n",
            "34/34 [==============================] - 2s 72ms/step - loss: 1.0129 - val_loss: 306.8924\n",
            "Epoch 27/30\n",
            "34/34 [==============================] - 2s 72ms/step - loss: 0.8214 - val_loss: 338.2590\n",
            "Epoch 28/30\n",
            "34/34 [==============================] - 2s 72ms/step - loss: 1.0792 - val_loss: 109.3951\n",
            "Epoch 29/30\n",
            "34/34 [==============================] - 2s 72ms/step - loss: 0.7983 - val_loss: 211.3388\n",
            "Epoch 30/30\n",
            "34/34 [==============================] - 2s 71ms/step - loss: 1.1475 - val_loss: 146.0166\n"
          ],
          "name": "stdout"
        },
        {
          "output_type": "execute_result",
          "data": {
            "text/plain": [
              "<tensorflow.python.keras.callbacks.History at 0x7f9e638e6d50>"
            ]
          },
          "metadata": {
            "tags": []
          },
          "execution_count": 75
        }
      ]
    },
    {
      "cell_type": "code",
      "metadata": {
        "id": "LnOE3Y6MT4OP"
      },
      "source": [
        "reg.save(\"/content/gdrive/MyDrive/fdst/densitytogtbesttrain.h5\")"
      ],
      "execution_count": null,
      "outputs": []
    },
    {
      "cell_type": "code",
      "metadata": {
        "id": "ItgYoYoHSz76"
      },
      "source": [
        "reg = reg.load_weights(\"/content/gdrive/MyDrive/fdst/assets\")"
      ],
      "execution_count": null,
      "outputs": []
    },
    {
      "cell_type": "code",
      "metadata": {
        "id": "sGzq_kjSAVzY"
      },
      "source": [
        "reg = tf.keras.models.load_model(\"/content/gdrive/MyDrive/fdst/densitytogtbesttrain.h5\")"
      ],
      "execution_count": null,
      "outputs": []
    },
    {
      "cell_type": "code",
      "metadata": {
        "id": "pBeTq6shLMHO"
      },
      "source": [
        "gt_preds = reg.predict(x2)\r\n",
        "gt_preds = gt_preds.flatten()"
      ],
      "execution_count": null,
      "outputs": []
    },
    {
      "cell_type": "code",
      "metadata": {
        "colab": {
          "base_uri": "https://localhost:8080/"
        },
        "id": "IsNbxCwFzOoT",
        "outputId": "4c505e26-a532-43ba-876c-7e2d21e50d78"
      },
      "source": [
        "(np.sum(x2[400]) / 255 ) / (25)"
      ],
      "execution_count": null,
      "outputs": [
        {
          "output_type": "execute_result",
          "data": {
            "text/plain": [
              "38.08"
            ]
          },
          "metadata": {
            "tags": []
          },
          "execution_count": 270
        }
      ]
    },
    {
      "cell_type": "code",
      "metadata": {
        "id": "BbCj2ITDLUWo"
      },
      "source": [
        "target = gt_test_list"
      ],
      "execution_count": null,
      "outputs": []
    },
    {
      "cell_type": "code",
      "metadata": {
        "id": "eNvHJ7KCLl6N",
        "colab": {
          "base_uri": "https://localhost:8080/"
        },
        "outputId": "13aa7062-03b8-41dd-efd6-1492234d2d3b"
      },
      "source": [
        "cc_true = []\r\n",
        "cc_pred = []\r\n",
        "for i in range(len(target)):\r\n",
        "  print((gt_preds[i], target[i]))\r\n",
        "  cc_true.append(target[i])\r\n",
        "  cc_pred.append(gt_preds[i])"
      ],
      "execution_count": null,
      "outputs": [
        {
          "output_type": "stream",
          "text": [
            "(21.073044, 22)\n",
            "(21.090967, 22)\n",
            "(21.368101, 22)\n",
            "(21.799871, 22)\n",
            "(20.765759, 22)\n",
            "(21.449553, 22)\n",
            "(21.394499, 22)\n",
            "(21.491806, 22)\n",
            "(20.870882, 22)\n",
            "(21.180338, 22)\n",
            "(21.346891, 22)\n",
            "(21.802015, 22)\n",
            "(22.242, 22)\n",
            "(21.910309, 22)\n",
            "(22.387442, 22)\n",
            "(22.45397, 22)\n",
            "(21.756527, 22)\n",
            "(21.832647, 22)\n",
            "(21.376348, 22)\n",
            "(21.189882, 22)\n",
            "(21.531864, 22)\n",
            "(21.311954, 22)\n",
            "(21.747255, 22)\n",
            "(21.341246, 22)\n",
            "(22.115017, 22)\n",
            "(21.51152, 22)\n",
            "(21.573141, 22)\n",
            "(21.319324, 22)\n",
            "(21.744398, 22)\n",
            "(21.39972, 22)\n",
            "(20.84365, 23)\n",
            "(21.69882, 22)\n",
            "(21.251795, 22)\n",
            "(21.40736, 23)\n",
            "(21.721014, 23)\n",
            "(19.926731, 23)\n",
            "(20.77739, 23)\n",
            "(21.297894, 23)\n",
            "(21.27308, 23)\n",
            "(19.94152, 23)\n",
            "(21.32236, 23)\n",
            "(20.723637, 22)\n",
            "(20.604761, 22)\n",
            "(20.863539, 22)\n",
            "(20.361433, 22)\n",
            "(21.267143, 22)\n",
            "(19.577383, 22)\n",
            "(21.045322, 22)\n",
            "(21.638897, 22)\n",
            "(20.327265, 22)\n",
            "(20.892357, 22)\n",
            "(20.807991, 22)\n",
            "(21.332525, 22)\n",
            "(21.047546, 22)\n",
            "(21.061253, 22)\n",
            "(21.937334, 22)\n",
            "(20.552423, 22)\n",
            "(20.770178, 22)\n",
            "(21.727837, 22)\n",
            "(21.590286, 22)\n",
            "(21.733452, 22)\n",
            "(20.044682, 22)\n",
            "(20.706476, 22)\n",
            "(20.333494, 22)\n",
            "(20.719868, 22)\n",
            "(18.662891, 22)\n",
            "(19.678682, 22)\n",
            "(19.4613, 22)\n",
            "(18.864954, 22)\n",
            "(20.82716, 22)\n",
            "(21.486654, 22)\n",
            "(21.86091, 22)\n",
            "(21.183731, 22)\n",
            "(21.924187, 22)\n",
            "(20.923048, 22)\n",
            "(21.890789, 22)\n",
            "(20.43023, 22)\n",
            "(21.572641, 22)\n",
            "(20.689983, 22)\n",
            "(22.235497, 21)\n",
            "(21.129015, 22)\n",
            "(21.338987, 21)\n",
            "(20.645712, 22)\n",
            "(21.932959, 22)\n",
            "(21.780943, 21)\n",
            "(22.978369, 21)\n",
            "(20.965584, 21)\n",
            "(21.927046, 21)\n",
            "(22.27112, 21)\n",
            "(20.602322, 21)\n",
            "(22.064138, 21)\n",
            "(21.402529, 21)\n",
            "(22.35134, 21)\n",
            "(23.152136, 20)\n",
            "(20.956459, 21)\n",
            "(21.296825, 20)\n",
            "(20.574478, 21)\n",
            "(21.350588, 20)\n",
            "(20.032457, 20)\n",
            "(21.264212, 20)\n",
            "(22.410414, 20)\n",
            "(22.341152, 20)\n",
            "(23.112373, 20)\n",
            "(22.817232, 20)\n",
            "(22.864296, 20)\n",
            "(23.291983, 20)\n",
            "(23.966913, 20)\n",
            "(23.662874, 20)\n",
            "(24.809607, 20)\n",
            "(23.498539, 20)\n",
            "(23.843195, 20)\n",
            "(23.189213, 20)\n",
            "(24.166534, 20)\n",
            "(23.626804, 20)\n",
            "(23.125906, 20)\n",
            "(22.933868, 20)\n",
            "(24.258583, 20)\n",
            "(23.00928, 20)\n",
            "(23.661331, 20)\n",
            "(22.438267, 20)\n",
            "(22.805012, 20)\n",
            "(22.837456, 20)\n",
            "(22.701769, 20)\n",
            "(24.702894, 20)\n",
            "(22.756641, 20)\n",
            "(22.757883, 20)\n",
            "(24.10879, 20)\n",
            "(23.545979, 20)\n",
            "(23.002327, 20)\n",
            "(23.691431, 20)\n",
            "(22.656254, 20)\n",
            "(23.033007, 20)\n",
            "(22.683846, 20)\n",
            "(24.192766, 20)\n",
            "(24.84903, 20)\n",
            "(23.547342, 20)\n",
            "(22.868753, 20)\n",
            "(21.167812, 20)\n",
            "(21.571127, 20)\n",
            "(22.02095, 20)\n",
            "(20.786055, 20)\n",
            "(21.939327, 20)\n",
            "(21.178274, 20)\n",
            "(22.686998, 20)\n",
            "(23.648172, 20)\n",
            "(24.086166, 20)\n",
            "(23.772663, 20)\n",
            "(24.117487, 20)\n",
            "(23.961576, 20)\n",
            "(23.959158, 20)\n",
            "(20.882141, 19)\n",
            "(21.465551, 19)\n",
            "(20.386232, 19)\n",
            "(21.093489, 19)\n",
            "(20.72593, 19)\n",
            "(20.243568, 19)\n",
            "(21.07947, 19)\n",
            "(20.693167, 19)\n",
            "(21.640081, 19)\n",
            "(21.959406, 19)\n",
            "(21.361397, 19)\n",
            "(22.573425, 18)\n",
            "(20.908766, 19)\n",
            "(20.933048, 19)\n",
            "(21.234438, 19)\n",
            "(22.061304, 18)\n",
            "(22.432484, 18)\n",
            "(21.082531, 19)\n",
            "(21.151543, 18)\n",
            "(22.083254, 19)\n",
            "(23.156137, 19)\n",
            "(22.891035, 19)\n",
            "(22.803904, 19)\n",
            "(23.413385, 19)\n",
            "(21.874516, 19)\n",
            "(22.69789, 19)\n",
            "(24.067596, 19)\n",
            "(24.023859, 19)\n",
            "(23.659554, 19)\n",
            "(23.080536, 19)\n",
            "(25.608587, 19)\n",
            "(23.124804, 19)\n",
            "(25.873539, 19)\n",
            "(25.727089, 19)\n",
            "(24.311073, 19)\n",
            "(24.318485, 19)\n",
            "(24.454035, 19)\n",
            "(23.442766, 19)\n",
            "(25.491646, 19)\n",
            "(23.311956, 19)\n",
            "(22.851885, 19)\n",
            "(25.862604, 19)\n",
            "(24.650011, 19)\n",
            "(24.14839, 19)\n",
            "(24.48195, 19)\n",
            "(23.606352, 19)\n",
            "(24.325218, 20)\n",
            "(24.351326, 20)\n",
            "(24.880495, 19)\n",
            "(24.373854, 19)\n",
            "(23.867832, 19)\n",
            "(23.960455, 20)\n",
            "(24.313038, 19)\n",
            "(23.268543, 20)\n",
            "(23.18704, 19)\n",
            "(24.354494, 19)\n",
            "(24.482538, 19)\n",
            "(23.169601, 19)\n",
            "(23.465277, 19)\n",
            "(24.207975, 19)\n",
            "(23.653202, 19)\n",
            "(25.432241, 19)\n",
            "(24.594398, 19)\n",
            "(24.503918, 19)\n",
            "(24.336966, 19)\n",
            "(23.999516, 19)\n",
            "(23.945961, 19)\n",
            "(24.48381, 19)\n",
            "(23.54402, 19)\n",
            "(23.375551, 19)\n",
            "(23.125711, 19)\n",
            "(23.36683, 19)\n",
            "(24.414825, 18)\n",
            "(23.781008, 19)\n",
            "(23.891315, 19)\n",
            "(24.813942, 18)\n",
            "(24.256659, 18)\n",
            "(24.6162, 18)\n",
            "(24.013487, 18)\n",
            "(24.103176, 19)\n",
            "(24.224953, 18)\n",
            "(24.16916, 18)\n",
            "(24.722168, 18)\n",
            "(24.28486, 18)\n",
            "(24.639278, 19)\n",
            "(24.049412, 18)\n",
            "(24.208244, 18)\n",
            "(24.989006, 18)\n",
            "(24.08189, 19)\n",
            "(25.179955, 19)\n",
            "(24.619549, 18)\n",
            "(24.967611, 18)\n",
            "(24.169014, 18)\n",
            "(24.739288, 18)\n",
            "(24.006845, 18)\n",
            "(24.94708, 18)\n",
            "(24.09289, 18)\n",
            "(24.783957, 18)\n",
            "(24.96192, 18)\n",
            "(24.598326, 18)\n",
            "(24.55706, 18)\n",
            "(24.741693, 18)\n",
            "(24.029173, 18)\n",
            "(23.99682, 18)\n",
            "(24.183992, 18)\n",
            "(24.724863, 18)\n",
            "(23.954405, 18)\n",
            "(24.570744, 18)\n",
            "(24.075674, 19)\n",
            "(22.586853, 18)\n",
            "(22.855547, 18)\n",
            "(23.396208, 19)\n",
            "(23.096724, 19)\n",
            "(22.602787, 19)\n",
            "(22.952145, 19)\n",
            "(23.581055, 19)\n",
            "(21.411674, 19)\n",
            "(20.88003, 19)\n",
            "(20.31689, 19)\n",
            "(21.108568, 19)\n",
            "(21.262047, 19)\n",
            "(21.045578, 19)\n",
            "(22.151775, 19)\n",
            "(21.682941, 19)\n",
            "(22.105753, 19)\n",
            "(21.096355, 19)\n",
            "(21.760721, 19)\n",
            "(21.594349, 19)\n",
            "(22.750433, 19)\n",
            "(20.920668, 19)\n",
            "(20.75791, 19)\n",
            "(21.010763, 19)\n",
            "(21.036345, 19)\n",
            "(21.783619, 18)\n",
            "(22.212444, 18)\n",
            "(21.22266, 19)\n",
            "(21.217363, 18)\n",
            "(21.404354, 19)\n",
            "(20.276846, 18)\n",
            "(21.08423, 18)\n",
            "(21.038961, 18)\n",
            "(20.878826, 18)\n",
            "(19.950148, 18)\n",
            "(20.677504, 18)\n",
            "(21.689945, 18)\n",
            "(21.757448, 18)\n",
            "(22.504915, 18)\n",
            "(21.769873, 18)\n",
            "(22.015001, 18)\n",
            "(21.335, 18)\n",
            "(22.564478, 27)\n",
            "(23.019878, 27)\n",
            "(22.917145, 27)\n",
            "(22.58109, 27)\n",
            "(23.50743, 25)\n",
            "(21.916054, 27)\n",
            "(22.1325, 26)\n",
            "(23.658482, 25)\n",
            "(22.502268, 25)\n",
            "(21.79141, 25)\n",
            "(23.360418, 25)\n",
            "(23.531929, 25)\n",
            "(23.722439, 25)\n",
            "(22.686073, 25)\n",
            "(22.72956, 25)\n",
            "(22.626158, 26)\n",
            "(22.591839, 25)\n",
            "(22.646286, 25)\n",
            "(22.921997, 25)\n",
            "(23.743343, 26)\n",
            "(22.616522, 25)\n",
            "(23.13893, 27)\n",
            "(24.270386, 27)\n",
            "(23.635136, 27)\n",
            "(23.503544, 27)\n",
            "(23.311102, 26)\n",
            "(24.33913, 27)\n",
            "(22.695875, 27)\n",
            "(22.901855, 27)\n",
            "(23.44124, 27)\n",
            "(23.133055, 27)\n",
            "(22.143526, 27)\n",
            "(22.67961, 27)\n",
            "(22.157324, 27)\n",
            "(22.906763, 27)\n",
            "(22.21471, 27)\n",
            "(23.00049, 27)\n",
            "(22.735388, 27)\n",
            "(21.640652, 27)\n",
            "(22.593111, 27)\n",
            "(21.920929, 27)\n",
            "(23.35582, 27)\n",
            "(22.845945, 28)\n",
            "(23.087648, 29)\n",
            "(23.310513, 29)\n",
            "(23.325163, 29)\n",
            "(23.15457, 29)\n",
            "(22.290997, 29)\n",
            "(22.11311, 29)\n",
            "(22.336214, 29)\n",
            "(23.108234, 30)\n",
            "(22.08335, 29)\n",
            "(23.030882, 30)\n",
            "(23.246063, 30)\n",
            "(22.523952, 29)\n",
            "(23.885805, 30)\n",
            "(23.668798, 30)\n",
            "(23.341845, 30)\n",
            "(23.32681, 30)\n",
            "(24.021662, 31)\n",
            "(23.043184, 30)\n",
            "(23.812325, 30)\n",
            "(23.615532, 30)\n",
            "(23.86578, 30)\n",
            "(22.278717, 29)\n",
            "(22.548363, 29)\n",
            "(22.07134, 29)\n",
            "(24.574451, 31)\n",
            "(24.07775, 31)\n",
            "(24.749704, 31)\n",
            "(24.552238, 31)\n",
            "(24.280329, 31)\n",
            "(24.104012, 31)\n",
            "(24.248657, 31)\n",
            "(24.86102, 31)\n",
            "(24.411575, 30)\n",
            "(24.037916, 31)\n",
            "(24.177444, 31)\n",
            "(24.470955, 31)\n",
            "(25.153217, 30)\n",
            "(24.083088, 30)\n",
            "(23.049416, 30)\n",
            "(24.373894, 30)\n",
            "(24.118309, 30)\n",
            "(24.637554, 30)\n",
            "(23.844328, 30)\n",
            "(23.908775, 30)\n",
            "(24.858616, 30)\n",
            "(24.932, 29)\n",
            "(25.457842, 29)\n",
            "(24.444166, 29)\n",
            "(26.634644, 29)\n",
            "(25.489464, 29)\n",
            "(24.237345, 29)\n",
            "(24.61259, 29)\n",
            "(23.738396, 29)\n",
            "(23.958414, 29)\n",
            "(24.647604, 30)\n",
            "(23.988691, 29)\n",
            "(23.796371, 29)\n",
            "(25.516901, 30)\n",
            "(24.256481, 29)\n",
            "(25.479923, 30)\n",
            "(25.300947, 29)\n",
            "(23.497913, 30)\n",
            "(24.673618, 30)\n",
            "(25.786444, 30)\n",
            "(25.87797, 32)\n",
            "(25.062574, 30)\n",
            "(24.379553, 31)\n",
            "(24.47026, 31)\n",
            "(26.290699, 32)\n",
            "(24.432035, 31)\n",
            "(25.274614, 32)\n",
            "(25.486746, 32)\n",
            "(27.934105, 32)\n",
            "(28.589136, 32)\n",
            "(25.745852, 32)\n",
            "(27.56839, 32)\n",
            "(26.976994, 32)\n",
            "(25.66497, 32)\n",
            "(27.677, 32)\n",
            "(25.077436, 32)\n",
            "(25.755426, 32)\n",
            "(25.415527, 32)\n",
            "(25.516367, 32)\n",
            "(26.331451, 33)\n",
            "(25.854803, 32)\n",
            "(26.213566, 33)\n",
            "(26.625416, 33)\n",
            "(26.898132, 33)\n",
            "(26.771786, 33)\n",
            "(27.139906, 34)\n",
            "(26.906193, 33)\n",
            "(27.094944, 34)\n",
            "(27.445993, 34)\n",
            "(27.639101, 34)\n",
            "(26.793, 33)\n",
            "(26.495077, 33)\n",
            "(26.203009, 33)\n",
            "(28.902412, 33)\n",
            "(27.613419, 33)\n",
            "(25.82227, 32)\n",
            "(25.869938, 32)\n",
            "(27.534546, 34)\n",
            "(25.785595, 32)\n",
            "(28.145622, 35)\n",
            "(28.6429, 35)\n",
            "(27.865835, 34)\n",
            "(27.01822, 34)\n",
            "(36.472454, 37)\n",
            "(36.38196, 37)\n",
            "(35.750923, 37)\n",
            "(36.26446, 37)\n",
            "(35.412724, 37)\n",
            "(35.843403, 37)\n",
            "(35.322083, 37)\n",
            "(35.44502, 37)\n",
            "(35.122707, 37)\n",
            "(35.889877, 37)\n",
            "(36.35599, 37)\n",
            "(35.713684, 37)\n",
            "(34.11272, 37)\n",
            "(34.84906, 37)\n",
            "(34.95918, 37)\n",
            "(34.773552, 37)\n",
            "(33.81371, 37)\n",
            "(35.373543, 37)\n",
            "(33.749023, 37)\n",
            "(34.365284, 37)\n",
            "(34.114376, 38)\n",
            "(33.89481, 39)\n",
            "(34.374355, 39)\n",
            "(34.36641, 39)\n",
            "(34.83346, 38)\n",
            "(34.157024, 38)\n",
            "(33.537807, 39)\n",
            "(32.10231, 38)\n",
            "(32.591618, 37)\n",
            "(32.678974, 37)\n",
            "(32.537743, 38)\n",
            "(31.691616, 38)\n",
            "(31.947847, 37)\n",
            "(32.628777, 37)\n",
            "(33.11273, 37)\n",
            "(32.395115, 38)\n",
            "(31.309889, 36)\n",
            "(30.002346, 37)\n",
            "(30.555752, 36)\n",
            "(30.931046, 36)\n",
            "(31.255062, 36)\n",
            "(31.72567, 36)\n",
            "(31.68082, 36)\n",
            "(30.887728, 36)\n",
            "(30.85801, 36)\n",
            "(30.981493, 36)\n",
            "(31.037037, 35)\n",
            "(30.50782, 35)\n",
            "(30.739464, 35)\n",
            "(31.256788, 35)\n",
            "(32.04421, 35)\n",
            "(31.29638, 35)\n",
            "(30.822227, 33)\n",
            "(31.020813, 35)\n",
            "(30.268063, 32)\n",
            "(29.111065, 32)\n",
            "(29.645899, 32)\n",
            "(28.71225, 32)\n",
            "(29.840439, 32)\n",
            "(28.979563, 32)\n",
            "(29.179022, 32)\n",
            "(29.003803, 32)\n",
            "(28.950853, 32)\n",
            "(27.616323, 32)\n",
            "(28.769318, 32)\n",
            "(28.163763, 32)\n",
            "(28.180782, 32)\n",
            "(27.939466, 32)\n",
            "(28.454401, 32)\n",
            "(29.034918, 32)\n",
            "(28.740063, 32)\n",
            "(29.390575, 32)\n",
            "(29.165522, 32)\n",
            "(29.244959, 31)\n",
            "(28.594812, 32)\n",
            "(29.09529, 31)\n",
            "(28.52393, 32)\n",
            "(29.279291, 32)\n",
            "(28.909985, 32)\n",
            "(29.277931, 32)\n",
            "(29.30657, 33)\n",
            "(29.476425, 33)\n",
            "(29.46256, 33)\n",
            "(29.271017, 33)\n",
            "(29.697523, 33)\n",
            "(29.747322, 33)\n",
            "(28.817978, 31)\n",
            "(29.500324, 33)\n",
            "(27.609646, 31)\n",
            "(29.099924, 33)\n",
            "(29.216455, 33)\n",
            "(27.82157, 31)\n",
            "(28.216187, 31)\n",
            "(28.496069, 31)\n",
            "(28.002516, 31)\n",
            "(28.00593, 32)\n",
            "(27.896791, 31)\n",
            "(27.923695, 31)\n",
            "(27.785215, 32)\n",
            "(28.25393, 32)\n",
            "(27.315159, 31)\n",
            "(27.389036, 32)\n",
            "(27.40005, 32)\n",
            "(27.97474, 31)\n",
            "(29.090023, 34)\n",
            "(29.900503, 34)\n",
            "(28.944117, 34)\n",
            "(28.493486, 34)\n",
            "(29.17823, 34)\n",
            "(27.113205, 34)\n",
            "(28.961954, 34)\n",
            "(28.799934, 34)\n",
            "(29.903433, 35)\n",
            "(29.4112, 35)\n",
            "(29.293423, 35)\n",
            "(30.008497, 35)\n",
            "(29.35204, 35)\n",
            "(29.221737, 35)\n",
            "(29.223314, 35)\n",
            "(29.251644, 34)\n",
            "(29.585608, 35)\n",
            "(31.788237, 34)\n",
            "(29.259268, 34)\n",
            "(29.40162, 34)\n",
            "(31.903006, 34)\n",
            "(30.907661, 34)\n",
            "(31.025743, 34)\n",
            "(31.363632, 34)\n",
            "(30.860615, 34)\n",
            "(30.924248, 34)\n",
            "(30.581345, 34)\n",
            "(29.601114, 34)\n",
            "(29.869696, 34)\n",
            "(29.77763, 34)\n",
            "(30.266224, 34)\n",
            "(29.980669, 34)\n",
            "(31.48799, 34)\n",
            "(29.922125, 34)\n",
            "(31.19444, 34)\n",
            "(30.478817, 35)\n",
            "(30.870346, 34)\n",
            "(30.949362, 34)\n",
            "(31.875526, 34)\n",
            "(31.496489, 35)\n",
            "(31.77109, 35)\n",
            "(31.422993, 35)\n",
            "(32.721386, 35)\n",
            "(33.442986, 35)\n",
            "(33.10495, 35)\n",
            "(31.42486, 35)\n",
            "(19.877607, 22)\n",
            "(19.534243, 22)\n",
            "(20.16384, 22)\n",
            "(19.552164, 22)\n",
            "(19.758049, 22)\n",
            "(20.05126, 22)\n",
            "(20.189201, 22)\n",
            "(19.96966, 22)\n",
            "(20.757576, 22)\n",
            "(20.127329, 22)\n",
            "(20.412851, 22)\n",
            "(19.868431, 22)\n",
            "(19.625948, 22)\n",
            "(21.89143, 22)\n",
            "(19.997097, 22)\n",
            "(20.941256, 22)\n",
            "(20.46831, 22)\n",
            "(21.273228, 22)\n",
            "(20.806677, 22)\n",
            "(19.30255, 22)\n",
            "(19.82864, 22)\n",
            "(21.259691, 22)\n",
            "(19.953377, 22)\n",
            "(20.366625, 22)\n",
            "(19.32432, 22)\n",
            "(19.815893, 22)\n",
            "(21.415812, 22)\n",
            "(20.06746, 22)\n",
            "(20.014254, 22)\n",
            "(19.638374, 22)\n",
            "(19.346424, 22)\n",
            "(18.329208, 22)\n",
            "(18.139118, 22)\n",
            "(18.25033, 22)\n",
            "(16.937544, 23)\n",
            "(16.992321, 22)\n",
            "(17.120491, 23)\n",
            "(16.751604, 23)\n",
            "(18.34268, 23)\n",
            "(18.300108, 23)\n",
            "(17.63166, 23)\n",
            "(17.133516, 23)\n",
            "(17.216103, 23)\n",
            "(18.938465, 23)\n",
            "(17.600437, 23)\n",
            "(19.922737, 23)\n",
            "(20.257467, 23)\n",
            "(19.254564, 23)\n",
            "(19.624548, 23)\n",
            "(20.510704, 23)\n",
            "(19.703337, 23)\n",
            "(20.048046, 23)\n",
            "(20.816246, 23)\n",
            "(19.756044, 23)\n",
            "(21.317312, 23)\n",
            "(20.436531, 23)\n",
            "(20.261204, 23)\n",
            "(19.672037, 23)\n",
            "(19.649252, 23)\n",
            "(20.871412, 23)\n",
            "(19.948868, 23)\n",
            "(20.281532, 23)\n",
            "(20.13572, 23)\n",
            "(20.042997, 23)\n",
            "(20.55053, 22)\n",
            "(20.853678, 23)\n",
            "(20.593838, 22)\n",
            "(20.016808, 22)\n",
            "(20.54986, 23)\n",
            "(20.254124, 22)\n",
            "(20.021524, 22)\n",
            "(20.530125, 22)\n",
            "(20.283333, 22)\n",
            "(20.444607, 22)\n",
            "(20.302292, 22)\n",
            "(20.675728, 22)\n",
            "(20.130405, 22)\n",
            "(19.763668, 22)\n",
            "(22.04757, 22)\n",
            "(21.373455, 22)\n",
            "(21.627352, 22)\n",
            "(21.871962, 22)\n",
            "(20.87425, 22)\n",
            "(19.939068, 22)\n",
            "(20.118492, 22)\n",
            "(21.324348, 22)\n",
            "(21.156729, 22)\n",
            "(21.349426, 22)\n",
            "(22.752937, 22)\n",
            "(21.035414, 22)\n",
            "(20.82142, 22)\n",
            "(21.368301, 22)\n",
            "(20.92716, 22)\n",
            "(21.622238, 22)\n",
            "(22.858765, 22)\n",
            "(22.620111, 22)\n",
            "(20.44133, 23)\n",
            "(20.636547, 22)\n",
            "(21.229883, 22)\n",
            "(20.834873, 22)\n",
            "(20.099714, 23)\n",
            "(20.826937, 22)\n",
            "(20.452507, 23)\n",
            "(20.683842, 22)\n",
            "(20.55384, 22)\n",
            "(20.717438, 22)\n",
            "(21.883598, 22)\n",
            "(21.133432, 22)\n",
            "(20.115614, 22)\n",
            "(20.05412, 22)\n",
            "(20.625816, 22)\n",
            "(22.274372, 22)\n",
            "(21.628605, 22)\n",
            "(21.604198, 22)\n",
            "(23.705093, 22)\n",
            "(21.024073, 22)\n",
            "(20.164476, 22)\n",
            "(22.431784, 22)\n",
            "(22.47378, 22)\n",
            "(22.033012, 22)\n",
            "(22.56938, 22)\n",
            "(22.287907, 22)\n",
            "(21.605621, 22)\n",
            "(22.605345, 22)\n",
            "(24.492268, 21)\n",
            "(22.507973, 22)\n",
            "(21.270235, 21)\n",
            "(21.550987, 21)\n",
            "(23.08305, 21)\n",
            "(22.149462, 19)\n",
            "(22.193861, 20)\n",
            "(20.57427, 20)\n",
            "(21.704208, 19)\n",
            "(21.46304, 19)\n",
            "(21.630432, 19)\n",
            "(23.661354, 20)\n",
            "(23.0696, 20)\n",
            "(23.61005, 20)\n",
            "(21.292105, 19)\n",
            "(22.029757, 20)\n",
            "(21.70893, 19)\n",
            "(21.364447, 20)\n",
            "(21.062664, 20)\n",
            "(22.549473, 19)\n",
            "(22.148333, 19)\n",
            "(21.113474, 19)\n",
            "(20.693752, 19)\n",
            "(22.64361, 19)\n",
            "(21.507627, 19)\n",
            "(20.845228, 19)\n",
            "(20.135147, 21)\n",
            "(20.633228, 21)\n",
            "(20.751524, 21)\n",
            "(20.265762, 21)\n",
            "(20.731157, 21)\n",
            "(20.24948, 21)\n",
            "(20.988869, 20)\n",
            "(20.255564, 21)\n",
            "(21.498852, 20)\n",
            "(21.290298, 21)\n",
            "(20.77878, 20)\n",
            "(21.464226, 20)\n",
            "(20.835587, 21)\n",
            "(22.10787, 21)\n",
            "(21.760323, 22)\n",
            "(22.5593, 21)\n",
            "(22.219748, 21)\n",
            "(21.70462, 22)\n",
            "(21.98794, 22)\n",
            "(20.939625, 22)\n",
            "(22.867432, 23)\n",
            "(22.057041, 23)\n",
            "(22.49699, 23)\n",
            "(23.389254, 23)\n",
            "(22.550816, 23)\n",
            "(21.70576, 23)\n",
            "(21.314676, 23)\n",
            "(22.426943, 23)\n",
            "(22.156248, 22)\n",
            "(23.083544, 22)\n",
            "(23.793852, 23)\n",
            "(24.930656, 23)\n",
            "(22.523136, 23)\n",
            "(23.578453, 22)\n",
            "(21.98517, 23)\n",
            "(24.897587, 23)\n",
            "(24.736902, 23)\n",
            "(25.670559, 22)\n",
            "(26.53931, 21)\n",
            "(26.344881, 21)\n",
            "(25.976873, 21)\n",
            "(26.396288, 21)\n",
            "(27.116413, 21)\n",
            "(26.712349, 21)\n",
            "(25.846733, 22)\n",
            "(25.694681, 21)\n",
            "(24.33815, 22)\n",
            "(25.674223, 21)\n",
            "(25.922571, 22)\n",
            "(25.109465, 22)\n",
            "(26.137022, 21)\n",
            "(24.89576, 22)\n",
            "(25.036104, 22)\n",
            "(24.711071, 20)\n",
            "(24.544403, 22)\n",
            "(25.388788, 21)\n",
            "(25.300459, 20)\n",
            "(24.683372, 20)\n",
            "(25.08208, 20)\n",
            "(24.674723, 21)\n",
            "(24.93911, 20)\n",
            "(25.811983, 21)\n",
            "(26.545288, 21)\n",
            "(26.758745, 21)\n",
            "(24.087149, 20)\n",
            "(26.704529, 21)\n",
            "(23.904697, 20)\n",
            "(24.228394, 20)\n",
            "(23.725025, 20)\n",
            "(23.32246, 21)\n",
            "(22.69058, 20)\n",
            "(23.165344, 21)\n",
            "(22.466389, 21)\n",
            "(20.603634, 21)\n",
            "(21.26509, 21)\n",
            "(19.512917, 22)\n",
            "(20.692772, 23)\n",
            "(19.712742, 23)\n",
            "(19.377214, 22)\n",
            "(20.359697, 23)\n",
            "(18.311657, 22)\n",
            "(19.493076, 23)\n",
            "(17.913149, 22)\n",
            "(17.466402, 22)\n",
            "(16.83634, 22)\n",
            "(18.46151, 22)\n",
            "(17.04661, 22)\n",
            "(17.943653, 22)\n",
            "(17.363007, 22)\n",
            "(17.212673, 22)\n",
            "(18.188168, 22)\n",
            "(17.441305, 22)\n",
            "(18.360765, 22)\n",
            "(18.491045, 21)\n",
            "(17.950552, 21)\n",
            "(17.643385, 21)\n",
            "(18.02157, 20)\n",
            "(17.463482, 20)\n",
            "(17.752718, 20)\n",
            "(18.393538, 20)\n",
            "(19.371408, 21)\n",
            "(18.956852, 21)\n",
            "(19.247032, 21)\n",
            "(19.683176, 21)\n",
            "(19.235685, 21)\n",
            "(19.44248, 21)\n",
            "(19.460741, 21)\n",
            "(19.093998, 21)\n",
            "(19.00884, 21)\n",
            "(20.182117, 21)\n",
            "(20.174849, 21)\n",
            "(20.084238, 21)\n",
            "(20.79137, 21)\n",
            "(20.098131, 21)\n",
            "(21.071491, 21)\n",
            "(20.796406, 21)\n",
            "(21.079582, 22)\n",
            "(22.112574, 22)\n",
            "(21.66899, 22)\n",
            "(21.697763, 22)\n",
            "(21.158596, 22)\n",
            "(21.153934, 22)\n",
            "(23.648994, 22)\n",
            "(22.26306, 22)\n",
            "(22.675024, 22)\n",
            "(21.894686, 22)\n",
            "(24.199745, 22)\n",
            "(22.254375, 22)\n",
            "(25.580214, 22)\n",
            "(25.049726, 22)\n",
            "(24.96219, 22)\n",
            "(24.932592, 22)\n",
            "(24.606272, 22)\n",
            "(23.312067, 22)\n",
            "(24.391014, 22)\n",
            "(24.020212, 22)\n",
            "(25.91483, 22)\n",
            "(25.720566, 22)\n",
            "(23.634954, 22)\n",
            "(24.386406, 22)\n",
            "(22.381042, 21)\n",
            "(24.776386, 22)\n",
            "(21.882786, 21)\n",
            "(22.380247, 21)\n",
            "(22.539526, 21)\n",
            "(23.471117, 22)\n",
            "(21.344952, 21)\n",
            "(21.238285, 21)\n",
            "(21.167782, 21)\n",
            "(21.505196, 21)\n",
            "(25.995457, 23)\n",
            "(26.084238, 23)\n",
            "(25.849688, 23)\n",
            "(26.757057, 22)\n",
            "(25.30719, 23)\n",
            "(27.08808, 23)\n",
            "(26.164291, 22)\n",
            "(26.021503, 22)\n",
            "(26.151274, 23)\n",
            "(26.410124, 23)\n",
            "(27.361532, 23)\n",
            "(27.01385, 23)\n",
            "(26.857702, 23)\n",
            "(27.52527, 23)\n",
            "(27.437162, 23)\n",
            "(26.596891, 23)\n",
            "(27.266632, 23)\n",
            "(27.355097, 23)\n",
            "(26.617664, 23)\n",
            "(27.031109, 23)\n",
            "(27.759483, 23)\n",
            "(28.440104, 23)\n",
            "(28.791796, 23)\n",
            "(28.548225, 23)\n",
            "(27.747505, 23)\n",
            "(29.135096, 24)\n",
            "(28.341406, 23)\n",
            "(29.680592, 24)\n",
            "(29.218803, 24)\n",
            "(29.350319, 25)\n",
            "(28.504587, 26)\n",
            "(29.211363, 26)\n",
            "(30.621151, 26)\n",
            "(28.289494, 24)\n",
            "(28.690022, 25)\n",
            "(29.748926, 26)\n",
            "(29.820122, 26)\n",
            "(27.914415, 24)\n",
            "(28.587326, 27)\n",
            "(29.500393, 26)\n",
            "(28.914606, 26)\n",
            "(30.144459, 26)\n",
            "(28.760126, 26)\n",
            "(28.539831, 26)\n",
            "(28.534409, 26)\n",
            "(27.883455, 26)\n",
            "(27.359749, 26)\n",
            "(28.873985, 26)\n",
            "(28.455889, 26)\n",
            "(28.602705, 26)\n",
            "(29.253954, 26)\n",
            "(28.223274, 26)\n",
            "(29.819168, 26)\n",
            "(28.93255, 26)\n",
            "(28.81282, 26)\n",
            "(28.880348, 26)\n",
            "(28.320152, 26)\n",
            "(27.152693, 26)\n",
            "(27.930378, 26)\n",
            "(28.207502, 26)\n",
            "(28.290174, 27)\n",
            "(28.001875, 26)\n",
            "(28.00806, 26)\n",
            "(28.290781, 27)\n",
            "(27.75467, 27)\n",
            "(28.729, 27)\n",
            "(28.287125, 27)\n",
            "(28.593311, 27)\n",
            "(29.449686, 27)\n",
            "(29.10016, 27)\n",
            "(29.141933, 27)\n",
            "(28.706663, 27)\n",
            "(28.912573, 27)\n",
            "(28.916792, 27)\n",
            "(27.898033, 27)\n",
            "(28.068838, 25)\n",
            "(26.663082, 25)\n",
            "(27.158792, 26)\n",
            "(27.013353, 25)\n",
            "(27.944227, 26)\n",
            "(27.649834, 25)\n",
            "(26.06478, 25)\n",
            "(26.447002, 25)\n",
            "(26.13718, 25)\n",
            "(25.902773, 25)\n",
            "(25.905523, 25)\n",
            "(26.286707, 25)\n",
            "(26.612196, 25)\n",
            "(27.076344, 25)\n",
            "(27.632416, 25)\n",
            "(26.35848, 25)\n",
            "(27.92805, 25)\n",
            "(27.234964, 25)\n",
            "(26.495436, 25)\n",
            "(27.125818, 25)\n",
            "(27.720154, 25)\n",
            "(27.500896, 25)\n",
            "(27.565268, 25)\n",
            "(26.661926, 25)\n",
            "(27.02317, 25)\n",
            "(26.4787, 25)\n",
            "(27.36974, 25)\n",
            "(26.730553, 25)\n",
            "(26.862226, 25)\n",
            "(26.714104, 25)\n",
            "(27.96338, 25)\n",
            "(26.60416, 25)\n",
            "(26.447838, 25)\n",
            "(26.045536, 26)\n",
            "(26.691229, 25)\n",
            "(26.02086, 24)\n",
            "(26.303026, 25)\n",
            "(25.192932, 24)\n",
            "(27.011726, 23)\n",
            "(25.954767, 24)\n",
            "(25.857277, 24)\n",
            "(25.273447, 24)\n",
            "(25.277122, 24)\n",
            "(25.187763, 23)\n",
            "(25.800083, 24)\n",
            "(25.375822, 24)\n",
            "(26.430857, 24)\n",
            "(25.944569, 24)\n",
            "(26.019642, 24)\n",
            "(26.689724, 24)\n",
            "(27.404991, 24)\n",
            "(26.278004, 24)\n",
            "(26.559572, 23)\n",
            "(25.217175, 22)\n",
            "(26.91829, 22)\n",
            "(27.225985, 23)\n",
            "(25.98884, 23)\n",
            "(25.659124, 24)\n",
            "(25.45897, 22)\n",
            "(26.86683, 22)\n",
            "(27.477352, 22)\n",
            "(25.824207, 22)\n",
            "(26.948225, 22)\n",
            "(25.361448, 22)\n",
            "(26.75843, 22)\n",
            "(26.224903, 22)\n",
            "(26.58866, 22)\n",
            "(27.393625, 22)\n",
            "(27.425678, 22)\n",
            "(27.878778, 22)\n",
            "(27.582293, 22)\n",
            "(27.399698, 22)\n",
            "(28.390213, 22)\n",
            "(28.479599, 22)\n",
            "(26.896149, 22)\n",
            "(29.064075, 33)\n",
            "(29.350393, 33)\n",
            "(28.297808, 33)\n",
            "(28.928259, 33)\n",
            "(29.762482, 33)\n",
            "(30.119127, 33)\n",
            "(29.187872, 33)\n",
            "(28.781912, 33)\n",
            "(29.485443, 33)\n",
            "(29.789583, 33)\n",
            "(28.710632, 33)\n",
            "(29.49261, 33)\n",
            "(28.794628, 33)\n",
            "(28.060421, 33)\n",
            "(27.699419, 33)\n",
            "(27.29814, 33)\n",
            "(28.230083, 33)\n",
            "(28.108046, 32)\n",
            "(29.18214, 32)\n",
            "(28.328402, 32)\n",
            "(28.839775, 32)\n",
            "(29.465714, 32)\n",
            "(29.338348, 32)\n",
            "(30.176933, 32)\n",
            "(29.170235, 32)\n",
            "(29.210358, 32)\n",
            "(28.883224, 32)\n",
            "(30.069735, 32)\n",
            "(30.398792, 32)\n",
            "(30.385931, 32)\n",
            "(29.708105, 32)\n",
            "(29.75924, 32)\n",
            "(29.244171, 32)\n",
            "(30.309084, 32)\n",
            "(29.961334, 31)\n",
            "(31.138098, 32)\n",
            "(29.125673, 31)\n",
            "(29.502274, 32)\n",
            "(28.595192, 31)\n",
            "(29.350206, 31)\n",
            "(29.551098, 31)\n",
            "(28.893969, 30)\n",
            "(30.49249, 31)\n",
            "(28.866707, 30)\n",
            "(28.743193, 30)\n",
            "(28.795141, 30)\n",
            "(29.07367, 30)\n",
            "(27.585493, 30)\n",
            "(29.11952, 30)\n",
            "(27.728333, 30)\n",
            "(27.946922, 30)\n",
            "(28.241285, 30)\n",
            "(28.353647, 30)\n",
            "(28.697308, 30)\n",
            "(28.528385, 30)\n",
            "(28.060705, 30)\n",
            "(27.41347, 29)\n",
            "(27.562256, 30)\n",
            "(26.350636, 28)\n",
            "(26.049625, 28)\n",
            "(26.425169, 27)\n",
            "(28.982569, 27)\n",
            "(28.426237, 27)\n",
            "(26.614714, 27)\n",
            "(26.956076, 27)\n",
            "(27.804691, 27)\n",
            "(26.76552, 27)\n",
            "(26.27095, 26)\n",
            "(27.461714, 26)\n",
            "(27.459688, 27)\n",
            "(26.385435, 27)\n",
            "(26.96834, 27)\n",
            "(28.143158, 27)\n",
            "(28.60854, 26)\n",
            "(28.762894, 26)\n",
            "(29.845877, 26)\n",
            "(27.87922, 26)\n",
            "(29.913837, 25)\n",
            "(28.580425, 26)\n",
            "(29.66632, 25)\n",
            "(28.832075, 26)\n",
            "(30.869501, 24)\n",
            "(29.135107, 25)\n",
            "(29.707178, 25)\n",
            "(29.713083, 25)\n",
            "(29.183641, 24)\n",
            "(28.635971, 24)\n",
            "(29.07903, 24)\n",
            "(30.290611, 24)\n",
            "(28.549953, 24)\n",
            "(28.26064, 24)\n",
            "(27.563032, 23)\n",
            "(27.476301, 23)\n",
            "(28.070786, 23)\n",
            "(28.030903, 23)\n",
            "(27.913092, 24)\n",
            "(26.975155, 23)\n",
            "(27.23496, 23)\n",
            "(27.92614, 23)\n",
            "(27.13141, 23)\n",
            "(27.960241, 23)\n",
            "(27.007345, 23)\n",
            "(27.358143, 23)\n",
            "(26.719479, 23)\n",
            "(28.443462, 23)\n",
            "(25.460415, 22)\n",
            "(26.06925, 22)\n",
            "(26.783648, 23)\n",
            "(26.477335, 23)\n",
            "(27.04511, 23)\n",
            "(25.807756, 23)\n",
            "(25.735918, 22)\n",
            "(25.736097, 22)\n",
            "(25.733448, 21)\n",
            "(25.941418, 20)\n",
            "(25.940567, 21)\n",
            "(25.18432, 21)\n",
            "(26.126347, 21)\n",
            "(25.832514, 19)\n",
            "(26.80689, 20)\n",
            "(25.67205, 19)\n",
            "(24.354107, 18)\n",
            "(24.02424, 18)\n",
            "(24.731712, 18)\n",
            "(24.896896, 18)\n",
            "(25.90468, 19)\n",
            "(24.745275, 18)\n",
            "(24.794855, 18)\n",
            "(24.523901, 18)\n",
            "(24.536272, 18)\n",
            "(24.309753, 18)\n",
            "(24.215416, 18)\n",
            "(24.479055, 18)\n",
            "(24.37737, 18)\n",
            "(24.398453, 18)\n",
            "(24.284542, 18)\n",
            "(23.730751, 17)\n",
            "(24.61309, 18)\n",
            "(24.517094, 18)\n",
            "(23.904657, 17)\n",
            "(24.276592, 18)\n",
            "(23.959894, 17)\n",
            "(23.447392, 17)\n",
            "(23.71981, 17)\n",
            "(23.77473, 17)\n",
            "(23.799322, 17)\n",
            "(23.252922, 17)\n",
            "(23.407541, 17)\n",
            "(23.674063, 17)\n",
            "(23.20206, 17)\n",
            "(31.76913, 35)\n",
            "(33.148514, 35)\n",
            "(31.917274, 35)\n",
            "(32.666817, 35)\n",
            "(32.63546, 35)\n",
            "(33.458904, 35)\n",
            "(33.20249, 35)\n",
            "(32.875534, 35)\n",
            "(33.216846, 35)\n",
            "(33.83912, 35)\n",
            "(33.94233, 35)\n",
            "(33.02362, 34)\n",
            "(33.675755, 34)\n",
            "(33.74786, 34)\n",
            "(32.42565, 34)\n",
            "(33.063683, 34)\n",
            "(32.964424, 35)\n",
            "(33.09622, 34)\n",
            "(33.116856, 35)\n",
            "(33.2859, 35)\n",
            "(31.507616, 35)\n",
            "(31.177313, 34)\n",
            "(31.637518, 33)\n",
            "(31.686724, 35)\n",
            "(32.56753, 35)\n",
            "(31.81346, 35)\n",
            "(30.278193, 34)\n",
            "(30.90107, 33)\n",
            "(30.735909, 33)\n",
            "(30.805899, 33)\n",
            "(30.523224, 33)\n",
            "(30.749804, 33)\n",
            "(31.118967, 33)\n",
            "(31.49364, 33)\n",
            "(30.821697, 33)\n",
            "(31.406116, 32)\n",
            "(30.67698, 33)\n",
            "(30.105976, 33)\n",
            "(30.15, 32)\n",
            "(29.697905, 32)\n",
            "(30.738047, 31)\n",
            "(27.800587, 31)\n",
            "(28.744068, 30)\n",
            "(29.07648, 31)\n",
            "(30.475512, 31)\n",
            "(29.791786, 31)\n",
            "(28.583454, 29)\n",
            "(28.958218, 29)\n",
            "(29.233646, 31)\n",
            "(29.64088, 31)\n",
            "(28.92944, 31)\n",
            "(30.472687, 31)\n",
            "(29.800041, 31)\n",
            "(29.855017, 31)\n",
            "(30.36763, 31)\n",
            "(30.645939, 31)\n",
            "(30.544165, 31)\n",
            "(30.491606, 30)\n",
            "(30.061052, 31)\n",
            "(29.8127, 30)\n",
            "(29.66061, 30)\n",
            "(29.702818, 30)\n",
            "(30.99981, 31)\n",
            "(29.518642, 30)\n",
            "(30.128176, 31)\n",
            "(30.201624, 31)\n",
            "(29.360546, 32)\n",
            "(30.31622, 31)\n",
            "(30.262074, 32)\n",
            "(29.755127, 32)\n",
            "(29.63613, 32)\n",
            "(29.73957, 32)\n",
            "(29.69522, 32)\n",
            "(29.947481, 32)\n",
            "(30.853983, 32)\n",
            "(30.771824, 32)\n",
            "(29.948637, 32)\n",
            "(30.455956, 32)\n",
            "(29.862223, 32)\n",
            "(31.575531, 32)\n",
            "(30.009407, 32)\n",
            "(30.554863, 32)\n",
            "(31.142933, 32)\n",
            "(30.760115, 32)\n",
            "(30.221743, 32)\n",
            "(29.963211, 32)\n",
            "(30.14993, 32)\n",
            "(30.895618, 34)\n",
            "(30.79193, 34)\n",
            "(30.990673, 34)\n",
            "(29.992905, 34)\n",
            "(31.473154, 34)\n",
            "(30.586624, 34)\n",
            "(30.810936, 34)\n",
            "(29.820864, 34)\n",
            "(30.20888, 34)\n",
            "(31.14766, 36)\n",
            "(30.689184, 36)\n",
            "(30.549694, 36)\n",
            "(31.193153, 36)\n",
            "(29.754423, 36)\n",
            "(29.825062, 36)\n",
            "(29.391077, 36)\n",
            "(30.141779, 36)\n",
            "(29.41292, 36)\n",
            "(29.114737, 36)\n",
            "(30.22738, 35)\n",
            "(29.005785, 35)\n",
            "(29.737404, 36)\n",
            "(29.126238, 35)\n",
            "(30.225735, 35)\n",
            "(30.871368, 36)\n",
            "(30.14978, 35)\n",
            "(30.832756, 36)\n",
            "(31.28572, 36)\n",
            "(30.405912, 36)\n",
            "(30.221506, 36)\n",
            "(30.096855, 36)\n",
            "(29.404152, 36)\n",
            "(29.550322, 36)\n",
            "(29.897072, 36)\n",
            "(29.941927, 35)\n",
            "(30.218632, 36)\n",
            "(30.656115, 35)\n",
            "(29.41234, 36)\n",
            "(30.500992, 35)\n",
            "(30.494093, 36)\n",
            "(30.308907, 33)\n",
            "(29.982195, 35)\n",
            "(30.73033, 33)\n",
            "(31.901485, 34)\n",
            "(31.935213, 34)\n",
            "(31.428183, 34)\n",
            "(31.9847, 35)\n",
            "(31.795824, 35)\n",
            "(32.540276, 35)\n",
            "(30.485914, 34)\n",
            "(29.710665, 35)\n",
            "(31.39389, 33)\n",
            "(31.128174, 34)\n",
            "(31.317635, 34)\n",
            "(31.25565, 33)\n",
            "(31.39092, 33)\n",
            "(30.739418, 33)\n",
            "(32.122272, 33)\n",
            "(29.791248, 33)\n",
            "(30.997452, 33)\n",
            "(31.261976, 33)\n",
            "(30.534727, 33)\n",
            "(30.576782, 33)\n",
            "(23.858936, 21)\n",
            "(24.301846, 21)\n",
            "(24.952557, 21)\n",
            "(24.561216, 21)\n",
            "(24.741932, 21)\n",
            "(24.655594, 21)\n",
            "(24.564325, 21)\n",
            "(24.863047, 23)\n",
            "(25.563087, 25)\n",
            "(24.143032, 25)\n",
            "(24.97628, 23)\n",
            "(24.333006, 25)\n",
            "(25.472399, 26)\n",
            "(24.896002, 25)\n",
            "(24.468487, 26)\n",
            "(25.868977, 25)\n",
            "(26.660221, 25)\n",
            "(27.091429, 26)\n",
            "(27.59433, 26)\n",
            "(27.41505, 26)\n",
            "(27.709997, 25)\n",
            "(27.375244, 26)\n",
            "(26.930546, 26)\n",
            "(27.790405, 25)\n",
            "(28.327948, 25)\n",
            "(26.948122, 26)\n",
            "(27.57559, 25)\n",
            "(27.497065, 27)\n",
            "(27.891935, 26)\n",
            "(29.88005, 26)\n",
            "(28.417402, 26)\n",
            "(27.385336, 27)\n",
            "(26.474655, 27)\n",
            "(27.395931, 27)\n",
            "(25.970745, 27)\n",
            "(25.589113, 27)\n",
            "(25.81158, 27)\n",
            "(26.147058, 27)\n",
            "(25.584835, 27)\n",
            "(26.258131, 27)\n",
            "(24.11356, 28)\n",
            "(24.929836, 28)\n",
            "(24.46765, 29)\n",
            "(25.467768, 28)\n",
            "(24.283943, 28)\n",
            "(24.857586, 29)\n",
            "(24.33448, 29)\n",
            "(23.1114, 27)\n",
            "(24.501577, 29)\n",
            "(24.185968, 28)\n",
            "(26.222517, 28)\n",
            "(25.000656, 28)\n",
            "(26.030003, 28)\n",
            "(26.593542, 28)\n",
            "(26.157885, 28)\n",
            "(26.446312, 28)\n",
            "(26.868082, 29)\n",
            "(26.302925, 29)\n",
            "(27.179665, 29)\n",
            "(26.311602, 29)\n",
            "(25.733486, 29)\n",
            "(26.425924, 29)\n",
            "(27.772966, 29)\n",
            "(27.50258, 29)\n",
            "(27.648493, 30)\n",
            "(26.59048, 29)\n",
            "(27.120285, 31)\n",
            "(26.820036, 31)\n",
            "(28.13941, 31)\n",
            "(29.284918, 32)\n",
            "(28.109367, 32)\n",
            "(27.667376, 31)\n",
            "(28.12128, 32)\n",
            "(26.710426, 31)\n",
            "(27.850794, 32)\n",
            "(29.319555, 32)\n",
            "(26.769817, 32)\n",
            "(26.798002, 31)\n",
            "(26.568132, 32)\n",
            "(26.91382, 32)\n",
            "(26.694, 32)\n",
            "(26.460964, 32)\n",
            "(25.911655, 31)\n",
            "(25.104282, 31)\n",
            "(26.71827, 31)\n",
            "(26.158308, 31)\n",
            "(25.686989, 32)\n",
            "(26.942572, 32)\n",
            "(26.52632, 31)\n",
            "(27.410099, 32)\n",
            "(27.13071, 32)\n",
            "(28.096775, 32)\n",
            "(27.38554, 32)\n",
            "(27.648943, 34)\n",
            "(27.235018, 34)\n",
            "(27.250961, 34)\n",
            "(27.88083, 34)\n",
            "(27.56412, 34)\n",
            "(27.918652, 34)\n",
            "(27.011051, 34)\n",
            "(27.13817, 34)\n",
            "(27.569748, 34)\n",
            "(27.115442, 34)\n",
            "(27.947653, 34)\n",
            "(28.046328, 34)\n",
            "(27.992615, 34)\n",
            "(28.640251, 34)\n",
            "(27.30403, 34)\n",
            "(27.791964, 34)\n",
            "(27.948322, 34)\n",
            "(27.335314, 34)\n",
            "(27.122303, 34)\n",
            "(28.414991, 35)\n",
            "(27.778149, 34)\n",
            "(28.065313, 34)\n",
            "(27.139954, 34)\n",
            "(27.997541, 33)\n",
            "(27.53595, 34)\n",
            "(26.49839, 33)\n",
            "(27.618355, 33)\n",
            "(26.888199, 32)\n",
            "(26.860504, 32)\n",
            "(28.130693, 32)\n",
            "(26.42239, 32)\n",
            "(26.9969, 32)\n",
            "(27.677961, 32)\n",
            "(27.380892, 32)\n",
            "(27.50728, 32)\n",
            "(28.83296, 32)\n",
            "(26.965937, 32)\n",
            "(28.265043, 32)\n",
            "(28.674368, 32)\n",
            "(27.162546, 32)\n",
            "(26.605879, 32)\n",
            "(27.07123, 32)\n",
            "(26.370275, 32)\n",
            "(28.688942, 33)\n",
            "(28.363848, 33)\n",
            "(29.188951, 34)\n",
            "(28.012415, 33)\n",
            "(30.158096, 34)\n",
            "(30.38037, 34)\n",
            "(27.283379, 34)\n",
            "(30.304527, 35)\n",
            "(29.61245, 35)\n",
            "(30.472042, 35)\n",
            "(29.858055, 34)\n",
            "(30.24012, 35)\n",
            "(30.133642, 35)\n",
            "(29.240013, 34)\n",
            "(25.777016, 20)\n",
            "(25.58983, 20)\n",
            "(25.102686, 20)\n",
            "(26.279541, 20)\n",
            "(25.490526, 20)\n",
            "(26.936075, 20)\n",
            "(25.34913, 20)\n",
            "(26.663357, 21)\n",
            "(26.51453, 20)\n",
            "(27.215778, 21)\n",
            "(26.29722, 21)\n",
            "(26.667686, 21)\n",
            "(26.912516, 21)\n",
            "(26.186554, 21)\n",
            "(26.270266, 21)\n",
            "(25.973932, 21)\n",
            "(26.337881, 21)\n",
            "(26.19984, 21)\n",
            "(27.859798, 21)\n",
            "(26.225483, 21)\n",
            "(26.104319, 21)\n",
            "(26.354734, 21)\n",
            "(26.895882, 21)\n",
            "(26.48265, 21)\n",
            "(28.716995, 22)\n",
            "(26.137024, 21)\n",
            "(27.594896, 22)\n",
            "(26.767807, 22)\n",
            "(26.982027, 22)\n",
            "(27.514814, 22)\n",
            "(27.221008, 22)\n",
            "(26.451813, 22)\n",
            "(24.026892, 23)\n",
            "(26.112906, 22)\n",
            "(24.90193, 22)\n",
            "(24.462643, 23)\n",
            "(23.813868, 23)\n",
            "(24.996891, 23)\n",
            "(24.944654, 23)\n",
            "(25.964891, 23)\n",
            "(26.015945, 25)\n",
            "(25.38907, 25)\n",
            "(26.455854, 24)\n",
            "(25.541649, 25)\n",
            "(26.021511, 25)\n",
            "(25.969202, 25)\n",
            "(26.264708, 25)\n",
            "(27.99467, 24)\n",
            "(27.846315, 24)\n",
            "(27.255123, 25)\n",
            "(26.016953, 25)\n",
            "(27.401285, 24)\n",
            "(27.535536, 24)\n",
            "(28.354784, 24)\n",
            "(28.178705, 24)\n",
            "(26.922531, 24)\n",
            "(27.861744, 24)\n",
            "(27.246887, 24)\n",
            "(26.596655, 24)\n",
            "(26.832699, 24)\n",
            "(27.103533, 24)\n",
            "(26.65521, 24)\n",
            "(26.700218, 24)\n",
            "(27.889702, 24)\n",
            "(26.753582, 24)\n",
            "(26.09057, 24)\n",
            "(27.53696, 24)\n",
            "(26.130365, 24)\n",
            "(27.570251, 24)\n",
            "(28.417675, 24)\n",
            "(27.873653, 24)\n",
            "(27.438229, 24)\n",
            "(28.639313, 24)\n",
            "(27.063177, 24)\n",
            "(27.810171, 24)\n",
            "(27.189735, 24)\n",
            "(28.369123, 24)\n",
            "(29.707928, 24)\n",
            "(27.996119, 24)\n",
            "(30.243515, 24)\n",
            "(27.43233, 24)\n",
            "(28.334879, 24)\n",
            "(27.921148, 24)\n",
            "(30.092182, 24)\n",
            "(29.52815, 24)\n",
            "(29.718676, 24)\n",
            "(30.188625, 24)\n",
            "(29.0922, 24)\n",
            "(29.227709, 24)\n",
            "(30.889307, 24)\n",
            "(30.354033, 24)\n",
            "(29.523468, 24)\n",
            "(30.914568, 24)\n",
            "(30.85014, 24)\n",
            "(30.013094, 24)\n",
            "(30.078579, 24)\n",
            "(30.798943, 24)\n",
            "(30.662107, 24)\n",
            "(30.507462, 24)\n",
            "(30.26018, 24)\n",
            "(30.983414, 24)\n",
            "(30.931831, 24)\n",
            "(30.3862, 24)\n",
            "(30.566513, 24)\n",
            "(30.428537, 24)\n",
            "(29.820686, 24)\n",
            "(30.006018, 24)\n",
            "(30.826694, 24)\n",
            "(30.852655, 24)\n",
            "(30.133808, 24)\n",
            "(30.762815, 24)\n",
            "(30.145771, 24)\n",
            "(30.525833, 24)\n",
            "(30.469318, 24)\n",
            "(30.477175, 24)\n",
            "(30.888418, 24)\n",
            "(30.791891, 24)\n",
            "(31.168858, 26)\n",
            "(31.45703, 25)\n",
            "(30.770851, 26)\n",
            "(30.684465, 24)\n",
            "(31.713259, 26)\n",
            "(29.420532, 25)\n",
            "(30.617662, 25)\n",
            "(29.21702, 25)\n",
            "(30.743935, 25)\n",
            "(29.73655, 25)\n",
            "(30.542871, 25)\n",
            "(30.43538, 25)\n",
            "(31.727962, 25)\n",
            "(31.447386, 25)\n",
            "(31.25899, 25)\n",
            "(31.92595, 25)\n",
            "(31.274166, 25)\n",
            "(31.85192, 25)\n",
            "(31.934332, 25)\n",
            "(31.572166, 25)\n",
            "(31.054796, 25)\n",
            "(31.781654, 25)\n",
            "(31.61843, 25)\n",
            "(30.051458, 24)\n",
            "(30.695555, 24)\n",
            "(31.039343, 25)\n",
            "(30.125124, 24)\n",
            "(31.052078, 25)\n",
            "(30.119822, 24)\n",
            "(30.183062, 24)\n",
            "(29.847147, 23)\n",
            "(29.18023, 23)\n",
            "(28.92578, 23)\n",
            "(33.39357, 28)\n",
            "(30.98405, 28)\n",
            "(31.787785, 28)\n",
            "(32.25597, 28)\n",
            "(32.985504, 28)\n",
            "(33.587883, 28)\n",
            "(32.63198, 29)\n",
            "(33.178658, 29)\n",
            "(31.81928, 30)\n",
            "(34.26262, 30)\n",
            "(33.20003, 30)\n",
            "(31.327616, 30)\n",
            "(33.067963, 30)\n",
            "(31.883816, 30)\n",
            "(30.904272, 30)\n",
            "(30.94012, 30)\n",
            "(29.964138, 30)\n",
            "(30.06195, 30)\n",
            "(29.007257, 30)\n",
            "(27.590858, 30)\n",
            "(29.050978, 30)\n",
            "(29.69813, 30)\n",
            "(30.216782, 30)\n",
            "(29.673876, 30)\n",
            "(29.194134, 30)\n",
            "(30.09285, 30)\n",
            "(30.403675, 30)\n",
            "(28.472847, 30)\n",
            "(28.462854, 30)\n",
            "(28.32913, 30)\n",
            "(27.909714, 30)\n",
            "(29.676397, 30)\n",
            "(28.356787, 30)\n",
            "(29.247023, 30)\n",
            "(29.142418, 30)\n",
            "(28.076717, 30)\n",
            "(28.681444, 30)\n",
            "(29.578863, 30)\n",
            "(29.223213, 30)\n",
            "(28.437492, 30)\n",
            "(28.58301, 30)\n",
            "(28.675627, 30)\n",
            "(28.77042, 30)\n",
            "(28.903612, 30)\n",
            "(27.507067, 30)\n",
            "(28.216377, 30)\n",
            "(28.188192, 30)\n",
            "(27.502659, 30)\n",
            "(28.255463, 30)\n",
            "(25.962107, 30)\n",
            "(28.295248, 30)\n",
            "(26.35296, 30)\n",
            "(26.975534, 30)\n",
            "(28.316212, 30)\n",
            "(30.119982, 30)\n",
            "(29.658592, 29)\n",
            "(30.102112, 30)\n",
            "(28.828974, 30)\n",
            "(28.311558, 29)\n",
            "(28.440758, 29)\n",
            "(29.453337, 29)\n",
            "(27.099825, 29)\n",
            "(29.750591, 29)\n",
            "(29.003824, 29)\n",
            "(30.361336, 29)\n",
            "(30.158556, 29)\n",
            "(29.57117, 29)\n",
            "(29.55456, 29)\n",
            "(29.990866, 29)\n",
            "(28.947529, 29)\n",
            "(29.971003, 29)\n",
            "(30.218174, 29)\n",
            "(29.836622, 29)\n",
            "(28.103256, 29)\n",
            "(30.39579, 29)\n",
            "(28.752932, 29)\n",
            "(30.26239, 29)\n",
            "(30.942516, 28)\n",
            "(30.248615, 28)\n",
            "(30.740467, 28)\n",
            "(29.778656, 28)\n",
            "(29.449175, 28)\n",
            "(30.06406, 28)\n",
            "(29.90642, 28)\n",
            "(29.775373, 28)\n",
            "(29.767561, 28)\n",
            "(30.05589, 28)\n",
            "(29.565876, 28)\n",
            "(28.618698, 28)\n",
            "(30.069727, 28)\n",
            "(28.21922, 28)\n",
            "(28.556377, 28)\n",
            "(28.471418, 28)\n",
            "(28.753115, 28)\n",
            "(28.404774, 26)\n",
            "(29.783152, 24)\n",
            "(28.323286, 25)\n",
            "(28.7448, 25)\n",
            "(28.496923, 24)\n",
            "(28.123688, 24)\n",
            "(28.373714, 23)\n",
            "(28.135954, 24)\n",
            "(27.988132, 23)\n",
            "(28.152103, 23)\n",
            "(26.787197, 23)\n",
            "(28.323835, 23)\n",
            "(25.733665, 23)\n",
            "(27.060276, 23)\n",
            "(25.993746, 23)\n",
            "(27.44844, 23)\n",
            "(26.291945, 23)\n",
            "(26.191683, 23)\n",
            "(25.638557, 23)\n",
            "(26.053545, 23)\n",
            "(26.345596, 22)\n",
            "(25.792936, 23)\n",
            "(25.996712, 23)\n",
            "(24.62401, 22)\n",
            "(25.290455, 22)\n",
            "(24.655771, 22)\n",
            "(23.600899, 21)\n",
            "(24.600124, 21)\n",
            "(24.54062, 21)\n",
            "(22.886026, 21)\n",
            "(23.091837, 21)\n",
            "(22.928072, 21)\n",
            "(22.446909, 21)\n",
            "(23.541681, 21)\n",
            "(22.20823, 21)\n",
            "(23.00926, 21)\n",
            "(22.344055, 21)\n",
            "(22.876516, 21)\n",
            "(23.137756, 21)\n",
            "(23.377638, 21)\n",
            "(22.825558, 21)\n",
            "(21.730474, 21)\n",
            "(21.317833, 21)\n",
            "(21.813335, 21)\n",
            "(21.67457, 21)\n",
            "(21.153929, 21)\n",
            "(21.406296, 21)\n",
            "(21.109055, 21)\n",
            "(21.587305, 21)\n",
            "(21.722996, 20)\n",
            "(21.53908, 21)\n",
            "(21.503284, 21)\n",
            "(21.375261, 20)\n",
            "(21.554914, 21)\n",
            "(21.214788, 20)\n",
            "(21.719051, 20)\n",
            "(31.372572, 38)\n",
            "(31.949726, 38)\n",
            "(31.933899, 38)\n",
            "(31.868673, 38)\n",
            "(32.161404, 37)\n",
            "(31.085169, 38)\n",
            "(31.86686, 37)\n",
            "(32.093964, 37)\n",
            "(31.981705, 37)\n",
            "(30.12639, 37)\n",
            "(31.070251, 36)\n",
            "(29.084501, 36)\n",
            "(30.193562, 37)\n",
            "(30.633291, 36)\n",
            "(30.903341, 36)\n",
            "(30.78154, 36)\n",
            "(30.179611, 35)\n",
            "(30.279922, 35)\n",
            "(30.451456, 35)\n",
            "(29.508759, 35)\n",
            "(29.798689, 35)\n",
            "(30.374765, 35)\n",
            "(28.124142, 35)\n",
            "(28.385992, 35)\n",
            "(28.37135, 35)\n",
            "(28.218285, 35)\n",
            "(28.911705, 35)\n",
            "(29.37544, 35)\n",
            "(28.359028, 35)\n",
            "(29.056963, 35)\n",
            "(28.853043, 35)\n",
            "(28.09233, 35)\n",
            "(28.553013, 35)\n",
            "(30.729353, 35)\n",
            "(28.649832, 35)\n",
            "(28.539196, 35)\n",
            "(28.505833, 35)\n",
            "(30.226845, 35)\n",
            "(30.451954, 35)\n",
            "(30.086437, 34)\n",
            "(29.184555, 34)\n",
            "(30.591646, 35)\n",
            "(29.312925, 34)\n",
            "(30.42926, 34)\n",
            "(29.133509, 34)\n",
            "(28.961273, 34)\n",
            "(28.946983, 34)\n",
            "(28.960402, 34)\n",
            "(29.046816, 34)\n",
            "(28.52666, 34)\n",
            "(28.892506, 34)\n",
            "(29.315865, 34)\n",
            "(28.94481, 34)\n",
            "(29.13159, 34)\n",
            "(28.801632, 34)\n",
            "(28.605127, 34)\n",
            "(29.32444, 34)\n",
            "(28.115911, 34)\n",
            "(29.40012, 34)\n",
            "(28.708687, 34)\n",
            "(28.452925, 34)\n",
            "(29.62746, 36)\n",
            "(28.964743, 34)\n",
            "(28.91388, 34)\n",
            "(28.916937, 35)\n",
            "(29.718843, 36)\n",
            "(28.665476, 35)\n",
            "(29.586725, 35)\n",
            "(29.956417, 36)\n",
            "(29.393139, 36)\n",
            "(30.536928, 36)\n",
            "(30.369055, 36)\n",
            "(29.227497, 36)\n",
            "(28.919397, 35)\n",
            "(29.058317, 36)\n",
            "(29.414013, 35)\n",
            "(30.725147, 35)\n",
            "(29.787434, 35)\n",
            "(29.354416, 35)\n",
            "(31.775063, 34)\n",
            "(29.399458, 34)\n",
            "(30.695778, 34)\n",
            "(30.464624, 34)\n",
            "(32.25499, 34)\n",
            "(29.590635, 34)\n",
            "(29.916317, 34)\n",
            "(31.576876, 34)\n",
            "(30.940456, 34)\n",
            "(30.105152, 34)\n",
            "(30.613554, 34)\n",
            "(30.853357, 34)\n",
            "(31.415146, 35)\n",
            "(29.72473, 34)\n",
            "(29.40026, 36)\n",
            "(30.03798, 36)\n",
            "(30.061117, 36)\n",
            "(28.67607, 35)\n",
            "(30.425676, 35)\n",
            "(29.361563, 36)\n",
            "(29.976204, 36)\n",
            "(29.628708, 36)\n",
            "(29.275059, 36)\n",
            "(31.253513, 38)\n",
            "(29.064074, 36)\n",
            "(29.181818, 36)\n",
            "(31.549364, 38)\n",
            "(31.405077, 38)\n",
            "(30.412674, 37)\n",
            "(30.912786, 37)\n",
            "(31.546642, 38)\n",
            "(30.22374, 37)\n",
            "(30.09832, 37)\n",
            "(30.76373, 37)\n",
            "(29.724897, 36)\n",
            "(29.753637, 36)\n",
            "(29.376287, 36)\n",
            "(29.029392, 36)\n",
            "(29.607933, 36)\n",
            "(29.431597, 36)\n",
            "(29.177778, 36)\n",
            "(29.043116, 36)\n",
            "(29.474354, 36)\n",
            "(29.254297, 36)\n",
            "(28.709581, 35)\n",
            "(29.797873, 36)\n",
            "(28.959236, 35)\n",
            "(29.870146, 36)\n",
            "(28.983065, 35)\n",
            "(29.10345, 36)\n",
            "(29.520468, 36)\n",
            "(28.357885, 35)\n",
            "(28.484873, 35)\n",
            "(28.25547, 35)\n",
            "(28.357677, 35)\n",
            "(28.381529, 34)\n",
            "(28.120539, 35)\n",
            "(28.178549, 35)\n",
            "(29.63542, 34)\n",
            "(28.832933, 34)\n",
            "(28.948278, 34)\n",
            "(29.766672, 35)\n",
            "(29.270985, 34)\n",
            "(29.120386, 34)\n",
            "(30.592104, 34)\n",
            "(29.072023, 34)\n",
            "(29.046656, 33)\n",
            "(29.999176, 33)\n",
            "(30.428255, 33)\n",
            "(29.114515, 33)\n",
            "(29.153038, 33)\n",
            "(29.28121, 32)\n",
            "(28.416475, 32)\n",
            "(28.944038, 32)\n",
            "(28.846203, 32)\n",
            "(28.669907, 32)\n",
            "(28.207952, 32)\n",
            "(28.176416, 33)\n",
            "(28.096748, 33)\n",
            "(28.187399, 32)\n",
            "(28.277262, 33)\n",
            "(28.810123, 33)\n",
            "(27.262417, 33)\n",
            "(28.16724, 33)\n",
            "(27.79938, 32)\n",
            "(27.384485, 33)\n",
            "(28.27157, 33)\n",
            "(27.893242, 32)\n",
            "(27.955488, 33)\n",
            "(27.740305, 33)\n",
            "(26.462763, 33)\n",
            "(28.005587, 33)\n",
            "(26.841751, 33)\n",
            "(26.584206, 33)\n",
            "(26.311686, 33)\n",
            "(27.278465, 33)\n",
            "(26.438854, 33)\n",
            "(26.22786, 33)\n",
            "(26.137608, 33)\n",
            "(26.001732, 33)\n",
            "(26.080008, 33)\n",
            "(26.196455, 33)\n",
            "(26.598932, 33)\n",
            "(26.482832, 33)\n",
            "(26.77852, 33)\n",
            "(26.743296, 33)\n",
            "(26.509054, 33)\n",
            "(26.961487, 33)\n",
            "(26.176113, 32)\n",
            "(26.243696, 31)\n",
            "(24.76707, 31)\n",
            "(24.417973, 31)\n",
            "(24.175877, 31)\n",
            "(25.893843, 31)\n",
            "(25.898209, 32)\n",
            "(25.74533, 32)\n",
            "(25.683523, 32)\n",
            "(25.16387, 31)\n",
            "(25.208307, 32)\n",
            "(25.502205, 32)\n",
            "(25.858091, 32)\n",
            "(25.893095, 32)\n",
            "(24.394382, 31)\n",
            "(24.734362, 31)\n",
            "(23.101995, 30)\n",
            "(22.204554, 29)\n",
            "(24.845022, 31)\n",
            "(24.674616, 31)\n",
            "(24.331188, 29)\n",
            "(25.498066, 29)\n",
            "(25.010468, 30)\n",
            "(26.064383, 30)\n",
            "(27.541958, 29)\n",
            "(26.713655, 30)\n",
            "(26.455194, 30)\n",
            "(27.582882, 29)\n",
            "(27.699799, 29)\n",
            "(27.8053, 29)\n",
            "(26.517132, 29)\n",
            "(27.242418, 29)\n",
            "(28.133316, 29)\n",
            "(25.862394, 29)\n",
            "(28.051523, 29)\n",
            "(27.205542, 28)\n",
            "(27.534918, 29)\n",
            "(26.615362, 30)\n",
            "(26.506851, 30)\n",
            "(25.91546, 29)\n",
            "(26.747015, 29)\n",
            "(24.8827, 30)\n",
            "(27.286983, 30)\n",
            "(27.797874, 30)\n",
            "(27.423687, 29)\n",
            "(26.08815, 30)\n",
            "(26.071972, 29)\n",
            "(28.653805, 29)\n",
            "(26.65908, 30)\n",
            "(25.754097, 29)\n",
            "(27.666862, 30)\n",
            "(25.783346, 29)\n",
            "(24.436104, 29)\n",
            "(27.385849, 29)\n",
            "(25.572474, 29)\n",
            "(24.397783, 29)\n",
            "(25.720898, 29)\n",
            "(27.1278, 30)\n",
            "(27.434662, 29)\n",
            "(26.578794, 31)\n",
            "(27.5267, 30)\n",
            "(27.30212, 31)\n",
            "(27.254799, 31)\n",
            "(27.46976, 31)\n",
            "(27.438778, 31)\n",
            "(26.673462, 31)\n",
            "(26.269175, 31)\n",
            "(24.382732, 31)\n",
            "(25.13111, 31)\n",
            "(25.88903, 31)\n",
            "(26.310202, 31)\n",
            "(25.661283, 31)\n",
            "(25.935738, 31)\n",
            "(26.256962, 30)\n",
            "(26.655, 30)\n",
            "(26.337502, 29)\n",
            "(26.206953, 30)\n",
            "(26.267527, 30)\n",
            "(25.874441, 29)\n",
            "(25.79961, 29)\n",
            "(25.193876, 29)\n",
            "(25.252512, 29)\n",
            "(24.441017, 29)\n",
            "(25.946335, 29)\n",
            "(24.726614, 29)\n",
            "(24.960302, 29)\n",
            "(26.000729, 29)\n",
            "(24.94667, 29)\n",
            "(27.146603, 29)\n",
            "(26.165413, 29)\n",
            "(26.48071, 29)\n",
            "(27.338917, 29)\n",
            "(27.274137, 29)\n",
            "(25.888094, 28)\n",
            "(26.85594, 29)\n",
            "(26.366758, 29)\n",
            "(25.60752, 28)\n",
            "(26.131224, 29)\n",
            "(25.89881, 29)\n",
            "(25.437437, 29)\n",
            "(26.049828, 29)\n",
            "(25.28216, 29)\n",
            "(25.522264, 29)\n",
            "(25.416061, 29)\n",
            "(25.93736, 29)\n",
            "(26.661972, 30)\n",
            "(26.174463, 30)\n",
            "(24.727564, 29)\n",
            "(25.647057, 30)\n",
            "(24.72677, 30)\n",
            "(26.430483, 30)\n",
            "(25.901634, 30)\n"
          ],
          "name": "stdout"
        }
      ]
    },
    {
      "cell_type": "code",
      "metadata": {
        "colab": {
          "base_uri": "https://localhost:8080/",
          "height": 363
        },
        "id": "fcZtaGViL4si",
        "outputId": "9d61125d-7dd7-4994-e295-2b33b4053277"
      },
      "source": [
        "cc_true, cc_pred = np.array(cc_true), np.array(cc_pred)\r\n",
        "diff = cc_true - cc_pred\r\n",
        "rmse = np.sqrt(np.mean(diff*diff))\r\n",
        "mae = np.mean(np.abs(diff))\r\n",
        "print(mae)\r\n",
        "print(rmse)\r\n",
        "print(np.mean(diff))\r\n",
        "print(np.max(diff))\r\n",
        "plt.hist(diff)\r\n",
        "plt.xlabel(\"Diff b/w True Count and Estimate\")\r\n",
        "# plt.ylabel(\"Estimated\")"
      ],
      "execution_count": null,
      "outputs": [
        {
          "output_type": "stream",
          "text": [
            "3.506296269606272\n",
            "4.031830063319041\n",
            "0.6327139466873176\n",
            "6.998268127441406\n"
          ],
          "name": "stdout"
        },
        {
          "output_type": "execute_result",
          "data": {
            "text/plain": [
              "Text(0.5, 0, 'Diff b/w True Count and Estimate')"
            ]
          },
          "metadata": {
            "tags": []
          },
          "execution_count": 146
        },
        {
          "output_type": "display_data",
          "data": {
            "image/png": "[encoded data removed]",
            "text/plain": [
              "<Figure size 432x288 with 1 Axes>"
            ]
          },
          "metadata": {
            "tags": [],
            "needs_background": "light"
          }
        }
      ]
    },
    {
      "cell_type": "markdown",
      "metadata": {
        "id": "INz6cMlq0rqo"
      },
      "source": [
        "**obtaining count by integration**"
      ]
    },
    {
      "cell_type": "code",
      "metadata": {
        "id": "c_EUbMwc0wSm"
      },
      "source": [
        "pred_counts = []\r\n",
        "for i in range(x2.shape[0]):\r\n",
        "  _, x2[i] = cv2.threshold(x2[i], 0, 255, cv2.THRESH_BINARY + cv2.THRESH_OTSU)\r\n",
        "  count = (np.sum(x2[i]) / 255) / (25)\r\n",
        "  pred_counts.append(count)"
      ],
      "execution_count": null,
      "outputs": []
    },
    {
      "cell_type": "code",
      "metadata": {
        "colab": {
          "base_uri": "https://localhost:8080/",
          "height": 229
        },
        "id": "kvtRMcE81Gzh",
        "outputId": "edebfbb9-e034-4e03-cf39-ad17b656827f"
      },
      "source": [
        "pred_counts = np.array(pred_counts)\r\n",
        "diffs = (target - pred_counts)\r\n",
        "sse = np.sum(diff * diff)\r\n",
        "rmse = np.mean(np.sqrt(sse))\r\n",
        "print(rmse)\r\n",
        "np.mean(np.abs(target - pred_counts))"
      ],
      "execution_count": null,
      "outputs": [
        {
          "output_type": "error",
          "ename": "NameError",
          "evalue": "ignored",
          "traceback": [
            "\u001b[0;31m---------------------------------------------------------------------------\u001b[0m",
            "\u001b[0;31mNameError\u001b[0m                                 Traceback (most recent call last)",
            "\u001b[0;32m<ipython-input-63-02f780b75c3f>\u001b[0m in \u001b[0;36m<module>\u001b[0;34m()\u001b[0m\n\u001b[0;32m----> 1\u001b[0;31m \u001b[0mpred_counts\u001b[0m \u001b[0;34m=\u001b[0m \u001b[0mnp\u001b[0m\u001b[0;34m.\u001b[0m\u001b[0marray\u001b[0m\u001b[0;34m(\u001b[0m\u001b[0mpred_counts\u001b[0m\u001b[0;34m)\u001b[0m\u001b[0;34m\u001b[0m\u001b[0;34m\u001b[0m\u001b[0m\n\u001b[0m\u001b[1;32m      2\u001b[0m \u001b[0mdiffs\u001b[0m \u001b[0;34m=\u001b[0m \u001b[0;34m(\u001b[0m\u001b[0mtarget\u001b[0m \u001b[0;34m-\u001b[0m \u001b[0mpred_counts\u001b[0m\u001b[0;34m)\u001b[0m\u001b[0;34m\u001b[0m\u001b[0;34m\u001b[0m\u001b[0m\n\u001b[1;32m      3\u001b[0m \u001b[0msse\u001b[0m \u001b[0;34m=\u001b[0m \u001b[0mnp\u001b[0m\u001b[0;34m.\u001b[0m\u001b[0msum\u001b[0m\u001b[0;34m(\u001b[0m\u001b[0mdiff\u001b[0m \u001b[0;34m*\u001b[0m \u001b[0mdiff\u001b[0m\u001b[0;34m)\u001b[0m\u001b[0;34m\u001b[0m\u001b[0;34m\u001b[0m\u001b[0m\n\u001b[1;32m      4\u001b[0m \u001b[0mrmse\u001b[0m \u001b[0;34m=\u001b[0m \u001b[0mnp\u001b[0m\u001b[0;34m.\u001b[0m\u001b[0mmean\u001b[0m\u001b[0;34m(\u001b[0m\u001b[0mnp\u001b[0m\u001b[0;34m.\u001b[0m\u001b[0msqrt\u001b[0m\u001b[0;34m(\u001b[0m\u001b[0msse\u001b[0m\u001b[0;34m)\u001b[0m\u001b[0;34m)\u001b[0m\u001b[0;34m\u001b[0m\u001b[0;34m\u001b[0m\u001b[0m\n\u001b[1;32m      5\u001b[0m \u001b[0mprint\u001b[0m\u001b[0;34m(\u001b[0m\u001b[0mrmse\u001b[0m\u001b[0;34m)\u001b[0m\u001b[0;34m\u001b[0m\u001b[0;34m\u001b[0m\u001b[0m\n",
            "\u001b[0;31mNameError\u001b[0m: name 'pred_counts' is not defined"
          ]
        }
      ]
    },
    {
      "cell_type": "code",
      "metadata": {
        "colab": {
          "base_uri": "https://localhost:8080/",
          "height": 257
        },
        "id": "HQo7gJAa7m73",
        "outputId": "c69af06e-8bb5-4065-c3c4-1f7621be32b3"
      },
      "source": [
        "plt.imshow(x2[0])"
      ],
      "execution_count": null,
      "outputs": [
        {
          "output_type": "execute_result",
          "data": {
            "text/plain": [
              "<matplotlib.image.AxesImage at 0x7ef9aae73550>"
            ]
          },
          "metadata": {
            "tags": []
          },
          "execution_count": 319
        },
        {
          "output_type": "display_data",
          "data": {
            "image/png": "[encoded data removed]",
            "text/plain": [
              "<Figure size 432x288 with 1 Axes>"
            ]
          },
          "metadata": {
            "tags": [],
            "needs_background": "light"
          }
        }
      ]
    },
    {
      "cell_type": "code",
      "metadata": {
        "id": "ejFmyKDv780h",
        "colab": {
          "base_uri": "https://localhost:8080/"
        },
        "outputId": "d348d4a0-a3fa-4bd1-dc79-cf321e5c47a6"
      },
      "source": [
        "x_train[0].shape"
      ],
      "execution_count": null,
      "outputs": [
        {
          "output_type": "execute_result",
          "data": {
            "text/plain": [
              "(270, 480)"
            ]
          },
          "metadata": {
            "tags": []
          },
          "execution_count": 119
        }
      ]
    },
    {
      "cell_type": "code",
      "metadata": {
        "colab": {
          "base_uri": "https://localhost:8080/"
        },
        "id": "uJxkrnIgZRPn",
        "outputId": "42f76521-97b0-4ac4-adf6-f0c79266aa5b"
      },
      "source": [
        "424/840"
      ],
      "execution_count": null,
      "outputs": [
        {
          "output_type": "execute_result",
          "data": {
            "text/plain": [
              "0.5047619047619047"
            ]
          },
          "metadata": {
            "tags": []
          },
          "execution_count": 84
        }
      ]
    },
    {
      "cell_type": "code",
      "metadata": {
        "colab": {
          "base_uri": "https://localhost:8080/",
          "height": 382
        },
        "id": "v1PhUXROlaBg",
        "outputId": "40d0ff73-cb14-450d-bf1b-befbb0897831"
      },
      "source": [
        "plt.figure(figsize=(10, 20))\r\n",
        "plt.imshow(pred[900])"
      ],
      "execution_count": null,
      "outputs": [
        {
          "output_type": "execute_result",
          "data": {
            "text/plain": [
              "<matplotlib.image.AxesImage at 0x7f1a2331dd10>"
            ]
          },
          "metadata": {
            "tags": []
          },
          "execution_count": 271
        },
        {
          "output_type": "display_data",
          "data": {
            "image/png": "[encoded data removed]",
            "text/plain": [
              "<Figure size 720x1440 with 1 Axes>"
            ]
          },
          "metadata": {
            "tags": [],
            "needs_background": "light"
          }
        }
      ]
    },
    {
      "cell_type": "code",
      "metadata": {
        "colab": {
          "base_uri": "https://localhost:8080/",
          "height": 382
        },
        "id": "dzcmYgM4t6Tz",
        "outputId": "4ee1f87b-3bd7-4ca0-9e52-b1dda2f73b10"
      },
      "source": [
        "plt.figure(figsize=(10, 20))\r\n",
        "plt.imshow(y_test[1212])"
      ],
      "execution_count": null,
      "outputs": [
        {
          "output_type": "execute_result",
          "data": {
            "text/plain": [
              "<matplotlib.image.AxesImage at 0x7f1a23239410>"
            ]
          },
          "metadata": {
            "tags": []
          },
          "execution_count": 270
        },
        {
          "output_type": "display_data",
          "data": {
            "image/png": "[encoded data removed]",
            "text/plain": [
              "<Figure size 720x1440 with 1 Axes>"
            ]
          },
          "metadata": {
            "tags": [],
            "needs_background": "light"
          }
        }
      ]
    },
    {
      "cell_type": "code",
      "metadata": {
        "colab": {
          "base_uri": "https://localhost:8080/"
        },
        "id": "TmWvFpZBup0x",
        "outputId": "745059e4-fc9e-488d-9b05-547cabf9e42a"
      },
      "source": [
        "np.sum(y_test[140])"
      ],
      "execution_count": null,
      "outputs": [
        {
          "output_type": "execute_result",
          "data": {
            "text/plain": [
              "149"
            ]
          },
          "metadata": {
            "tags": []
          },
          "execution_count": 236
        }
      ]
    },
    {
      "cell_type": "code",
      "metadata": {
        "colab": {
          "base_uri": "https://localhost:8080/",
          "height": 382
        },
        "id": "rQuVKnR49PaM",
        "outputId": "618f0268-ea60-47c4-fad4-0d6947502a83"
      },
      "source": [
        "plt.figure(figsize = (10, 20))\r\n",
        "plt.imshow(x2[252])"
      ],
      "execution_count": null,
      "outputs": [
        {
          "output_type": "execute_result",
          "data": {
            "text/plain": [
              "<matplotlib.image.AxesImage at 0x7f7ee588ddd0>"
            ]
          },
          "metadata": {
            "tags": []
          },
          "execution_count": 550
        },
        {
          "output_type": "display_data",
          "data": {
            "image/png": "[encoded data removed]",
            "text/plain": [
              "<Figure size 720x1440 with 1 Axes>"
            ]
          },
          "metadata": {
            "tags": [],
            "needs_background": "light"
          }
        }
      ]
    },
    {
      "cell_type": "code",
      "metadata": {
        "colab": {
          "base_uri": "https://localhost:8080/",
          "height": 382
        },
        "id": "WMYNzkdUYXOa",
        "outputId": "18dd6bce-beb0-40ee-e911-30fe9ec65557"
      },
      "source": [
        "plt.figure(figsize = (10, 20))\r\n",
        "plt.imshow(y_test[252])"
      ],
      "execution_count": null,
      "outputs": [
        {
          "output_type": "execute_result",
          "data": {
            "text/plain": [
              "<matplotlib.image.AxesImage at 0x7f7ee5796d10>"
            ]
          },
          "metadata": {
            "tags": []
          },
          "execution_count": 551
        },
        {
          "output_type": "display_data",
          "data": {
            "image/png": "[encoded data removed]",
            "text/plain": [
              "<Figure size 720x1440 with 1 Axes>"
            ]
          },
          "metadata": {
            "tags": [],
            "needs_background": "light"
          }
        }
      ]
    },
    {
      "cell_type": "code",
      "metadata": {
        "colab": {
          "base_uri": "https://localhost:8080/",
          "height": 349
        },
        "id": "S5YpgrDt0Y9i",
        "outputId": "8ece7608-1a82-47d6-eaca-201644f4ef30"
      },
      "source": [
        "plt.hist(q)"
      ],
      "execution_count": null,
      "outputs": [
        {
          "output_type": "execute_result",
          "data": {
            "text/plain": [
              "(array([ 12.,  61., 222., 505., 582., 373., 196.,  45.,  11.,   2.]),\n",
              " array([6.94736842, 7.09548872, 7.24360902, 7.39172932, 7.53984962,\n",
              "        7.68796992, 7.83609023, 7.98421053, 8.13233083, 8.28045113,\n",
              "        8.42857143]),\n",
              " <a list of 10 Patch objects>)"
            ]
          },
          "metadata": {
            "tags": []
          },
          "execution_count": 24
        },
        {
          "output_type": "display_data",
          "data": {
            "image/png": "[encoded data removed]",
            "text/plain": [
              "<Figure size 432x288 with 1 Axes>"
            ]
          },
          "metadata": {
            "tags": [],
            "needs_background": "light"
          }
        }
      ]
    }
  ]
}