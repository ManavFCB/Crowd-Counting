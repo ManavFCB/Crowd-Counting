{
 "cells": [
  {
   "cell_type": "code",
   "execution_count": 1,
   "metadata": {},
   "outputs": [],
   "source": [
    "import os\n",
    "import sys\n",
    "import numpy as np\n",
    "import pandas as pd\n",
    "from os.path import dirname\n",
    "import math\n",
    "import xmltodict\n",
    "from urllib.request import urlopen\n",
    "from xml.etree.ElementTree import parse\n",
    "from fractions import Fraction\n",
    "import piexif\n",
    "from PIL import Image\n",
    "from haversine import haversine,Unit\n",
    "from datetime import time,timedelta\n",
    "import matplotlib.pyplot as plt\n",
    "%matplotlib inline"
   ]
  },
  {
   "cell_type": "markdown",
   "metadata": {},
   "source": [
    "# automate initialflight"
   ]
  },
  {
   "cell_type": "code",
   "execution_count": null,
   "metadata": {},
   "outputs": [],
   "source": [
    "root_path=os.walk(\"C:/Users/Manav/360CameraMicrophone/Testresults/20200701\")\n",
    "processed=[]\n",
    "ind_mat=[]"
   ]
  },
  {
   "cell_type": "code",
   "execution_count": null,
   "metadata": {},
   "outputs": [],
   "source": [
    "def find_match(a,b):\n",
    "    print(a)\n",
    "    return b in a"
   ]
  },
  {
   "cell_type": "code",
   "execution_count": null,
   "metadata": {},
   "outputs": [],
   "source": [
    "def extract_time(str):\n",
    "    return str.split(\" \")[1]"
   ]
  },
  {
   "cell_type": "code",
   "execution_count": null,
   "metadata": {},
   "outputs": [],
   "source": [
    "for root,dirs,files in root_path:\n",
    "    if \"_\" in root:\n",
    "        time=root.split(\"_\")[1]\n",
    "        if time in processed:\n",
    "            continue\n",
    "        hrs=int(time[:2])\n",
    "        mins=int(time[2:4])\n",
    "        if hrs>12:\n",
    "            hrs-=12\n",
    "            if hrs<10:\n",
    "                hrs=\"0\"+str(hrs)\n",
    "            mod_time=hrs+\":\"+time[2:4]+\"PM\"\n",
    "        else:\n",
    "            mod_time=str(hrs)+\":\"+time[2:4]+\"AM\"\n",
    "        print(root)\n",
    "        print(mod_time)\n",
    "        flware_dat=pd.read_excel(os.path.join(dirname(root),\"Flightaware.xls\"))\n",
    "        print(flware)\n",
    "        dep_time=np.array(list(flware_dat.iloc[:,3]))\n",
    "        print(dep_time)\n",
    "        vc_fun=np.vectorize(find_match)\n",
    "        ind_true=vc_fun(dep_time,mod_time)\n",
    "        print(ind_true)\n",
    "        inds=np.where(vc_fun(dep_time,mod_time))\n",
    "        print(inds[0])\n",
    "        if len(inds[0])>0:\n",
    "            print(inds)\n",
    "            models=np.array(list(flware_dat.iloc[inds[0],1]))\n",
    "            tails=np.array(list(flware_dat.iloc[inds[0],0]))\n",
    "            print(models)\n",
    "            print(tails)"
   ]
  },
  {
   "cell_type": "code",
   "execution_count": null,
   "metadata": {},
   "outputs": [],
   "source": [
    "for root,dirs,files in root_path:\n",
    "    for d in dirs:\n",
    "        dir_path=os.walk(d)\n",
    "        flware_dat=pd.read_excel(os.path.join(root,d,\"Flightaware.xls\"))\n",
    "        for r,di,fil in dir_path:\n",
    "            print(di)\n",
    "            for d1 in di:\n",
    "                print(d1)\n",
    "                if \"_\" in d1:\n",
    "                    if d1 not in processed:\n",
    "                        processed.append(d1)\n",
    "                        time=d1.split(\"_\")[1]\n",
    "                        hrs=int(time[:2])\n",
    "                        mins=int(time[2:4])\n",
    "                        if hrs>12:\n",
    "                            hrs=hrs-12\n",
    "                            mod_time=hrs+\":\"+time[2:4]+\"PM\"\n",
    "                        else:\n",
    "                            mod_time=hrs+\":\"+time[2:4]+\"AM\"\n",
    "                        dep_time=np.array(list(flware_dat.iloc[:,3]))\n",
    "                        inds=np.where(dep_time==mod_time)\n",
    "                        models=np.array(list(flware_dat.iloc[inds,1]))\n",
    "                        for y in models:\n",
    "                            f1=y+time\n",
    "                            print(pd.read_excel(os.path.join(root,d,f1,\"\\Initialflight.xls\")))\n",
    "                    else:\n",
    "                        continue"
   ]
  },
  {
   "cell_type": "markdown",
   "metadata": {},
   "source": [
    "## Automate directory"
   ]
  },
  {
   "cell_type": "code",
   "execution_count": null,
   "metadata": {},
   "outputs": [],
   "source": [
    "root_path=os.walk(\"C:/Users/Manav/20200701\")"
   ]
  },
  {
   "cell_type": "code",
   "execution_count": null,
   "metadata": {},
   "outputs": [],
   "source": [
    "def convert_to_24h(s):\n",
    "    hr=s[0:2]\n",
    "    if len(s)==7:\n",
    "        pm_or_am=s[5:7]\n",
    "        if pm_or_am=='PM' and int(hr)!=12:\n",
    "            hr=str(int(hr)+12)\n",
    "            modified=str(hr)+s[3:5]\n",
    "    else:\n",
    "        pm_or_am=s[8:10]\n",
    "        if pm_or_am=='PM' and int(hr)!=12:\n",
    "            hr=str(int(hr)+12)\n",
    "            modified=str(hr)+s[3:5]+s[6:8]\n",
    "    return modified"
   ]
  },
  {
   "cell_type": "code",
   "execution_count": null,
   "metadata": {},
   "outputs": [],
   "source": [
    "for root,dirs,files in root_path:\n",
    "    print(root)\n",
    "    if os.path.isfile(os.path.join(root,\"Flightaware.xls\"))==True:\n",
    "        dat=pd.read_excel(os.path.join(root,\"Flightaware.xls\"),header=1)\n",
    "        dat.dropna()\n",
    "        print(dat)\n",
    "        do_time=pd.Series(dat.iloc[:,3])\n",
    "        times=do_time.apply(lambda str:str.split(\" \")[1].split(\"\\xa0\")[0])\n",
    "        new_times=times.apply(convert_to_hh_mm)\n",
    "        models=pd.Series(dat.iloc[:,1])\n",
    "        mod_time=pd.concat([models,new_times],axis=1)\n",
    "        print(mod_time)\n",
    "        mod_time['merged']=mod_time[mod_time.columns[0]]+\"_\"+mod_time[mod_time.columns[1]]\n",
    "        merged=mod_time['merged'].to_numpy()\n",
    "        for i in merged:\n",
    "            if type(i)!=float and os.path.isdir(os.path.join(root,i))==False:\n",
    "                os.mkdir(os.path.join(root,i))\n",
    "    else:\n",
    "        continue"
   ]
  },
  {
   "cell_type": "markdown",
   "metadata": {},
   "source": [
    "# exif cam"
   ]
  },
  {
   "cell_type": "code",
   "execution_count": null,
   "metadata": {},
   "outputs": [],
   "source": [
    "path=\"C:/Users/Manav/360CameraMicrophone/Testresults/20200623/\"\n",
    "dat=pd.read_excel(os.path.join(path,\"Metar.xls\"))\n",
    "\n",
    "loc_ind=np.where(np.array(dat.iloc[:,0])==\"Location\")[0]\n",
    "lat,long=dat.iloc[loc_ind,1].to_numpy()[0].split(\",\")\n",
    "lat=float(lat)\n",
    "long=float(long)"
   ]
  },
  {
   "cell_type": "code",
   "execution_count": 20,
   "metadata": {},
   "outputs": [],
   "source": [
    "def degtodms(dd):\n",
    "    is_positive = dd >= 0\n",
    "    dd = abs(dd)\n",
    "    minutes,seconds = divmod(dd*3600,60)\n",
    "    degrees,minutes = divmod(minutes,60)\n",
    "    degrees = degrees if is_positive else -degrees\n",
    "    return (degrees,minutes,seconds)"
   ]
  },
  {
   "cell_type": "code",
   "execution_count": null,
   "metadata": {},
   "outputs": [],
   "source": [
    "lat_deg,lat_min,lat_secs=degtodms(lat)\n",
    "long_deg,long_min,long_secs=degtodms(long)\n",
    "\n",
    "lat_deg_tup=(int(abs(lat_deg)),1)\n",
    "lat_min_tup=(int(lat_min),1)\n",
    "lat_sec_num=600*lat_secs\n",
    "lat_sec_tup=(int(lat_sec_num),600)\n",
    "long_deg_tup=(int(abs(long_deg)),1)\n",
    "long_min_tup=(int(long_min),1)\n",
    "long_sec_num=600*long_secs\n",
    "long_sec_tup=(int(long_sec_num),600)\n",
    "\n",
    "root_path=os.walk(path)\n",
    "\n",
    "w='https://nationalmap.gov/epqs/pqs.php?x={0}&y={1}&units={2}&output={3}'.format(long,lat,\"Feet\",\"xml\")\n",
    "var_url = urlopen(w)\n",
    "xmldoc = parse(var_url)\n",
    "root=xmldoc.iterfind('Elevation_Query')\n",
    "for u in root:\n",
    "    elev=u.findtext('Elevation')\n",
    "    \n",
    "elev_rational=Fraction(str(elev))\n",
    "for root,dirs,files in root_path:\n",
    "    for f in files:\n",
    "        if \".JPG\" in f:\n",
    "            if elev=='-1000000':\n",
    "                print('invalid coordinates')\n",
    "                break\n",
    "            img=Image.open(os.path.join(root,f))\n",
    "            exif_dic=piexif.load(img.info['exif'])\n",
    "            exif_dic['GPS'][piexif.GPSIFD.GPSLatitude]=(lat_deg_tup,lat_min_tup,lat_sec_tup)\n",
    "            exif_dic['GPS'][piexif.GPSIFD.GPSLatitudeRef]='N' if lat_deg>0 else 'S'\n",
    "            exif_dic['GPS'][piexif.GPSIFD.GPSLongitude]=(long_deg_tup,long_min_tup,long_sec_tup)\n",
    "            exif_dic['GPS'][piexif.GPSIFD.GPSLongitudeRef]='E' if long_deg>0 else 'W'\n",
    "            exif_dic['GPS'][piexif.GPSIFD.GPSAltitude]=(elev_rational.numerator,elev_rational.denominator)\n",
    "            exif_dic['GPS'][piexif.GPSIFD.GPSAltitudeRef]=0\n",
    "            #print(exif_dic['GPS'])\n",
    "            exif_dic_bytes=piexif.dump(exif_dic)\n",
    "            img.save(os.path.join(root,f),format='jpeg',exif=exif_dic_bytes)"
   ]
  },
  {
   "cell_type": "markdown",
   "metadata": {},
   "source": [
    "# exif dest"
   ]
  },
  {
   "cell_type": "code",
   "execution_count": null,
   "metadata": {},
   "outputs": [],
   "source": [
    "path='C:/Users/Manav/Testresults/20200701/'\n",
    "root_path=os.walk(path)\n",
    "for root,dirs,files in root_path:\n",
    "    if os.path.isfile(os.path.join(root,'Geolocations.xlsx')):\n",
    "        geolocationsData=pd.read_excel(os.path.join(root,'Geolocations.xlsx'),header=2)\n",
    "        is_present_rectangle_coord=0\n",
    "        for file_number in range(len(geolocationsData['File Name'])):\n",
    "            if \".JPG\" in file:\n",
    "                #print(file_count)\n",
    "                img=Image.open(os.path.join(root,geolocationsData['File Name'].iloc[file_number]))\n",
    "                exif_dic=piexif.load(img.info['exif'])\n",
    "                altitude=geolocationsData['DestAltitude'].iloc[file_number]\n",
    "                latitude=geolocationsData['DestLat'].iloc[file_number]\n",
    "                longitude=geolocationsData['DestLong'].iloc[file_number]\n",
    "                elevation=geolocationsData['DestElevation'].iloc[file_number]\n",
    "                if 'DestBearingPositive' in geolocationsData.columns:\n",
    "                    bearing=geolocationsData['DestBearingPositive'].iloc[file_number]\n",
    "                else:\n",
    "                    bearing=geolocationsData['DestBearing'].iloc[file_number]\n",
    "                distance=geolocationsData['DestDistance'].iloc[file_number]\n",
    "                if 'Top' in geolocationsData.columns:\n",
    "                    top=geolocationsData['Top'].iloc[file_number]\n",
    "                    bottom=geolocationsData['Bottom'].iloc[file_number]\n",
    "                    left=geolocationsData['Left'].iloc[file_number]\n",
    "                    right=geolocationsData['Right'].iloc[file_number]\n",
    "                    is_present_rectangle_coord=1\n",
    "\n",
    "                distance_kms=distance*0.305*0.001\n",
    "                elevation_rational=int(elevation)\n",
    "                altitude_rational_numerator=altitude*100\n",
    "                distance_rational_numerator=int(distance_kms*100)\n",
    "                elevation_rational_numerator=elevation_rational*100\n",
    "                bearing_rational_numerator=bearing*100\n",
    "\n",
    "                lat_deg,lat_min,lat_secs=degtodms(latitude)\n",
    "                longitude_deg,longitude_min,longitude_secs=degtodms(longitude)\n",
    "                lat_deg_tup=(int(abs(lat_deg)),1)\n",
    "                lat_min_tup=(int(lat_min),1)\n",
    "                lat_sec_num=600*lat_secs\n",
    "                lat_sec_tup=(int(lat_sec_num),600)\n",
    "                longitude_deg_tup=(int(abs(longitude_deg)),1)\n",
    "                longitude_min_tup=(int(longitude_min),1)\n",
    "                longitude_sec_num=600*longitude_secs\n",
    "                longitude_sec_tup=(int(longitude_sec_num),600)\n",
    "\n",
    "                exif_dic['GPS'][piexif.GPSIFD.GPSDestLatitude]=(lat_deg_tup,lat_min_tup,lat_sec_tup)\n",
    "                exif_dic['GPS'][piexif.GPSIFD.GPSDestLatitudeRef]='N' if lat_deg>0 else 'S'\n",
    "                exif_dic['GPS'][piexif.GPSIFD.GPSDestLongitude]=(longitude_deg_tup,longitude_min_tup,longitude_sec_tup)\n",
    "                exif_dic['GPS'][piexif.GPSIFD.GPSDestLongitudeRef]='E' if longitude_deg>0 else 'W'\n",
    "                exif_dic['GPS'][piexif.GPSIFD.GPSTrack]=(int(altitude_rational_numerator),100)   #this is used as there is no other suitable field\n",
    "                exif_dic['GPS'][piexif.GPSIFD.GPSDestDistance]=(distance_rational_numerator,100)\n",
    "                exif_dic['GPS'][piexif.GPSIFD.GPSDestDistanceRef]='K'\n",
    "                exif_dic['GPS'][piexif.GPSIFD.GPSImgDirection]=(elevation_rational_numerator,100)\n",
    "                exif_dic['GPS'][piexif.GPSIFD.GPSDestBearing]=(int(bearing_rational_numerator),100)\n",
    "                exif_dic['GPS'][piexif.GPSIFD.GPSDestBearingRef]='T'\n",
    "                if is_present_rectangle_coord==1:\n",
    "                    exif_dic['0th'][piexif.ImageIFD.ActiveArea]=(np.ushort(top),np.ushort(left),np.ushort(bottom),np.ushort(right))\n",
    "\n",
    "                exif_dic_bytes=piexif.dump(exif_dic)\n",
    "                img.save(os.path.join(root,geolocationsData['File Name'].iloc[file_number]),format='jpeg',exif=exif_dic_bytes)"
   ]
  },
  {
   "cell_type": "code",
   "execution_count": null,
   "metadata": {},
   "outputs": [],
   "source": [
    "dat=pd.read_excel('Geolocations (4).xlsx',header=2)"
   ]
  },
  {
   "cell_type": "code",
   "execution_count": null,
   "metadata": {},
   "outputs": [],
   "source": [
    "dat_na=dat[pd.isna(dat['DestLat'])]"
   ]
  },
  {
   "cell_type": "code",
   "execution_count": null,
   "metadata": {},
   "outputs": [],
   "source": [
    "k=dat[0:9]"
   ]
  },
  {
   "cell_type": "code",
   "execution_count": null,
   "metadata": {},
   "outputs": [],
   "source": [
    "knowns=k['time']"
   ]
  },
  {
   "cell_type": "code",
   "execution_count": null,
   "metadata": {},
   "outputs": [],
   "source": [
    "def obtain_nums(x):\n",
    "    low=0\n",
    "    high=len(knowns)-1\n",
    "    mid=(low+high)//2\n",
    "    while low<=high and high>=0:\n",
    "        mid=(low+high)//2\n",
    "        if low==high-1:\n",
    "            return (low,high)\n",
    "        elif knowns[mid]>x:\n",
    "            high=mid\n",
    "        elif knowns[mid]<x:\n",
    "            low=mid"
   ]
  },
  {
   "cell_type": "code",
   "execution_count": null,
   "metadata": {},
   "outputs": [],
   "source": [
    "bounds=dat_na['time'].apply(obtain_nums)"
   ]
  },
  {
   "cell_type": "code",
   "execution_count": null,
   "metadata": {},
   "outputs": [],
   "source": [
    "req_ind=bounds.index"
   ]
  },
  {
   "cell_type": "code",
   "execution_count": null,
   "metadata": {},
   "outputs": [],
   "source": [
    "lists=[]\n",
    "heights=[]"
   ]
  },
  {
   "cell_type": "code",
   "execution_count": null,
   "metadata": {},
   "outputs": [],
   "source": [
    "req_ind=bounds.index"
   ]
  },
  {
   "cell_type": "code",
   "execution_count": null,
   "metadata": {},
   "outputs": [],
   "source": [
    "dat['time']=dat['time'].apply(lambda x:x.strftime('%r'))"
   ]
  },
  {
   "cell_type": "code",
   "execution_count": null,
   "metadata": {},
   "outputs": [],
   "source": [
    "dat['time']=pd.to_timedelta(dat['time'])"
   ]
  },
  {
   "cell_type": "code",
   "execution_count": null,
   "metadata": {},
   "outputs": [],
   "source": [
    "for i in range(len(req_ind)):\n",
    "    u_ind=bounds.index[i]\n",
    "    print(u_ind)\n",
    "    p1_ind=bounds.iloc[i,][0]\n",
    "    p2_ind=bounds.iloc[i,][1]\n",
    "    lat=dat.iloc[p1_ind,2]+((dat.iloc[u_ind,1]-dat.iloc[p1_ind,1])/(dat.iloc[p2_ind,1]-dat.iloc[p1_ind,1]))*(dat.iloc[p2_ind,2]-dat.iloc[p1_ind,2])\n",
    "    long=dat.iloc[p1_ind,3]+((dat.iloc[u_ind,1]-dat.iloc[p1_ind,1])/(dat.iloc[p2_ind,1]-dat.iloc[p1_ind,1]))*(dat.iloc[p2_ind,3]-dat.iloc[p1_ind,3])\n",
    "    height=dat.iloc[p1_ind,4]+((dat.iloc[u_ind,1]-dat.iloc[p1_ind,1])/(dat.iloc[p2_ind,1]-dat.iloc[p1_ind,1]))*(dat.iloc[p2_ind,4]-dat.iloc[p1_ind,4])\n",
    "    lists.append((lat,long,height))"
   ]
  },
  {
   "cell_type": "code",
   "execution_count": null,
   "metadata": {},
   "outputs": [],
   "source": [
    "lists"
   ]
  },
  {
   "cell_type": "code",
   "execution_count": null,
   "metadata": {},
   "outputs": [],
   "source": [
    "req_ind+4"
   ]
  },
  {
   "cell_type": "code",
   "execution_count": null,
   "metadata": {},
   "outputs": [],
   "source": [
    "dat_na"
   ]
  },
  {
   "cell_type": "code",
   "execution_count": null,
   "metadata": {},
   "outputs": [],
   "source": [
    "bounds"
   ]
  },
  {
   "cell_type": "code",
   "execution_count": null,
   "metadata": {},
   "outputs": [],
   "source": [
    "dat_na"
   ]
  },
  {
   "cell_type": "markdown",
   "metadata": {},
   "source": [
    "# image extraction"
   ]
  }
 ],
 "metadata": {
  "kernelspec": {
   "display_name": "Python 3",
   "language": "python",
   "name": "python3"
  },
  "language_info": {
   "codemirror_mode": {
    "name": "ipython",
    "version": 3
   },
   "file_extension": ".py",
   "mimetype": "text/x-python",
   "name": "python",
   "nbconvert_exporter": "python",
   "pygments_lexer": "ipython3",
   "version": "3.7.1"
  }
 },
 "nbformat": 4,
 "nbformat_minor": 2
}
