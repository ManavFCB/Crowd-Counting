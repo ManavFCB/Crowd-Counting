{
  "nbformat": 4,
  "nbformat_minor": 0,
  "metadata": {
    "colab": {
      "name": "CC_P2.ipynb",
      "provenance": [],
      "authorship_tag": "ABX9TyM08uthlKEaYzdFpWfNkjlP",
      "include_colab_link": true
    },
    "kernelspec": {
      "name": "python3",
      "display_name": "Python 3"
    },
    "language_info": {
      "name": "python"
    }
  },
  "cells": [
    {
      "cell_type": "markdown",
      "metadata": {
        "id": "view-in-github",
        "colab_type": "text"
      },
      "source": [
        "<a href=\"https://colab.research.google.com/github/ManavFCB/Crowd-Counting/blob/master/CC_P2.ipynb\" target=\"_parent\"><img src=\"https://colab.research.google.com/assets/colab-badge.svg\" alt=\"Open In Colab\"/></a>"
      ]
    },
    {
      "cell_type": "code",
      "metadata": {
        "id": "5PQxYacu3_bR"
      },
      "source": [
        "import cv2\n",
        "from google.colab.patches import cv2_imshow\n",
        "import numpy as np\n",
        "import os\n",
        "from google.colab import drive\n",
        "import pandas as pd\n",
        "from scipy.ndimage import gaussian_filter\n",
        "import tensorflow as tf\n",
        "from tensorflow.keras import layers, models\n",
        "from sklearn.neighbors import KernelDensity\n",
        "import matplotlib.pyplot as plt"
      ],
      "execution_count": 1,
      "outputs": []
    },
    {
      "cell_type": "code",
      "metadata": {
        "colab": {
          "base_uri": "https://localhost:8080/"
        },
        "id": "xPx-rIza4EAS",
        "outputId": "2984da93-eeac-45e6-8ec8-5c6bb110bae8"
      },
      "source": [
        "drive.mount('/content/gdrive/', force_remount=True)"
      ],
      "execution_count": null,
      "outputs": [
        {
          "output_type": "stream",
          "text": [
            "Mounted at /content/gdrive/\n"
          ],
          "name": "stdout"
        }
      ]
    },
    {
      "cell_type": "markdown",
      "metadata": {
        "id": "nwJrP5-A47Sy"
      },
      "source": [
        "**Generate annotation maps**"
      ]
    },
    {
      "cell_type": "code",
      "metadata": {
        "id": "uH3SQZIP4Ho3"
      },
      "source": [
        "path = '/content/gdrive/MyDrive/nwpu/jsons'"
      ],
      "execution_count": null,
      "outputs": []
    },
    {
      "cell_type": "code",
      "metadata": {
        "colab": {
          "base_uri": "https://localhost:8080/",
          "height": 1000
        },
        "id": "CAaP1hKS5CMK",
        "outputId": "e6bb8a76-28bc-4ee5-d784-067c5a5d90b2"
      },
      "source": [
        "s = \"annotation_map_5\"\n",
        "sigma = 5\n",
        "for root, dirs, files in os.walk(path):\n",
        "  print(root)\n",
        "  for file in files:\n",
        "    img_json = pd.read_json(os.path.join(root, file))\n",
        "    img_name = file.split('.')[0]\n",
        "    parent = root.split('/jsons')[0]\n",
        "    if len(img_json) > 60 and img_json['human_num'].iloc[0] < 450: #larger numbers take time\n",
        "      if not os.path.isfile(os.path.join(parent, s, img_name + \".jpg\")):\n",
        "        print(file)\n",
        "        img = cv2.imread(os.path.join(parent, img_name+'.jpg'), cv2.IMREAD_GRAYSCALE)\n",
        "        annotations = img_json['points']\n",
        "        annotation_map = np.zeros(img.shape, dtype = 'int')\n",
        "        for annotation in annotations:\n",
        "          x = int(annotation[0])\n",
        "          y = int(annotation[1])\n",
        "          annotation_map[y, x] = 255\n",
        "          map = gaussian_filter(annotation_map, sigma = sigma, order = 0)\n",
        "        if not os.path.isdir(os.path.join(parent, s)):\n",
        "          print(\"created:\"+os.path.join(parent, s))\n",
        "          os.mkdir(os.path.join(parent, s))\n",
        "        cv2.imwrite(os.path.join(parent, s, img_name + \".jpg\"), map)\n",
        "      else:\n",
        "        continue\n",
        "    else:\n",
        "      continue"
      ],
      "execution_count": null,
      "outputs": [
        {
          "output_type": "stream",
          "text": [
            "/content/gdrive/MyDrive/nwpu/jsons\n",
            "1216.json\n",
            "1218.json\n",
            "1217.json\n",
            "1219.json\n",
            "1220.json\n",
            "1223.json\n",
            "1221.json\n",
            "1230.json\n",
            "1229.json\n",
            "1231.json\n",
            "1232.json\n",
            "1233.json\n",
            "1234.json\n",
            "1238.json\n",
            "1240.json\n",
            "1246.json\n",
            "1247.json\n",
            "1249.json\n",
            "1248.json\n",
            "1251.json\n",
            "1253.json\n",
            "1261.json\n",
            "1262.json\n",
            "1263.json\n",
            "1266.json\n",
            "1268.json\n",
            "1270.json\n",
            "1267.json\n",
            "1271.json\n",
            "1272.json\n",
            "1274.json\n",
            "1273.json\n",
            "1277.json\n",
            "1279.json\n",
            "1280.json\n",
            "1283.json\n",
            "1287.json\n",
            "1290.json\n",
            "1291.json\n",
            "1292.json\n",
            "1293.json\n",
            "1294.json\n",
            "1295.json\n",
            "1297.json\n",
            "1299.json\n",
            "1302.json\n",
            "1304.json\n",
            "1305.json\n",
            "1303.json\n",
            "1306.json\n",
            "1307.json\n",
            "1310.json\n",
            "1311.json\n",
            "1313.json\n",
            "1312.json\n",
            "1316.json\n",
            "1317.json\n",
            "1314.json\n",
            "1318.json\n",
            "1320.json\n",
            "1321.json\n",
            "1326.json\n",
            "1325.json\n",
            "1329.json\n",
            "1331.json\n",
            "1340.json\n",
            "1342.json\n",
            "1343.json\n",
            "1345.json\n",
            "1347.json\n",
            "1346.json\n",
            "1348.json\n",
            "1349.json\n",
            "1350.json\n",
            "1352.json\n",
            "1357.json\n",
            "1355.json\n",
            "1359.json\n",
            "1356.json\n",
            "1358.json\n",
            "1362.json\n",
            "1363.json\n",
            "1367.json\n",
            "1371.json\n",
            "1372.json\n",
            "1373.json\n",
            "1375.json\n",
            "1377.json\n",
            "1378.json\n",
            "1380.json\n",
            "1381.json\n",
            "1382.json\n",
            "1383.json\n",
            "1389.json\n",
            "1390.json\n",
            "1391.json\n"
          ],
          "name": "stdout"
        },
        {
          "output_type": "error",
          "ename": "KeyboardInterrupt",
          "evalue": "ignored",
          "traceback": [
            "\u001b[0;31m---------------------------------------------------------------------------\u001b[0m",
            "\u001b[0;31mKeyboardInterrupt\u001b[0m                         Traceback (most recent call last)",
            "\u001b[0;32m<ipython-input-5-c6fe54881e36>\u001b[0m in \u001b[0;36m<module>\u001b[0;34m()\u001b[0m\n\u001b[1;32m     17\u001b[0m           \u001b[0my\u001b[0m \u001b[0;34m=\u001b[0m \u001b[0mint\u001b[0m\u001b[0;34m(\u001b[0m\u001b[0mannotation\u001b[0m\u001b[0;34m[\u001b[0m\u001b[0;36m1\u001b[0m\u001b[0;34m]\u001b[0m\u001b[0;34m)\u001b[0m\u001b[0;34m\u001b[0m\u001b[0;34m\u001b[0m\u001b[0m\n\u001b[1;32m     18\u001b[0m           \u001b[0mannotation_map\u001b[0m\u001b[0;34m[\u001b[0m\u001b[0my\u001b[0m\u001b[0;34m,\u001b[0m \u001b[0mx\u001b[0m\u001b[0;34m]\u001b[0m \u001b[0;34m=\u001b[0m \u001b[0;36m255\u001b[0m\u001b[0;34m\u001b[0m\u001b[0;34m\u001b[0m\u001b[0m\n\u001b[0;32m---> 19\u001b[0;31m           \u001b[0mmap\u001b[0m \u001b[0;34m=\u001b[0m \u001b[0mgaussian_filter\u001b[0m\u001b[0;34m(\u001b[0m\u001b[0mannotation_map\u001b[0m\u001b[0;34m,\u001b[0m \u001b[0msigma\u001b[0m \u001b[0;34m=\u001b[0m \u001b[0msigma\u001b[0m\u001b[0;34m,\u001b[0m \u001b[0morder\u001b[0m \u001b[0;34m=\u001b[0m \u001b[0;36m0\u001b[0m\u001b[0;34m)\u001b[0m\u001b[0;34m\u001b[0m\u001b[0;34m\u001b[0m\u001b[0m\n\u001b[0m\u001b[1;32m     20\u001b[0m         \u001b[0;32mif\u001b[0m \u001b[0;32mnot\u001b[0m \u001b[0mos\u001b[0m\u001b[0;34m.\u001b[0m\u001b[0mpath\u001b[0m\u001b[0;34m.\u001b[0m\u001b[0misdir\u001b[0m\u001b[0;34m(\u001b[0m\u001b[0mos\u001b[0m\u001b[0;34m.\u001b[0m\u001b[0mpath\u001b[0m\u001b[0;34m.\u001b[0m\u001b[0mjoin\u001b[0m\u001b[0;34m(\u001b[0m\u001b[0mparent\u001b[0m\u001b[0;34m,\u001b[0m \u001b[0ms\u001b[0m\u001b[0;34m)\u001b[0m\u001b[0;34m)\u001b[0m\u001b[0;34m:\u001b[0m\u001b[0;34m\u001b[0m\u001b[0;34m\u001b[0m\u001b[0m\n\u001b[1;32m     21\u001b[0m           \u001b[0mprint\u001b[0m\u001b[0;34m(\u001b[0m\u001b[0;34m\"created:\"\u001b[0m\u001b[0;34m+\u001b[0m\u001b[0mos\u001b[0m\u001b[0;34m.\u001b[0m\u001b[0mpath\u001b[0m\u001b[0;34m.\u001b[0m\u001b[0mjoin\u001b[0m\u001b[0;34m(\u001b[0m\u001b[0mparent\u001b[0m\u001b[0;34m,\u001b[0m \u001b[0ms\u001b[0m\u001b[0;34m)\u001b[0m\u001b[0;34m)\u001b[0m\u001b[0;34m\u001b[0m\u001b[0;34m\u001b[0m\u001b[0m\n",
            "\u001b[0;32m/usr/local/lib/python3.7/dist-packages/scipy/ndimage/filters.py\u001b[0m in \u001b[0;36mgaussian_filter\u001b[0;34m(input, sigma, order, output, mode, cval, truncate)\u001b[0m\n\u001b[1;32m    297\u001b[0m         \u001b[0;32mfor\u001b[0m \u001b[0maxis\u001b[0m\u001b[0;34m,\u001b[0m \u001b[0msigma\u001b[0m\u001b[0;34m,\u001b[0m \u001b[0morder\u001b[0m\u001b[0;34m,\u001b[0m \u001b[0mmode\u001b[0m \u001b[0;32min\u001b[0m \u001b[0maxes\u001b[0m\u001b[0;34m:\u001b[0m\u001b[0;34m\u001b[0m\u001b[0;34m\u001b[0m\u001b[0m\n\u001b[1;32m    298\u001b[0m             gaussian_filter1d(input, sigma, axis, order, output,\n\u001b[0;32m--> 299\u001b[0;31m                               mode, cval, truncate)\n\u001b[0m\u001b[1;32m    300\u001b[0m             \u001b[0minput\u001b[0m \u001b[0;34m=\u001b[0m \u001b[0moutput\u001b[0m\u001b[0;34m\u001b[0m\u001b[0;34m\u001b[0m\u001b[0m\n\u001b[1;32m    301\u001b[0m     \u001b[0;32melse\u001b[0m\u001b[0;34m:\u001b[0m\u001b[0;34m\u001b[0m\u001b[0;34m\u001b[0m\u001b[0m\n",
            "\u001b[0;32m/usr/local/lib/python3.7/dist-packages/scipy/ndimage/filters.py\u001b[0m in \u001b[0;36mgaussian_filter1d\u001b[0;34m(input, sigma, axis, order, output, mode, cval, truncate)\u001b[0m\n\u001b[1;32m    215\u001b[0m     \u001b[0;31m# Since we are calling correlate, not convolve, revert the kernel\u001b[0m\u001b[0;34m\u001b[0m\u001b[0;34m\u001b[0m\u001b[0;34m\u001b[0m\u001b[0m\n\u001b[1;32m    216\u001b[0m     \u001b[0mweights\u001b[0m \u001b[0;34m=\u001b[0m \u001b[0m_gaussian_kernel1d\u001b[0m\u001b[0;34m(\u001b[0m\u001b[0msigma\u001b[0m\u001b[0;34m,\u001b[0m \u001b[0morder\u001b[0m\u001b[0;34m,\u001b[0m \u001b[0mlw\u001b[0m\u001b[0;34m)\u001b[0m\u001b[0;34m[\u001b[0m\u001b[0;34m:\u001b[0m\u001b[0;34m:\u001b[0m\u001b[0;34m-\u001b[0m\u001b[0;36m1\u001b[0m\u001b[0;34m]\u001b[0m\u001b[0;34m\u001b[0m\u001b[0;34m\u001b[0m\u001b[0m\n\u001b[0;32m--> 217\u001b[0;31m     \u001b[0;32mreturn\u001b[0m \u001b[0mcorrelate1d\u001b[0m\u001b[0;34m(\u001b[0m\u001b[0minput\u001b[0m\u001b[0;34m,\u001b[0m \u001b[0mweights\u001b[0m\u001b[0;34m,\u001b[0m \u001b[0maxis\u001b[0m\u001b[0;34m,\u001b[0m \u001b[0moutput\u001b[0m\u001b[0;34m,\u001b[0m \u001b[0mmode\u001b[0m\u001b[0;34m,\u001b[0m \u001b[0mcval\u001b[0m\u001b[0;34m,\u001b[0m \u001b[0;36m0\u001b[0m\u001b[0;34m)\u001b[0m\u001b[0;34m\u001b[0m\u001b[0;34m\u001b[0m\u001b[0m\n\u001b[0m\u001b[1;32m    218\u001b[0m \u001b[0;34m\u001b[0m\u001b[0m\n\u001b[1;32m    219\u001b[0m \u001b[0;34m\u001b[0m\u001b[0m\n",
            "\u001b[0;32m/usr/local/lib/python3.7/dist-packages/scipy/ndimage/filters.py\u001b[0m in \u001b[0;36mcorrelate1d\u001b[0;34m(input, weights, axis, output, mode, cval, origin)\u001b[0m\n\u001b[1;32m     93\u001b[0m     \u001b[0mmode\u001b[0m \u001b[0;34m=\u001b[0m \u001b[0m_ni_support\u001b[0m\u001b[0;34m.\u001b[0m\u001b[0m_extend_mode_to_code\u001b[0m\u001b[0;34m(\u001b[0m\u001b[0mmode\u001b[0m\u001b[0;34m)\u001b[0m\u001b[0;34m\u001b[0m\u001b[0;34m\u001b[0m\u001b[0m\n\u001b[1;32m     94\u001b[0m     _nd_image.correlate1d(input, weights, axis, output, mode, cval,\n\u001b[0;32m---> 95\u001b[0;31m                           origin)\n\u001b[0m\u001b[1;32m     96\u001b[0m     \u001b[0;32mreturn\u001b[0m \u001b[0moutput\u001b[0m\u001b[0;34m\u001b[0m\u001b[0;34m\u001b[0m\u001b[0m\n\u001b[1;32m     97\u001b[0m \u001b[0;34m\u001b[0m\u001b[0m\n",
            "\u001b[0;31mKeyboardInterrupt\u001b[0m: "
          ]
        }
      ]
    },
    {
      "cell_type": "code",
      "metadata": {
        "id": "JTWkEdCnmJT-"
      },
      "source": [
        "while True:\n",
        "  pass"
      ],
      "execution_count": null,
      "outputs": []
    },
    {
      "cell_type": "code",
      "metadata": {
        "colab": {
          "base_uri": "https://localhost:8080/",
          "height": 286
        },
        "id": "h2O7asvg8DF9",
        "outputId": "4c42f9f1-6198-435e-f22c-c7d938a54fe6"
      },
      "source": [
        "s = cv2.imread('/content/gdrive/MyDrive/nwpu/annotation_map_5/1389.jpg', cv2.IMREAD_GRAYSCALE)\n",
        "_, s = cv2.threshold(s, 0, 1, cv2.THRESH_BINARY + cv2.THRESH_OTSU)\n",
        "plt.imshow(s)"
      ],
      "execution_count": null,
      "outputs": [
        {
          "output_type": "execute_result",
          "data": {
            "text/plain": [
              "<matplotlib.image.AxesImage at 0x7fc73d0aea90>"
            ]
          },
          "metadata": {
            "tags": []
          },
          "execution_count": 11
        },
        {
          "output_type": "display_data",
          "data": {
            "image/png": "[encoded data removed]",
            "text/plain": [
              "<Figure size 432x288 with 1 Axes>"
            ]
          },
          "metadata": {
            "tags": [],
            "needs_background": "light"
          }
        }
      ]
    },
    {
      "cell_type": "code",
      "metadata": {
        "id": "6AWLHM7GExce"
      },
      "source": [
        "map = map.astype('uint8')"
      ],
      "execution_count": null,
      "outputs": []
    },
    {
      "cell_type": "code",
      "metadata": {
        "id": "_oUgiUY08vMR"
      },
      "source": [
        ""
      ],
      "execution_count": null,
      "outputs": []
    },
    {
      "cell_type": "markdown",
      "metadata": {
        "id": "XBJw9gus2R-Z"
      },
      "source": [
        "**Region Division**"
      ]
    },
    {
      "cell_type": "markdown",
      "metadata": {
        "id": "YBZ3OgZs2ayb"
      },
      "source": [
        "**code to generate counts per region**"
      ]
    },
    {
      "cell_type": "code",
      "metadata": {
        "id": "yLH58ux62Zpg"
      },
      "source": [
        "# generates counts per region for every image. To be called in the function that divides the image\n",
        "# div_coordinates should be a list of points at which the image is divided (inclusive of the start and end points); e.g [0, 360, 720, 1080, ...]\n",
        "# this code assumes 9 regions per image.\n",
        "def regionCountGenerate(img_json_df, div_coordinates):\n",
        "  num_regions = (len(div_coordinates) - 1) ** 2\n",
        "  counts = [0] * num_tuples\n",
        "  for point in img_json_df['points']:\n",
        "    num = check_range_x(point[0])\n",
        "    if point[1] in range(div_coordinates[0], div_coordinates[1]):\n",
        "      counts[0 + num] += 1\n",
        "    elif point[1] in range(div_coordinates[1], div_coordinates[2]):\n",
        "      counts[3 + num] += 1\n",
        "    else:\n",
        "      counts[6 + num] += 1\n",
        "\n",
        "# perform boundary checks along x-axis\n",
        "def check_range_x(point):\n",
        "  if point in range(div_coordinates[0], div_coordinates[1]):\n",
        "    return 0\n",
        "  elif point in range(div_coordinates[1], div_coordinates[2]):\n",
        "    return 1\n",
        "  elif point in range(div_coordinates[2], div_coordinates[3]):\n",
        "    return 2"
      ],
      "execution_count": null,
      "outputs": []
    }
  ]
}